{
  "nbformat": 4,
  "nbformat_minor": 0,
  "metadata": {
    "colab": {
      "provenance": [],
      "authorship_tag": "ABX9TyPBE9bwY4vvQxfbBwJLX1UR",
      "include_colab_link": true
    },
    "kernelspec": {
      "name": "python3",
      "display_name": "Python 3"
    },
    "language_info": {
      "name": "python"
    }
  },
  "cells": [
    {
      "cell_type": "markdown",
      "metadata": {
        "id": "view-in-github",
        "colab_type": "text"
      },
      "source": [
        "<a href=\"https://colab.research.google.com/github/lazy-wolf/python-class-notes/blob/main/Assignment_1.ipynb\" target=\"_parent\"><img src=\"https://colab.research.google.com/assets/colab-badge.svg\" alt=\"Open In Colab\"/></a>"
      ]
    },
    {
      "cell_type": "markdown",
      "source": [
        "**Assignment 1**\n",
        "\n",
        "```\n",
        "# Authoured by: Wasim Dawood Shaik\n",
        "# UNB ID: 3744476\n",
        "# Date: 05-10-2023\n",
        "```\n",
        "\n",
        "\n",
        "\n",
        "\n",
        "\n",
        "\n"
      ],
      "metadata": {
        "id": "k0nOtwwGADuE"
      }
    },
    {
      "cell_type": "markdown",
      "source": [
        "**Import Libraries**"
      ],
      "metadata": {
        "id": "t8WA2nfmBBdR"
      }
    },
    {
      "cell_type": "code",
      "source": [
        "import tensorflow as tf\n",
        "from tensorflow.keras.datasets import mnist\n",
        "from tensorflow.keras.preprocessing import image\n",
        "import numpy as np\n",
        "import os\n",
        "from PIL import Image, ImageFilter\n",
        "import matplotlib.pyplot as plt\n",
        "from tensorflow.keras import datasets, layers, models\n",
        "from google.colab import drive"
      ],
      "metadata": {
        "id": "zUqYg_Da__iW"
      },
      "execution_count": 6,
      "outputs": []
    },
    {
      "cell_type": "markdown",
      "source": [
        "**Mounting Google Drive in Google Colab**"
      ],
      "metadata": {
        "id": "is4L7LwCBNE2"
      }
    },
    {
      "cell_type": "code",
      "source": [
        "drive.mount('/content/drive')"
      ],
      "metadata": {
        "id": "FYVQD5vMBJ8R",
        "outputId": "de8724a4-921e-4e2b-f1cd-4cdaa4ef2af2",
        "colab": {
          "base_uri": "https://localhost:8080/"
        }
      },
      "execution_count": 7,
      "outputs": [
        {
          "output_type": "stream",
          "name": "stdout",
          "text": [
            "Mounted at /content/drive\n"
          ]
        }
      ]
    },
    {
      "cell_type": "markdown",
      "source": [
        "**Load custom images from Google Drive**"
      ],
      "metadata": {
        "id": "BNaxWUOoB3R1"
      }
    },
    {
      "cell_type": "code",
      "source": [
        "# Load custom images from Google Drive\n",
        "custom_images = []\n",
        "custom_labels = []\n",
        "base_folder_path = '/content/drive/MyDrive/TME_6015/Assignment_1'\n",
        "for folder_name in os.listdir(base_folder_path):\n",
        "    folder_path = os.path.join(base_folder_path, folder_name)\n",
        "    print(folder_path)\n",
        "    if os.path.isdir(folder_path):\n",
        "        for filename in os.listdir(folder_path):\n",
        "          print('filename', filename)\n",
        "          if filename.endswith('.png') or filename.endswith('.PNG') or filename.endswith('.JPG') or filename.endswith('.jpg'):\n",
        "              img_path = os.path.join(folder_path, filename)\n",
        "              img = Image.open(img_path).convert('L')  # convert image to grayscale\n",
        "              img = img.resize((28, 28))  # resize image to match MNIST data\n",
        "              img = img.rotate(-90)\n",
        "              threshold = 100\n",
        "              img = img.point(lambda p: p > threshold and 255)\n",
        "              img_array = np.array(img)\n",
        "              custom_images.append(img_array)\n",
        "              custom_labels.append(int(folder_name))  # use folder name as label\n",
        "\n",
        "# Convert the list of custom images and labels to numpy arrays\n",
        "custom_images = np.array(custom_images)\n",
        "custom_labels = np.array(custom_labels)\n",
        "\n",
        "# Preprocess the custom images\n",
        "custom_images = custom_images / 255.0"
      ],
      "metadata": {
        "id": "OVRxvf3FBMJg",
        "outputId": "1b169ea5-1ae7-4350-c86f-3640019b9e78",
        "colab": {
          "base_uri": "https://localhost:8080/"
        }
      },
      "execution_count": 8,
      "outputs": [
        {
          "output_type": "stream",
          "name": "stdout",
          "text": [
            "/content/drive/MyDrive/TME_6015/Assignment_1/7\n",
            "filename 7-1.jpg\n",
            "filename 7-2.png\n",
            "filename 7-3.png\n",
            "/content/drive/MyDrive/TME_6015/Assignment_1/1\n",
            "filename 1-1.jpg\n",
            "filename 1-2.png\n",
            "filename 1-3`.png\n",
            "/content/drive/MyDrive/TME_6015/Assignment_1/2\n",
            "filename 2-1.jpg\n",
            "filename 2-2.png\n",
            "filename 2-3.png\n",
            "/content/drive/MyDrive/TME_6015/Assignment_1/3\n",
            "filename 3-1.jpg\n",
            "filename 3-2.png\n",
            "filename 3-3.png\n",
            "/content/drive/MyDrive/TME_6015/Assignment_1/4\n",
            "filename 4-1.jpg\n",
            "filename 4-2.png\n",
            "filename 4-3.png\n",
            "/content/drive/MyDrive/TME_6015/Assignment_1/5\n",
            "filename 5-1.jpg\n",
            "filename 5-2.png\n",
            "filename 5-3.png\n",
            "/content/drive/MyDrive/TME_6015/Assignment_1/6\n",
            "filename 6-1.jpg\n",
            "filename 6-2.png\n",
            "filename 6-3.png\n",
            "/content/drive/MyDrive/TME_6015/Assignment_1/8\n",
            "filename 8-1.jpg\n",
            "filename 8-2.png\n",
            "filename 8-3.png\n",
            "/content/drive/MyDrive/TME_6015/Assignment_1/9\n",
            "filename 9-1.jpg\n",
            "filename 9-2.png\n",
            "filename 9-3.png\n",
            "/content/drive/MyDrive/TME_6015/Assignment_1/0\n",
            "filename 0-1.jpg\n",
            "filename 0-2.png\n",
            "filename 0-3.png\n"
          ]
        }
      ]
    },
    {
      "cell_type": "code",
      "source": [
        "display_image = custom_images[2] * 255\n",
        "\n",
        "# Convert the image data to uint8\n",
        "display_image = display_image.astype(np.uint8)\n",
        "\n",
        "# Create a PIL image\n",
        "img = Image.fromarray(display_image)\n",
        "\n",
        "# Display the image\n",
        "img"
      ],
      "metadata": {
        "id": "njR2-G8_C45W",
        "outputId": "f446f0d7-66cb-498d-d169-0827172d7ff9",
        "colab": {
          "base_uri": "https://localhost:8080/",
          "height": 45
        }
      },
      "execution_count": 18,
      "outputs": [
        {
          "output_type": "execute_result",
          "data": {
            "text/plain": [
              "<PIL.Image.Image image mode=L size=28x28>"
            ],
            "image/png": "[encoded data removed]"
          },
          "metadata": {},
          "execution_count": 18
        }
      ]
    },
    {
      "cell_type": "markdown",
      "source": [
        "**Plotting the data**"
      ],
      "metadata": {
        "id": "BIS1TtwSCRKh"
      }
    },
    {
      "cell_type": "code",
      "source": [
        "plt.figure(figsize=(14,14))\n",
        "for i in range(30):\n",
        "    plt.subplot(10,3,i+1)\n",
        "    plt.xticks([])\n",
        "    plt.yticks([])\n",
        "    plt.grid(False)\n",
        "    plt.imshow(custom_images[i])\n",
        "    plt.xlabel(custom_labels[i])\n",
        "plt.show()"
      ],
      "metadata": {
        "id": "k7i8XXFHBwuU",
        "outputId": "adfa4537-dc16-45ec-fe6a-7e13ca13a6a8",
        "colab": {
          "base_uri": "https://localhost:8080/",
          "height": 1000
        }
      },
      "execution_count": 12,
      "outputs": [
        {
          "output_type": "display_data",
          "data": {
            "text/plain": [
              "<Figure size 1400x1400 with 30 Axes>"
            ],
            "image/png": "[encoded data removed]"
          },
          "metadata": {}
        }
      ]
    },
    {
      "cell_type": "markdown",
      "source": [
        "**Load and Preprocess MNIST Dataset**"
      ],
      "metadata": {
        "id": "pdwjXQMdClhB"
      }
    },
    {
      "cell_type": "code",
      "source": [
        "mnist = tf.keras.datasets.mnist\n",
        "(x_train,y_train),(x_test,y_test)=mnist.load_data()"
      ],
      "metadata": {
        "id": "oQL8FzrOBwxI",
        "outputId": "05467f3f-8f71-4ee3-f2b9-52ccf2546e22",
        "colab": {
          "base_uri": "https://localhost:8080/"
        }
      },
      "execution_count": 13,
      "outputs": [
        {
          "output_type": "stream",
          "name": "stdout",
          "text": [
            "Downloading data from https://storage.googleapis.com/tensorflow/tf-keras-datasets/mnist.npz\n",
            "11490434/11490434 [==============================] - 1s 0us/step\n"
          ]
        }
      ]
    },
    {
      "cell_type": "markdown",
      "source": [
        "**Adding the custom images and labels to the original MNIST dataset**"
      ],
      "metadata": {
        "id": "XKjBl_NPDJNG"
      }
    },
    {
      "cell_type": "code",
      "source": [
        "# Add the custom images and labels to the original MNIST dataset\n",
        "x_train = np.concatenate((x_train, custom_images), axis=0)\n",
        "y_train = np.concatenate((y_train, custom_labels), axis=0)"
      ],
      "metadata": {
        "id": "iRFw3c8vBwzy"
      },
      "execution_count": 19,
      "outputs": []
    },
    {
      "cell_type": "code",
      "source": [
        "display_image = x_train[0] * 255\n",
        "\n",
        "# Convert the image data to uint8\n",
        "display_image = display_image.astype(np.uint8)\n",
        "\n",
        "# Create a PIL image\n",
        "img = Image.fromarray(display_image)\n",
        "img"
      ],
      "metadata": {
        "id": "I6nmWEDlBxAg",
        "outputId": "7940116e-1683-4ef1-98a4-3762c346b7b6",
        "colab": {
          "base_uri": "https://localhost:8080/",
          "height": 45
        }
      },
      "execution_count": 20,
      "outputs": [
        {
          "output_type": "execute_result",
          "data": {
            "text/plain": [
              "<PIL.Image.Image image mode=L size=28x28>"
            ],
            "image/png": "[encoded data removed]"
          },
          "metadata": {},
          "execution_count": 20
        }
      ]
    },
    {
      "cell_type": "markdown",
      "source": [
        "**Create a Model**"
      ],
      "metadata": {
        "id": "hX3khsAfDksY"
      }
    },
    {
      "cell_type": "code",
      "source": [
        "model = models.Sequential()\n",
        "model.add(layers.Conv2D(32, (3, 3), activation='relu', input_shape=(28, 28, 1)))\n",
        "model.add(layers.MaxPooling2D((2, 2)))\n",
        "model.add(layers.Conv2D(64, (3, 3), activation='relu'))\n",
        "model.add(layers.MaxPooling2D((2, 2)))\n",
        "model.add(layers.Conv2D(64, (3, 3), activation='relu'))\n",
        "model.add(layers.Flatten())\n",
        "model.add(layers.Dense(64, activation='relu'))\n",
        "model.add(layers.Dense(10))"
      ],
      "metadata": {
        "id": "UzqSNrp5BxEJ"
      },
      "execution_count": 21,
      "outputs": []
    },
    {
      "cell_type": "code",
      "source": [
        "model.summary()"
      ],
      "metadata": {
        "id": "ADvj_KJHGDLm"
      },
      "execution_count": null,
      "outputs": []
    },
    {
      "cell_type": "markdown",
      "source": [
        "**Compile and Train the Model**"
      ],
      "metadata": {
        "id": "b_6m0mDlD7XY"
      }
    },
    {
      "cell_type": "code",
      "source": [
        "model.compile(optimizer='adam',\n",
        "              loss=tf.keras.losses.SparseCategoricalCrossentropy(from_logits=True),\n",
        "              metrics=['accuracy'])\n",
        "history = model.fit(x_train, y_train, epochs=10,\n",
        "                    validation_data=(x_test, y_test))"
      ],
      "metadata": {
        "id": "jG8H_SpfBMM0",
        "outputId": "93a2d391-6820-4df5-cfd5-504fcc52aebb",
        "colab": {
          "base_uri": "https://localhost:8080/"
        }
      },
      "execution_count": 22,
      "outputs": [
        {
          "output_type": "stream",
          "name": "stdout",
          "text": [
            "Epoch 1/10\n",
            "1876/1876 [==============================] - 75s 39ms/step - loss: 0.2235 - accuracy: 0.9445 - val_loss: 0.0783 - val_accuracy: 0.9758\n",
            "Epoch 2/10\n",
            "1876/1876 [==============================] - 67s 36ms/step - loss: 0.0630 - accuracy: 0.9804 - val_loss: 0.0717 - val_accuracy: 0.9783\n",
            "Epoch 3/10\n",
            "1876/1876 [==============================] - 81s 43ms/step - loss: 0.0506 - accuracy: 0.9847 - val_loss: 0.0444 - val_accuracy: 0.9860\n",
            "Epoch 4/10\n",
            "1876/1876 [==============================] - 73s 39ms/step - loss: 0.0415 - accuracy: 0.9871 - val_loss: 0.0388 - val_accuracy: 0.9877\n",
            "Epoch 5/10\n",
            "1876/1876 [==============================] - 62s 33ms/step - loss: 0.0372 - accuracy: 0.9882 - val_loss: 0.0395 - val_accuracy: 0.9879\n",
            "Epoch 6/10\n",
            "1876/1876 [==============================] - 59s 31ms/step - loss: 0.0320 - accuracy: 0.9901 - val_loss: 0.0447 - val_accuracy: 0.9892\n",
            "Epoch 7/10\n",
            "1876/1876 [==============================] - 78s 42ms/step - loss: 0.0304 - accuracy: 0.9912 - val_loss: 0.0583 - val_accuracy: 0.9860\n",
            "Epoch 8/10\n",
            "1876/1876 [==============================] - 75s 40ms/step - loss: 0.0263 - accuracy: 0.9924 - val_loss: 0.0581 - val_accuracy: 0.9845\n",
            "Epoch 9/10\n",
            "1876/1876 [==============================] - 66s 35ms/step - loss: 0.0234 - accuracy: 0.9928 - val_loss: 0.0623 - val_accuracy: 0.9846\n",
            "Epoch 10/10\n",
            "1876/1876 [==============================] - 76s 41ms/step - loss: 0.0239 - accuracy: 0.9927 - val_loss: 0.0732 - val_accuracy: 0.9835\n"
          ]
        }
      ]
    },
    {
      "cell_type": "markdown",
      "source": [
        "**Plot Training History**"
      ],
      "metadata": {
        "id": "ch-VAkEzEGsb"
      }
    },
    {
      "cell_type": "code",
      "source": [
        "plt.plot(history.history['accuracy'], label='accuracy')\n",
        "plt.plot(history.history['val_accuracy'], label = 'val_accuracy')\n",
        "plt.xlabel('Epoch')\n",
        "plt.ylabel('Accuracy')\n",
        "plt.ylim([0.5, 1])\n",
        "plt.legend(loc='lower right')\n",
        "\n",
        "test_loss, test_acc = model.evaluate(test_images,  test_labels, verbose=2)"
      ],
      "metadata": {
        "id": "MHxQ7AzhEAtX",
        "outputId": "baa0798d-f3b1-4ec9-831d-21d0c34a4f0b",
        "colab": {
          "base_uri": "https://localhost:8080/",
          "height": 473
        }
      },
      "execution_count": 23,
      "outputs": [
        {
          "output_type": "execute_result",
          "data": {
            "text/plain": [
              "<matplotlib.legend.Legend at 0x792b2b0d53c0>"
            ]
          },
          "metadata": {},
          "execution_count": 23
        },
        {
          "output_type": "display_data",
          "data": {
            "text/plain": [
              "<Figure size 640x480 with 1 Axes>"
            ],
            "image/png": "[encoded data removed]"
          },
          "metadata": {}
        }
      ]
    },
    {
      "cell_type": "code",
      "source": [
        "print(test_acc)"
      ],
      "metadata": {
        "id": "zMDCJMtqHo4Y"
      },
      "execution_count": null,
      "outputs": []
    },
    {
      "cell_type": "markdown",
      "source": [
        "**Detect Overfitting**\n",
        "\n",
        "---\n",
        "\n",
        "We will Train the model for more epochs until you observe overfitting in the training data (i.e., when validation accuracy starts decreasing while training accuracy keeps increasing)."
      ],
      "metadata": {
        "id": "3Ls-Iz4PENqJ"
      }
    },
    {
      "cell_type": "code",
      "source": [
        "model = models.Sequential()\n",
        "model.add(layers.Conv2D(32, (3, 3), activation='relu', input_shape=(28, 28, 1)))\n",
        "model.add(layers.MaxPooling2D((2, 2)))\n",
        "model.add(layers.Conv2D(64, (3, 3), activation='relu'))\n",
        "model.add(layers.MaxPooling2D((2, 2)))\n",
        "model.add(layers.Conv2D(64, (3, 3), activation='relu'))\n",
        "model.add(layers.Flatten())\n",
        "model.add(layers.Dense(64, activation='relu'))\n",
        "model.add(layers.Dense(10))"
      ],
      "metadata": {
        "id": "igDZuIJCEKvI"
      },
      "execution_count": 24,
      "outputs": []
    },
    {
      "cell_type": "code",
      "source": [
        "model.compile(optimizer='adam',\n",
        "              loss=tf.keras.losses.SparseCategoricalCrossentropy(from_logits=True),\n",
        "              metrics=['accuracy'])"
      ],
      "metadata": {
        "id": "YRuhCijxEKyL"
      },
      "execution_count": 25,
      "outputs": []
    },
    {
      "cell_type": "code",
      "source": [
        "history = model.fit(x_train, y_train, epochs=25,\n",
        "                    validation_data=(x_test, y_test))"
      ],
      "metadata": {
        "id": "7GSC_uE4FwYm",
        "outputId": "c3acb610-22e1-4fcb-c413-c982dfacf2de",
        "colab": {
          "base_uri": "https://localhost:8080/"
        }
      },
      "execution_count": null,
      "outputs": [
        {
          "output_type": "stream",
          "name": "stdout",
          "text": [
            "Epoch 1/25\n",
            "1876/1876 [==============================] - 72s 38ms/step - loss: 0.1792 - accuracy: 0.9524 - val_loss: 0.0615 - val_accuracy: 0.9810\n",
            "Epoch 2/25\n",
            "1876/1876 [==============================] - 72s 39ms/step - loss: 0.0630 - accuracy: 0.9809 - val_loss: 0.0684 - val_accuracy: 0.9809\n",
            "Epoch 3/25\n",
            "1876/1876 [==============================] - 61s 33ms/step - loss: 0.0493 - accuracy: 0.9847 - val_loss: 0.0725 - val_accuracy: 0.9779\n",
            "Epoch 4/25\n",
            "1876/1876 [==============================] - 59s 32ms/step - loss: 0.0448 - accuracy: 0.9861 - val_loss: 0.0428 - val_accuracy: 0.9861\n",
            "Epoch 5/25\n",
            "1876/1876 [==============================] - 59s 31ms/step - loss: 0.0365 - accuracy: 0.9890 - val_loss: 0.0562 - val_accuracy: 0.9845\n",
            "Epoch 6/25\n",
            "1876/1876 [==============================] - 59s 31ms/step - loss: 0.0359 - accuracy: 0.9888 - val_loss: 0.0450 - val_accuracy: 0.9867\n",
            "Epoch 7/25\n",
            "1863/1876 [============================>.] - ETA: 0s - loss: 0.0277 - accuracy: 0.9913"
          ]
        }
      ]
    },
    {
      "cell_type": "code",
      "source": [
        "plt.plot(history.history['accuracy'], label='accuracy')\n",
        "plt.plot(history.history['val_accuracy'], label = 'val_accuracy')\n",
        "plt.xlabel('Epoch')\n",
        "plt.ylabel('Accuracy')\n",
        "plt.ylim([0.5, 1])\n",
        "plt.legend(loc='lower right')\n",
        "\n",
        "test_loss, test_acc = model.evaluate(test_images,  test_labels, verbose=2)"
      ],
      "metadata": {
        "id": "Z1jtK-YZHVxl"
      },
      "execution_count": null,
      "outputs": []
    },
    {
      "cell_type": "code",
      "source": [
        "print(test_acc)"
      ],
      "metadata": {
        "id": "wc8EqnGcHV81"
      },
      "execution_count": null,
      "outputs": []
    },
    {
      "cell_type": "markdown",
      "source": [
        "**Experiment with Different Configurationst**"
      ],
      "metadata": {
        "id": "KXhOWbtHF07R"
      }
    },
    {
      "cell_type": "markdown",
      "source": [
        "**Model - 1**"
      ],
      "metadata": {
        "id": "ifmNHVX8F6jY"
      }
    },
    {
      "cell_type": "code",
      "source": [
        "model = models.Sequential()\n",
        "model.add(layers.Conv2D(32, (3, 3), activation='relu', input_shape=(28, 28, 1)))\n",
        "model.add(layers.MaxPooling2D((2, 2)))\n",
        "model.add(layers.Flatten())\n",
        "model.add(layers.Dense(200, activation='relu'))\n",
        "model.add(layers.Dense(10, activation='softmax'))"
      ],
      "metadata": {
        "id": "t7RGdx2JF0fP"
      },
      "execution_count": null,
      "outputs": []
    },
    {
      "cell_type": "code",
      "source": [
        "model.summary()"
      ],
      "metadata": {
        "id": "0owoll-WF0h1"
      },
      "execution_count": null,
      "outputs": []
    },
    {
      "cell_type": "code",
      "source": [
        "model.compile(optimizer='adam',\n",
        "              loss=tf.keras.losses.SparseCategoricalCrossentropy(from_logits=True),\n",
        "              metrics=['accuracy'])"
      ],
      "metadata": {
        "id": "4fjf5EOwFwbf"
      },
      "execution_count": null,
      "outputs": []
    },
    {
      "cell_type": "code",
      "source": [
        "history = model.fit(x_train, y_train, epochs=10,\n",
        "                    validation_data=(x_test, y_test))"
      ],
      "metadata": {
        "id": "2MKHKSlPFweI"
      },
      "execution_count": null,
      "outputs": []
    },
    {
      "cell_type": "code",
      "source": [
        "plt.plot(history.history['accuracy'], label='accuracy')\n",
        "plt.plot(history.history['val_accuracy'], label = 'val_accuracy')\n",
        "plt.xlabel('Epoch')\n",
        "plt.ylabel('Accuracy')\n",
        "plt.ylim([0.5, 1])\n",
        "plt.legend(loc='lower right')\n",
        "\n",
        "test_loss, test_acc = model.evaluate(x_test,  y_test, verbose=2)"
      ],
      "metadata": {
        "id": "Ko1PWHavEK1A"
      },
      "execution_count": null,
      "outputs": []
    },
    {
      "cell_type": "code",
      "source": [
        "print(test_acc)"
      ],
      "metadata": {
        "id": "mrpwLKEPHyXF"
      },
      "execution_count": null,
      "outputs": []
    },
    {
      "cell_type": "markdown",
      "source": [
        "**Model - 2**"
      ],
      "metadata": {
        "id": "XSXmQjP4GN2Q"
      }
    },
    {
      "cell_type": "code",
      "source": [
        "model = models.Sequential()\n",
        "model.add(layers.Conv2D(32, (3, 3), activation='relu', input_shape=(28, 28, 1)))\n",
        "model.add(layers.MaxPooling2D((2, 2)))\n",
        "model.add(layers.Conv2D(64, (3, 3), activation='relu'))\n",
        "model.add(layers.Flatten())\n",
        "model.add(layers.Dense(64, activation='relu'))\n",
        "model.add(layers.Dense(10))"
      ],
      "metadata": {
        "id": "-FaS51XIGNgM"
      },
      "execution_count": null,
      "outputs": []
    },
    {
      "cell_type": "code",
      "source": [
        "model.summary()"
      ],
      "metadata": {
        "id": "loaFO4YXEK4E"
      },
      "execution_count": null,
      "outputs": []
    },
    {
      "cell_type": "code",
      "source": [
        "model.compile(optimizer='adam',\n",
        "              loss=tf.keras.losses.SparseCategoricalCrossentropy(from_logits=True),\n",
        "              metrics=['accuracy'])"
      ],
      "metadata": {
        "id": "8Zl0Gz5DGM-3"
      },
      "execution_count": null,
      "outputs": []
    },
    {
      "cell_type": "code",
      "source": [
        "history = model.fit(x_train, y_train, epochs=10,\n",
        "                    validation_data=(x_test, y_test))"
      ],
      "metadata": {
        "id": "6W5E-0ZLEK6y"
      },
      "execution_count": null,
      "outputs": []
    },
    {
      "cell_type": "code",
      "source": [
        "plt.plot(history.history['accuracy'], label='accuracy')\n",
        "plt.plot(history.history['val_accuracy'], label = 'val_accuracy')\n",
        "plt.xlabel('Epoch')\n",
        "plt.ylabel('Accuracy')\n",
        "plt.ylim([0.5, 1])\n",
        "plt.legend(loc='lower right')\n",
        "\n",
        "test_loss, test_acc = model.evaluate(x_test,  y_test, verbose=2)"
      ],
      "metadata": {
        "id": "CHvryMakEK93"
      },
      "execution_count": null,
      "outputs": []
    },
    {
      "cell_type": "code",
      "source": [
        "print(test_acc)"
      ],
      "metadata": {
        "id": "EWBZPxt-H0Ho"
      },
      "execution_count": null,
      "outputs": []
    },
    {
      "cell_type": "markdown",
      "source": [
        "**Create a Custom Test Set**"
      ],
      "metadata": {
        "id": "znOR28CiG1fn"
      }
    },
    {
      "cell_type": "code",
      "source": [],
      "metadata": {
        "id": "XBxxxTLyELA2"
      },
      "execution_count": null,
      "outputs": []
    },
    {
      "cell_type": "code",
      "source": [],
      "metadata": {
        "id": "end2cRAwG0xG"
      },
      "execution_count": null,
      "outputs": []
    },
    {
      "cell_type": "code",
      "source": [],
      "metadata": {
        "id": "kAsoGZVLG00U"
      },
      "execution_count": null,
      "outputs": []
    }
  ]
}