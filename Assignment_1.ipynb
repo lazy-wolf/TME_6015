{
  "nbformat": 4,
  "nbformat_minor": 0,
  "metadata": {
    "colab": {
      "provenance": [],
      "mount_file_id": "https://github.com/lazy-wolf/python-class-notes/blob/main/Assignment_1.ipynb",
      "authorship_tag": "ABX9TyOke/goR0v8Jl9j8shY7CK4",
      "include_colab_link": true
    },
    "kernelspec": {
      "name": "python3",
      "display_name": "Python 3"
    },
    "language_info": {
      "name": "python"
    }
  },
  "cells": [
    {
      "cell_type": "markdown",
      "metadata": {
        "id": "view-in-github",
        "colab_type": "text"
      },
      "source": [
        "<a href=\"https://colab.research.google.com/github/lazy-wolf/python-class-notes/blob/main/Assignment_1.ipynb\" target=\"_parent\"><img src=\"https://colab.research.google.com/assets/colab-badge.svg\" alt=\"Open In Colab\"/></a>"
      ]
    },
    {
      "cell_type": "markdown",
      "source": [
        "**Assignment 1**\n",
        "\n",
        "```\n",
        "# Authoured by: Wasim Dawood Shaik\n",
        "# UNB ID: 3744476\n",
        "# Date: 05-10-2023\n",
        "```\n",
        "\n",
        "\n",
        "\n",
        "\n",
        "\n",
        "\n"
      ],
      "metadata": {
        "id": "k0nOtwwGADuE"
      }
    },
    {
      "cell_type": "markdown",
      "source": [
        "**Import Libraries**"
      ],
      "metadata": {
        "id": "t8WA2nfmBBdR"
      }
    },
    {
      "cell_type": "code",
      "source": [
        "import tensorflow as tf\n",
        "from tensorflow.keras.datasets import mnist\n",
        "from tensorflow.keras.preprocessing import image\n",
        "import numpy as np\n",
        "import os\n",
        "from PIL import Image, ImageFilter\n",
        "import matplotlib.pyplot as plt\n",
        "from tensorflow.keras import datasets, layers, models\n",
        "from google.colab import drive\n",
        "from sklearn.metrics import accuracy_score"
      ],
      "metadata": {
        "id": "zUqYg_Da__iW"
      },
      "execution_count": 47,
      "outputs": []
    },
    {
      "cell_type": "markdown",
      "source": [
        "**Mounting Google Drive in Google Colab**"
      ],
      "metadata": {
        "id": "is4L7LwCBNE2"
      }
    },
    {
      "cell_type": "code",
      "source": [
        "drive.mount('/content/drive')"
      ],
      "metadata": {
        "colab": {
          "base_uri": "https://localhost:8080/"
        },
        "id": "FYVQD5vMBJ8R",
        "outputId": "780f5802-310e-4fff-d54c-0b16c245f6c6"
      },
      "execution_count": 2,
      "outputs": [
        {
          "output_type": "stream",
          "name": "stdout",
          "text": [
            "Mounted at /content/drive\n"
          ]
        }
      ]
    },
    {
      "cell_type": "markdown",
      "source": [
        "**Load custom images from Google Drive**"
      ],
      "metadata": {
        "id": "BNaxWUOoB3R1"
      }
    },
    {
      "cell_type": "code",
      "source": [
        "# Load custom images from Google Drive\n",
        "custom_images = []\n",
        "custom_labels = []\n",
        "base_folder_path = '/content/drive/MyDrive/TME_6015/Assignment_1'\n",
        "for folder_name in os.listdir(base_folder_path):\n",
        "    folder_path = os.path.join(base_folder_path, folder_name)\n",
        "    print(folder_path)\n",
        "    if os.path.isdir(folder_path):\n",
        "        for filename in os.listdir(folder_path):\n",
        "          print('filename', filename)\n",
        "          if filename.endswith('.png') or filename.endswith('.PNG') or filename.endswith('.JPG') or filename.endswith('.jpg'):\n",
        "              img_path = os.path.join(folder_path, filename)\n",
        "              img = Image.open(img_path).convert('L')  # convert image to grayscale\n",
        "              img = img.resize((28, 28))  # resize image to match MNIST data\n",
        "              img = img.rotate(-90)\n",
        "              threshold = 100\n",
        "              img = img.point(lambda p: p > threshold and 255)\n",
        "              img_array = np.array(img)\n",
        "              custom_images.append(img_array)\n",
        "              custom_labels.append(int(folder_name))  # use folder name as label\n",
        "\n",
        "# Convert the list of custom images and labels to numpy arrays\n",
        "custom_images = np.array(custom_images)\n",
        "custom_labels = np.array(custom_labels)\n",
        "\n",
        "# Preprocess the custom images\n",
        "custom_images = custom_images / 255.0"
      ],
      "metadata": {
        "colab": {
          "base_uri": "https://localhost:8080/"
        },
        "id": "OVRxvf3FBMJg",
        "outputId": "874a6388-41c6-44e8-f7d0-37f4f002658c"
      },
      "execution_count": 3,
      "outputs": [
        {
          "output_type": "stream",
          "name": "stdout",
          "text": [
            "/content/drive/MyDrive/TME_6015/Assignment_1/7\n",
            "filename 7-1.jpg\n",
            "filename 7-2.png\n",
            "filename 7-3.png\n",
            "/content/drive/MyDrive/TME_6015/Assignment_1/1\n",
            "filename 1-1.jpg\n",
            "filename 1-2.png\n",
            "filename 1-3`.png\n",
            "/content/drive/MyDrive/TME_6015/Assignment_1/2\n",
            "filename 2-1.jpg\n",
            "filename 2-2.png\n",
            "filename 2-3.png\n",
            "/content/drive/MyDrive/TME_6015/Assignment_1/3\n",
            "filename 3-1.jpg\n",
            "filename 3-2.png\n",
            "filename 3-3.png\n",
            "/content/drive/MyDrive/TME_6015/Assignment_1/4\n",
            "filename 4-1.jpg\n",
            "filename 4-2.png\n",
            "filename 4-3.png\n",
            "/content/drive/MyDrive/TME_6015/Assignment_1/5\n",
            "filename 5-1.jpg\n",
            "filename 5-2.png\n",
            "filename 5-3.png\n",
            "/content/drive/MyDrive/TME_6015/Assignment_1/6\n",
            "filename 6-1.jpg\n",
            "filename 6-2.png\n",
            "filename 6-3.png\n",
            "/content/drive/MyDrive/TME_6015/Assignment_1/8\n",
            "filename 8-1.jpg\n",
            "filename 8-2.png\n",
            "filename 8-3.png\n",
            "/content/drive/MyDrive/TME_6015/Assignment_1/9\n",
            "filename 9-1.jpg\n",
            "filename 9-2.png\n",
            "filename 9-3.png\n",
            "/content/drive/MyDrive/TME_6015/Assignment_1/0\n",
            "filename 0-1.jpg\n",
            "filename 0-2.png\n",
            "filename 0-3.png\n"
          ]
        }
      ]
    },
    {
      "cell_type": "code",
      "source": [
        "display_image = custom_images[2] * 255\n",
        "\n",
        "# Convert the image data to uint8\n",
        "display_image = display_image.astype(np.uint8)\n",
        "\n",
        "# Create a PIL image\n",
        "img = Image.fromarray(display_image)\n",
        "\n",
        "# Display the image\n",
        "img"
      ],
      "metadata": {
        "colab": {
          "base_uri": "https://localhost:8080/",
          "height": 45
        },
        "id": "njR2-G8_C45W",
        "outputId": "71cd9f46-30b5-44ea-844e-4f1aab21af8d"
      },
      "execution_count": 4,
      "outputs": [
        {
          "output_type": "execute_result",
          "data": {
            "text/plain": [
              "<PIL.Image.Image image mode=L size=28x28>"
            ],
            "image/png": "[encoded data removed]"
          },
          "metadata": {},
          "execution_count": 4
        }
      ]
    },
    {
      "cell_type": "markdown",
      "source": [
        "**Plotting the data**"
      ],
      "metadata": {
        "id": "BIS1TtwSCRKh"
      }
    },
    {
      "cell_type": "code",
      "source": [
        "plt.figure(figsize=(14,14))\n",
        "for i in range(30):\n",
        "    plt.subplot(10,3,i+1)\n",
        "    plt.xticks([])\n",
        "    plt.yticks([])\n",
        "    plt.grid(False)\n",
        "    plt.imshow(custom_images[i])\n",
        "    plt.xlabel(custom_labels[i])\n",
        "plt.show()"
      ],
      "metadata": {
        "colab": {
          "base_uri": "https://localhost:8080/",
          "height": 1000
        },
        "id": "k7i8XXFHBwuU",
        "outputId": "5c5006cd-2cea-40f7-de97-411b71196e97"
      },
      "execution_count": 5,
      "outputs": [
        {
          "output_type": "display_data",
          "data": {
            "text/plain": [
              "<Figure size 1400x1400 with 30 Axes>"
            ],
            "image/png": "[encoded data removed]"
          },
          "metadata": {}
        }
      ]
    },
    {
      "cell_type": "markdown",
      "source": [
        "**Load and Preprocess MNIST Dataset**"
      ],
      "metadata": {
        "id": "pdwjXQMdClhB"
      }
    },
    {
      "cell_type": "code",
      "source": [
        "mnist = tf.keras.datasets.mnist\n",
        "(x_train,y_train),(x_test,y_test)=mnist.load_data()"
      ],
      "metadata": {
        "colab": {
          "base_uri": "https://localhost:8080/"
        },
        "id": "oQL8FzrOBwxI",
        "outputId": "16483965-f12e-4909-88a1-f7f9bcd91050"
      },
      "execution_count": 6,
      "outputs": [
        {
          "output_type": "stream",
          "name": "stdout",
          "text": [
            "Downloading data from https://storage.googleapis.com/tensorflow/tf-keras-datasets/mnist.npz\n",
            "11490434/11490434 [==============================] - 0s 0us/step\n"
          ]
        }
      ]
    },
    {
      "cell_type": "markdown",
      "source": [
        "**Adding the custom images and labels to the original MNIST dataset**"
      ],
      "metadata": {
        "id": "XKjBl_NPDJNG"
      }
    },
    {
      "cell_type": "code",
      "source": [
        "# Add the custom images and labels to the original MNIST dataset\n",
        "x_train = np.concatenate((x_train, custom_images), axis=0)\n",
        "y_train = np.concatenate((y_train, custom_labels), axis=0)"
      ],
      "metadata": {
        "id": "iRFw3c8vBwzy"
      },
      "execution_count": 7,
      "outputs": []
    },
    {
      "cell_type": "code",
      "source": [
        "display_image = x_train[0] * 255\n",
        "\n",
        "# Convert the image data to uint8\n",
        "display_image = display_image.astype(np.uint8)\n",
        "\n",
        "# Create a PIL image\n",
        "img = Image.fromarray(display_image)\n",
        "img"
      ],
      "metadata": {
        "colab": {
          "base_uri": "https://localhost:8080/",
          "height": 45
        },
        "id": "I6nmWEDlBxAg",
        "outputId": "81e833c1-3711-4886-8412-5efc17f0e427"
      },
      "execution_count": 8,
      "outputs": [
        {
          "output_type": "execute_result",
          "data": {
            "text/plain": [
              "<PIL.Image.Image image mode=L size=28x28>"
            ],
            "image/png": "[encoded data removed]"
          },
          "metadata": {},
          "execution_count": 8
        }
      ]
    },
    {
      "cell_type": "markdown",
      "source": [
        "**Create a Model**"
      ],
      "metadata": {
        "id": "hX3khsAfDksY"
      }
    },
    {
      "cell_type": "code",
      "source": [
        "model = models.Sequential()\n",
        "model.add(layers.Conv2D(32, (3, 3), activation='relu', input_shape=(28, 28, 1)))\n",
        "model.add(layers.MaxPooling2D((2, 2)))\n",
        "model.add(layers.Conv2D(64, (3, 3), activation='relu'))\n",
        "model.add(layers.MaxPooling2D((2, 2)))\n",
        "model.add(layers.Conv2D(64, (3, 3), activation='relu'))\n",
        "model.add(layers.Flatten())\n",
        "model.add(layers.Dense(64, activation='relu'))\n",
        "model.add(layers.Dense(10))"
      ],
      "metadata": {
        "id": "UzqSNrp5BxEJ"
      },
      "execution_count": 9,
      "outputs": []
    },
    {
      "cell_type": "code",
      "source": [
        "model.summary()"
      ],
      "metadata": {
        "colab": {
          "base_uri": "https://localhost:8080/"
        },
        "id": "ADvj_KJHGDLm",
        "outputId": "0fd631dc-4ba3-468e-fd7b-69f56c689305"
      },
      "execution_count": 10,
      "outputs": [
        {
          "output_type": "stream",
          "name": "stdout",
          "text": [
            "Model: \"sequential\"\n",
            "_________________________________________________________________\n",
            " Layer (type)                Output Shape              Param #   \n",
            "=================================================================\n",
            " conv2d (Conv2D)             (None, 26, 26, 32)        320       \n",
            "                                                                 \n",
            " max_pooling2d (MaxPooling2  (None, 13, 13, 32)        0         \n",
            " D)                                                              \n",
            "                                                                 \n",
            " conv2d_1 (Conv2D)           (None, 11, 11, 64)        18496     \n",
            "                                                                 \n",
            " max_pooling2d_1 (MaxPoolin  (None, 5, 5, 64)          0         \n",
            " g2D)                                                            \n",
            "                                                                 \n",
            " conv2d_2 (Conv2D)           (None, 3, 3, 64)          36928     \n",
            "                                                                 \n",
            " flatten (Flatten)           (None, 576)               0         \n",
            "                                                                 \n",
            " dense (Dense)               (None, 64)                36928     \n",
            "                                                                 \n",
            " dense_1 (Dense)             (None, 10)                650       \n",
            "                                                                 \n",
            "=================================================================\n",
            "Total params: 93322 (364.54 KB)\n",
            "Trainable params: 93322 (364.54 KB)\n",
            "Non-trainable params: 0 (0.00 Byte)\n",
            "_________________________________________________________________\n"
          ]
        }
      ]
    },
    {
      "cell_type": "markdown",
      "source": [
        "**Compile and Train the Model**"
      ],
      "metadata": {
        "id": "b_6m0mDlD7XY"
      }
    },
    {
      "cell_type": "code",
      "source": [
        "model.compile(optimizer='adam',\n",
        "              loss=tf.keras.losses.SparseCategoricalCrossentropy(from_logits=True),\n",
        "              metrics=['accuracy'])\n",
        "history = model.fit(x_train, y_train, epochs=10,\n",
        "                    validation_data=(x_test, y_test))"
      ],
      "metadata": {
        "colab": {
          "base_uri": "https://localhost:8080/"
        },
        "id": "jG8H_SpfBMM0",
        "outputId": "193bebe3-5056-46ff-b438-8b64d5ce56e0"
      },
      "execution_count": 11,
      "outputs": [
        {
          "output_type": "stream",
          "name": "stdout",
          "text": [
            "Epoch 1/10\n",
            "1876/1876 [==============================] - 76s 40ms/step - loss: 0.2501 - accuracy: 0.9395 - val_loss: 0.0667 - val_accuracy: 0.9793\n",
            "Epoch 2/10\n",
            "1876/1876 [==============================] - 70s 37ms/step - loss: 0.0647 - accuracy: 0.9804 - val_loss: 0.0624 - val_accuracy: 0.9821\n",
            "Epoch 3/10\n",
            "1876/1876 [==============================] - 72s 38ms/step - loss: 0.0517 - accuracy: 0.9840 - val_loss: 0.0354 - val_accuracy: 0.9889\n",
            "Epoch 4/10\n",
            "1876/1876 [==============================] - 69s 37ms/step - loss: 0.0424 - accuracy: 0.9866 - val_loss: 0.0638 - val_accuracy: 0.9819\n",
            "Epoch 5/10\n",
            "1876/1876 [==============================] - 74s 39ms/step - loss: 0.0397 - accuracy: 0.9878 - val_loss: 0.0446 - val_accuracy: 0.9873\n",
            "Epoch 6/10\n",
            "1876/1876 [==============================] - 73s 39ms/step - loss: 0.0336 - accuracy: 0.9897 - val_loss: 0.0541 - val_accuracy: 0.9864\n",
            "Epoch 7/10\n",
            "1876/1876 [==============================] - 72s 38ms/step - loss: 0.0302 - accuracy: 0.9908 - val_loss: 0.0473 - val_accuracy: 0.9869\n",
            "Epoch 8/10\n",
            "1876/1876 [==============================] - 73s 39ms/step - loss: 0.0267 - accuracy: 0.9916 - val_loss: 0.0506 - val_accuracy: 0.9884\n",
            "Epoch 9/10\n",
            "1876/1876 [==============================] - 73s 39ms/step - loss: 0.0257 - accuracy: 0.9924 - val_loss: 0.0481 - val_accuracy: 0.9881\n",
            "Epoch 10/10\n",
            "1876/1876 [==============================] - 73s 39ms/step - loss: 0.0252 - accuracy: 0.9929 - val_loss: 0.0635 - val_accuracy: 0.9856\n"
          ]
        }
      ]
    },
    {
      "cell_type": "markdown",
      "source": [
        "**Plot Training History**"
      ],
      "metadata": {
        "id": "ch-VAkEzEGsb"
      }
    },
    {
      "cell_type": "code",
      "source": [
        "plt.plot(history.history['accuracy'], label='accuracy')\n",
        "plt.plot(history.history['val_accuracy'], label = 'val_accuracy')\n",
        "plt.xlabel('Epoch')\n",
        "plt.ylabel('Accuracy')\n",
        "plt.ylim([0.5, 1])\n",
        "plt.legend(loc='lower right')\n",
        "\n",
        "test_loss, test_acc = model.evaluate(x_test,  y_test, verbose=2)"
      ],
      "metadata": {
        "colab": {
          "base_uri": "https://localhost:8080/",
          "height": 473
        },
        "id": "MHxQ7AzhEAtX",
        "outputId": "f83c8957-6230-4fdf-b6ee-27192978a6cd"
      },
      "execution_count": 13,
      "outputs": [
        {
          "output_type": "stream",
          "name": "stdout",
          "text": [
            "313/313 - 3s - loss: 0.0635 - accuracy: 0.9856 - 3s/epoch - 8ms/step\n"
          ]
        },
        {
          "output_type": "display_data",
          "data": {
            "text/plain": [
              "<Figure size 640x480 with 1 Axes>"
            ],
            "image/png": "[encoded data removed]"
          },
          "metadata": {}
        }
      ]
    },
    {
      "cell_type": "code",
      "source": [
        "print(test_acc)"
      ],
      "metadata": {
        "colab": {
          "base_uri": "https://localhost:8080/"
        },
        "id": "zMDCJMtqHo4Y",
        "outputId": "cc575371-4b2b-4001-ef18-5ed300092da3"
      },
      "execution_count": 14,
      "outputs": [
        {
          "output_type": "stream",
          "name": "stdout",
          "text": [
            "0.9855999946594238\n"
          ]
        }
      ]
    },
    {
      "cell_type": "markdown",
      "source": [
        "**Detect Overfitting**\n",
        "\n",
        "---\n",
        "\n",
        "We will Train the model for more epochs until you observe overfitting in the training data (i.e., when validation accuracy starts decreasing while training accuracy keeps increasing)."
      ],
      "metadata": {
        "id": "3Ls-Iz4PENqJ"
      }
    },
    {
      "cell_type": "code",
      "source": [
        "model = models.Sequential()\n",
        "model.add(layers.Conv2D(32, (3, 3), activation='relu', input_shape=(28, 28, 1)))\n",
        "model.add(layers.MaxPooling2D((2, 2)))\n",
        "model.add(layers.Conv2D(64, (3, 3), activation='relu'))\n",
        "model.add(layers.MaxPooling2D((2, 2)))\n",
        "model.add(layers.Conv2D(64, (3, 3), activation='relu'))\n",
        "model.add(layers.Flatten())\n",
        "model.add(layers.Dense(64, activation='relu'))\n",
        "model.add(layers.Dense(10))"
      ],
      "metadata": {
        "id": "igDZuIJCEKvI"
      },
      "execution_count": 24,
      "outputs": []
    },
    {
      "cell_type": "code",
      "source": [
        "model.compile(optimizer='adam',\n",
        "              loss=tf.keras.losses.SparseCategoricalCrossentropy(from_logits=True),\n",
        "              metrics=['accuracy'])"
      ],
      "metadata": {
        "id": "YRuhCijxEKyL"
      },
      "execution_count": 25,
      "outputs": []
    },
    {
      "cell_type": "code",
      "source": [
        "history = model.fit(x_train, y_train, epochs=25,\n",
        "                    validation_data=(x_test, y_test))"
      ],
      "metadata": {
        "colab": {
          "base_uri": "https://localhost:8080/"
        },
        "id": "7GSC_uE4FwYm",
        "outputId": "c3acb610-22e1-4fcb-c413-c982dfacf2de"
      },
      "execution_count": 26,
      "outputs": [
        {
          "output_type": "stream",
          "name": "stdout",
          "text": [
            "Epoch 1/25\n",
            "1876/1876 [==============================] - 72s 38ms/step - loss: 0.1792 - accuracy: 0.9524 - val_loss: 0.0615 - val_accuracy: 0.9810\n",
            "Epoch 2/25\n",
            "1876/1876 [==============================] - 72s 39ms/step - loss: 0.0630 - accuracy: 0.9809 - val_loss: 0.0684 - val_accuracy: 0.9809\n",
            "Epoch 3/25\n",
            "1876/1876 [==============================] - 61s 33ms/step - loss: 0.0493 - accuracy: 0.9847 - val_loss: 0.0725 - val_accuracy: 0.9779\n",
            "Epoch 4/25\n",
            "1876/1876 [==============================] - 59s 32ms/step - loss: 0.0448 - accuracy: 0.9861 - val_loss: 0.0428 - val_accuracy: 0.9861\n",
            "Epoch 5/25\n",
            "1876/1876 [==============================] - 59s 31ms/step - loss: 0.0365 - accuracy: 0.9890 - val_loss: 0.0562 - val_accuracy: 0.9845\n",
            "Epoch 6/25\n",
            "1876/1876 [==============================] - 59s 31ms/step - loss: 0.0359 - accuracy: 0.9888 - val_loss: 0.0450 - val_accuracy: 0.9867\n",
            "Epoch 7/25\n",
            "1876/1876 [==============================] - 59s 31ms/step - loss: 0.0276 - accuracy: 0.9913 - val_loss: 0.0471 - val_accuracy: 0.9880\n",
            "Epoch 8/25\n",
            "1876/1876 [==============================] - 61s 33ms/step - loss: 0.0266 - accuracy: 0.9918 - val_loss: 0.0693 - val_accuracy: 0.9815\n",
            "Epoch 9/25\n",
            "1876/1876 [==============================] - 59s 32ms/step - loss: 0.0238 - accuracy: 0.9928 - val_loss: 0.0553 - val_accuracy: 0.9862\n",
            "Epoch 10/25\n",
            "1876/1876 [==============================] - 60s 32ms/step - loss: 0.0261 - accuracy: 0.9922 - val_loss: 0.0547 - val_accuracy: 0.9886\n",
            "Epoch 11/25\n",
            "1876/1876 [==============================] - 67s 36ms/step - loss: 0.0231 - accuracy: 0.9936 - val_loss: 0.0713 - val_accuracy: 0.9851\n",
            "Epoch 12/25\n",
            "1876/1876 [==============================] - 86s 46ms/step - loss: 0.0221 - accuracy: 0.9934 - val_loss: 0.0703 - val_accuracy: 0.9853\n",
            "Epoch 13/25\n",
            "1876/1876 [==============================] - 74s 40ms/step - loss: 0.0203 - accuracy: 0.9939 - val_loss: 0.0666 - val_accuracy: 0.9870\n",
            "Epoch 14/25\n",
            "1876/1876 [==============================] - 71s 38ms/step - loss: 0.0209 - accuracy: 0.9947 - val_loss: 0.0589 - val_accuracy: 0.9879\n",
            "Epoch 15/25\n",
            "1876/1876 [==============================] - 70s 37ms/step - loss: 0.0170 - accuracy: 0.9953 - val_loss: 0.0908 - val_accuracy: 0.9834\n",
            "Epoch 16/25\n",
            "1876/1876 [==============================] - 78s 42ms/step - loss: 0.0203 - accuracy: 0.9949 - val_loss: 0.0899 - val_accuracy: 0.9861\n",
            "Epoch 17/25\n",
            "1876/1876 [==============================] - 79s 42ms/step - loss: 0.0234 - accuracy: 0.9944 - val_loss: 0.0572 - val_accuracy: 0.9883\n",
            "Epoch 18/25\n",
            "1876/1876 [==============================] - 66s 35ms/step - loss: 0.0164 - accuracy: 0.9958 - val_loss: 0.0692 - val_accuracy: 0.9880\n",
            "Epoch 19/25\n",
            "1876/1876 [==============================] - 63s 33ms/step - loss: 0.0180 - accuracy: 0.9953 - val_loss: 0.0841 - val_accuracy: 0.9866\n",
            "Epoch 20/25\n",
            "1876/1876 [==============================] - 59s 32ms/step - loss: 0.0181 - accuracy: 0.9957 - val_loss: 0.0797 - val_accuracy: 0.9869\n",
            "Epoch 21/25\n",
            "1876/1876 [==============================] - 60s 32ms/step - loss: 0.0189 - accuracy: 0.9953 - val_loss: 0.0950 - val_accuracy: 0.9880\n",
            "Epoch 22/25\n",
            "1876/1876 [==============================] - 61s 32ms/step - loss: 0.0179 - accuracy: 0.9955 - val_loss: 0.1045 - val_accuracy: 0.9869\n",
            "Epoch 23/25\n",
            "1876/1876 [==============================] - 61s 33ms/step - loss: 0.0194 - accuracy: 0.9958 - val_loss: 0.0838 - val_accuracy: 0.9885\n",
            "Epoch 24/25\n",
            "1876/1876 [==============================] - 59s 31ms/step - loss: 0.0184 - accuracy: 0.9960 - val_loss: 0.0776 - val_accuracy: 0.9884\n",
            "Epoch 25/25\n",
            "1876/1876 [==============================] - 59s 31ms/step - loss: 0.0180 - accuracy: 0.9958 - val_loss: 0.1094 - val_accuracy: 0.9862\n"
          ]
        }
      ]
    },
    {
      "cell_type": "code",
      "source": [
        "plt.plot(history.history['accuracy'], label='accuracy')\n",
        "plt.plot(history.history['val_accuracy'], label = 'val_accuracy')\n",
        "plt.xlabel('Epoch')\n",
        "plt.ylabel('Accuracy')\n",
        "plt.ylim([0.5, 1])\n",
        "plt.legend(loc='lower right')\n",
        "\n",
        "test_loss, test_acc = model.evaluate(x_test,  y_test, verbose=2)"
      ],
      "metadata": {
        "colab": {
          "base_uri": "https://localhost:8080/",
          "height": 473
        },
        "id": "Z1jtK-YZHVxl",
        "outputId": "b27afb86-d86c-4e5a-d2ee-b80c3fd227fd"
      },
      "execution_count": 28,
      "outputs": [
        {
          "output_type": "stream",
          "name": "stdout",
          "text": [
            "313/313 - 3s - loss: 0.1094 - accuracy: 0.9862 - 3s/epoch - 11ms/step\n"
          ]
        },
        {
          "output_type": "display_data",
          "data": {
            "text/plain": [
              "<Figure size 640x480 with 1 Axes>"
            ],
            "image/png": "[encoded data removed]"
          },
          "metadata": {}
        }
      ]
    },
    {
      "cell_type": "code",
      "source": [
        "print(test_acc)"
      ],
      "metadata": {
        "colab": {
          "base_uri": "https://localhost:8080/"
        },
        "id": "wc8EqnGcHV81",
        "outputId": "b158ce0a-7a56-4db6-ba15-d0e6ae4a8380"
      },
      "execution_count": 29,
      "outputs": [
        {
          "output_type": "stream",
          "name": "stdout",
          "text": [
            "0.9861999750137329\n"
          ]
        }
      ]
    },
    {
      "cell_type": "code",
      "source": [
        "custom_test_images = []\n",
        "custom_test_labels = []\n",
        "folder_path = '/content/drive/MyDrive/TME_6015/Assignment_1_Custom_Test_Data'\n",
        "for filename in os.listdir(folder_path):\n",
        "  print('filename : ', filename)\n",
        "  if filename.endswith('.png') or filename.endswith('.PNG') or filename.endswith('.JPG') or filename.endswith('.jpg') or filename.endswith('.JPEG') or filename.endswith('.jpeg'):\n",
        "    img_path = os.path.join(folder_path, filename)\n",
        "    img = Image.open(img_path).convert('L')\n",
        "    img = img.resize((28, 28))\n",
        "    threshold = 100\n",
        "    img = img.point(lambda p: p > threshold and 255)\n",
        "    img_array = np.array(img)\n",
        "    custom_test_images.append(img_array)\n",
        "    custom_test_labels.append(int(filename[0]))\n",
        "\n",
        "# Convert the list of custom images and labels to numpy arrays\n",
        "custom_test_images = np.array(custom_test_images)\n",
        "custom_test_labels = np.array(custom_test_labels)"
      ],
      "metadata": {
        "id": "xYmkt21VmwVp",
        "outputId": "0a13f7ce-7ca2-418b-8a2d-665fb229be19",
        "colab": {
          "base_uri": "https://localhost:8080/"
        }
      },
      "execution_count": 42,
      "outputs": [
        {
          "output_type": "stream",
          "name": "stdout",
          "text": [
            "filename :  1.png\n",
            "filename :  2.png\n",
            "filename :  9.png\n",
            "filename :  7.png\n",
            "filename :  4.png\n",
            "filename :  8.png\n",
            "filename :  0.png\n",
            "filename :  5.png\n",
            "filename :  6.png\n",
            "filename :  3.png\n"
          ]
        }
      ]
    },
    {
      "cell_type": "code",
      "source": [
        "plt.imshow(img_array)"
      ],
      "metadata": {
        "id": "TfwV6oXSnQCK",
        "outputId": "3180167e-5ddd-42e1-a46a-e81cb42b26a7",
        "colab": {
          "base_uri": "https://localhost:8080/",
          "height": 448
        }
      },
      "execution_count": 40,
      "outputs": [
        {
          "output_type": "execute_result",
          "data": {
            "text/plain": [
              "<matplotlib.image.AxesImage at 0x7832534cf9d0>"
            ]
          },
          "metadata": {},
          "execution_count": 40
        },
        {
          "output_type": "display_data",
          "data": {
            "text/plain": [
              "<Figure size 640x480 with 1 Axes>"
            ],
            "image/png": "[encoded data removed]"
          },
          "metadata": {}
        }
      ]
    },
    {
      "cell_type": "code",
      "source": [
        "plt.figure(figsize=(14,14))\n",
        "for i in range(10):\n",
        "    plt.subplot(2,5,i+1)\n",
        "    plt.xticks([])\n",
        "    plt.yticks([])\n",
        "    plt.grid(False)\n",
        "    plt.imshow(custom_test_images[i])\n",
        "    plt.xlabel(custom_test_labels[i])\n",
        "plt.show()"
      ],
      "metadata": {
        "id": "7V-COzVjnVyP",
        "outputId": "447d5858-43a9-468c-ec50-7a4ff1d0aea5",
        "colab": {
          "base_uri": "https://localhost:8080/",
          "height": 831
        }
      },
      "execution_count": 43,
      "outputs": [
        {
          "output_type": "display_data",
          "data": {
            "text/plain": [
              "<Figure size 1400x1400 with 10 Axes>"
            ],
            "image/png": "[encoded data removed]"
          },
          "metadata": {}
        }
      ]
    },
    {
      "cell_type": "code",
      "source": [
        "custom_test_pred=model.predict(custom_test_images)"
      ],
      "metadata": {
        "id": "jAihy4ndnwre",
        "outputId": "13302cdc-4203-4286-e22a-b15e0cb409b9",
        "colab": {
          "base_uri": "https://localhost:8080/"
        }
      },
      "execution_count": 44,
      "outputs": [
        {
          "output_type": "stream",
          "name": "stdout",
          "text": [
            "1/1 [==============================] - 0s 29ms/step\n"
          ]
        }
      ]
    },
    {
      "cell_type": "code",
      "source": [
        "custom_test_pred=list(map(lambda p: np.argmax(p), custom_test_pred))"
      ],
      "metadata": {
        "id": "SSWYP3jwnwuk"
      },
      "execution_count": 45,
      "outputs": []
    },
    {
      "cell_type": "code",
      "source": [
        "for i in range(len(custom_test_pred)):\n",
        "  print(custom_test_labels[i],custom_test_pred[i])"
      ],
      "metadata": {
        "id": "_Pms3O2qn0w_",
        "outputId": "1f76ad7b-163f-4867-cf0f-809a9e00db70",
        "colab": {
          "base_uri": "https://localhost:8080/"
        }
      },
      "execution_count": 46,
      "outputs": [
        {
          "output_type": "stream",
          "name": "stdout",
          "text": [
            "1 1\n",
            "2 0\n",
            "9 0\n",
            "7 7\n",
            "4 6\n",
            "8 0\n",
            "0 0\n",
            "5 6\n",
            "6 0\n",
            "3 0\n"
          ]
        }
      ]
    },
    {
      "cell_type": "code",
      "source": [
        "accuracy_score(custom_test_labels, custom_test_pred)*100"
      ],
      "metadata": {
        "id": "hhlu2xq9n0zj",
        "outputId": "e8ae0162-0eab-47b2-af54-6e78c9cba47c",
        "colab": {
          "base_uri": "https://localhost:8080/"
        }
      },
      "execution_count": 49,
      "outputs": [
        {
          "output_type": "execute_result",
          "data": {
            "text/plain": [
              "30.0"
            ]
          },
          "metadata": {},
          "execution_count": 49
        }
      ]
    },
    {
      "cell_type": "markdown",
      "source": [
        "**Experiment with Different Configurationst**"
      ],
      "metadata": {
        "id": "KXhOWbtHF07R"
      }
    },
    {
      "cell_type": "markdown",
      "source": [
        "**Model - 1**"
      ],
      "metadata": {
        "id": "ifmNHVX8F6jY"
      }
    },
    {
      "cell_type": "code",
      "source": [
        "model = models.Sequential()\n",
        "model.add(layers.Conv2D(32, (3, 3), activation='relu', input_shape=(28, 28, 1)))\n",
        "model.add(layers.MaxPooling2D((2, 2)))\n",
        "model.add(layers.Flatten())\n",
        "model.add(layers.Dense(200, activation='relu'))\n",
        "model.add(layers.Dense(10, activation='softmax'))"
      ],
      "metadata": {
        "id": "t7RGdx2JF0fP"
      },
      "execution_count": null,
      "outputs": []
    },
    {
      "cell_type": "code",
      "source": [
        "model.summary()"
      ],
      "metadata": {
        "id": "0owoll-WF0h1"
      },
      "execution_count": null,
      "outputs": []
    },
    {
      "cell_type": "code",
      "source": [
        "model.compile(optimizer='adam',\n",
        "              loss=tf.keras.losses.SparseCategoricalCrossentropy(from_logits=True),\n",
        "              metrics=['accuracy'])"
      ],
      "metadata": {
        "id": "4fjf5EOwFwbf"
      },
      "execution_count": null,
      "outputs": []
    },
    {
      "cell_type": "code",
      "source": [
        "history = model.fit(x_train, y_train, epochs=10,\n",
        "                    validation_data=(x_test, y_test))"
      ],
      "metadata": {
        "id": "2MKHKSlPFweI"
      },
      "execution_count": null,
      "outputs": []
    },
    {
      "cell_type": "code",
      "source": [
        "plt.plot(history.history['accuracy'], label='accuracy')\n",
        "plt.plot(history.history['val_accuracy'], label = 'val_accuracy')\n",
        "plt.xlabel('Epoch')\n",
        "plt.ylabel('Accuracy')\n",
        "plt.ylim([0.5, 1])\n",
        "plt.legend(loc='lower right')\n",
        "\n",
        "test_loss, test_acc = model.evaluate(x_test,  y_test, verbose=2)"
      ],
      "metadata": {
        "id": "Ko1PWHavEK1A"
      },
      "execution_count": null,
      "outputs": []
    },
    {
      "cell_type": "code",
      "source": [
        "print(test_acc)"
      ],
      "metadata": {
        "id": "mrpwLKEPHyXF"
      },
      "execution_count": null,
      "outputs": []
    },
    {
      "cell_type": "markdown",
      "source": [
        "**Model - 2**"
      ],
      "metadata": {
        "id": "XSXmQjP4GN2Q"
      }
    },
    {
      "cell_type": "code",
      "source": [
        "model = models.Sequential()\n",
        "model.add(layers.Conv2D(32, (3, 3), activation='relu', input_shape=(28, 28, 1)))\n",
        "model.add(layers.MaxPooling2D((2, 2)))\n",
        "model.add(layers.Conv2D(64, (3, 3), activation='relu'))\n",
        "model.add(layers.Flatten())\n",
        "model.add(layers.Dense(64, activation='relu'))\n",
        "model.add(layers.Dense(10))"
      ],
      "metadata": {
        "id": "-FaS51XIGNgM"
      },
      "execution_count": null,
      "outputs": []
    },
    {
      "cell_type": "code",
      "source": [
        "model.summary()"
      ],
      "metadata": {
        "id": "loaFO4YXEK4E"
      },
      "execution_count": null,
      "outputs": []
    },
    {
      "cell_type": "code",
      "source": [
        "model.compile(optimizer='adam',\n",
        "              loss=tf.keras.losses.SparseCategoricalCrossentropy(from_logits=True),\n",
        "              metrics=['accuracy'])"
      ],
      "metadata": {
        "id": "8Zl0Gz5DGM-3"
      },
      "execution_count": null,
      "outputs": []
    },
    {
      "cell_type": "code",
      "source": [
        "history = model.fit(x_train, y_train, epochs=10,\n",
        "                    validation_data=(x_test, y_test))"
      ],
      "metadata": {
        "id": "6W5E-0ZLEK6y"
      },
      "execution_count": null,
      "outputs": []
    },
    {
      "cell_type": "code",
      "source": [
        "plt.plot(history.history['accuracy'], label='accuracy')\n",
        "plt.plot(history.history['val_accuracy'], label = 'val_accuracy')\n",
        "plt.xlabel('Epoch')\n",
        "plt.ylabel('Accuracy')\n",
        "plt.ylim([0.5, 1])\n",
        "plt.legend(loc='lower right')\n",
        "\n",
        "test_loss, test_acc = model.evaluate(x_test,  y_test, verbose=2)"
      ],
      "metadata": {
        "id": "CHvryMakEK93"
      },
      "execution_count": null,
      "outputs": []
    },
    {
      "cell_type": "code",
      "source": [
        "print(test_acc)"
      ],
      "metadata": {
        "id": "EWBZPxt-H0Ho"
      },
      "execution_count": null,
      "outputs": []
    },
    {
      "cell_type": "markdown",
      "source": [
        "**Create a Custom Test Set**"
      ],
      "metadata": {
        "id": "znOR28CiG1fn"
      }
    },
    {
      "cell_type": "code",
      "source": [],
      "metadata": {
        "id": "XBxxxTLyELA2"
      },
      "execution_count": null,
      "outputs": []
    },
    {
      "cell_type": "code",
      "source": [
        "custom_test_images = []\n",
        "custom_test_labels = []\n",
        "folder_path = '/content/drive/MyDrive/TME_6015/Assignment_1_Custom_Test_Data'\n",
        "for filename in os.listdir(folder_path):\n",
        "  print('filename : ', filename)\n",
        "  if filename.endswith('.png') or filename.endswith('.PNG') or filename.endswith('.JPG') or filename.endswith('.jpg') or filename.endswith('.JPEG') or filename.endswith('.jpeg'):\n",
        "    img_path = os.path.join(folder_path, filename)\n",
        "    img = Image.open(img_path).convert('L')\n",
        "    img = img.resize((28, 28))\n",
        "    threshold = 100\n",
        "    img = img.point(lambda p: p > threshold and 255)\n",
        "    img_array = np.array(img)\n",
        "    custom_test_images.append(img_array)\n",
        "    custom_test_labels.append(int(filename[0]))\n",
        "\n",
        "# Convert the list of custom images and labels to numpy arrays\n",
        "custom_test_images = np.array(custom_test_images)\n",
        "custom_test_labels = np.array(custom_test_labels)\n"
      ],
      "metadata": {
        "colab": {
          "base_uri": "https://localhost:8080/"
        },
        "id": "5NWs5ij9KDyC",
        "outputId": "c5e774d5-5ce0-45e1-8ea1-f393a70b10d3"
      },
      "execution_count": 31,
      "outputs": [
        {
          "output_type": "stream",
          "name": "stdout",
          "text": [
            "filename :  1.png\n",
            "filename :  2.png\n",
            "filename :  9.png\n",
            "filename :  7.png\n",
            "filename :  4.png\n",
            "filename :  8.png\n",
            "filename :  0.png\n",
            "filename :  5.png\n",
            "filename :  6.png\n",
            "filename :  3.png\n"
          ]
        }
      ]
    },
    {
      "cell_type": "code",
      "source": [
        "plt.figure(figsize=(14,14))\n",
        "for i in range(10):\n",
        "    plt.subplot(2,5,i+1)\n",
        "    plt.xticks([])\n",
        "    plt.yticks([])\n",
        "    plt.grid(False)\n",
        "    plt.imshow(custom_test_images[i])\n",
        "    plt.xlabel(custom_test_labels[i])\n",
        "plt.show()"
      ],
      "metadata": {
        "colab": {
          "base_uri": "https://localhost:8080/",
          "height": 831
        },
        "id": "tvUXAlqAlEnB",
        "outputId": "c8e236b6-0d61-4769-a539-4b38f8413157"
      },
      "execution_count": 33,
      "outputs": [
        {
          "output_type": "display_data",
          "data": {
            "text/plain": [
              "<Figure size 1400x1400 with 10 Axes>"
            ],
            "image/png": "[encoded data removed]"
          },
          "metadata": {}
        }
      ]
    },
    {
      "cell_type": "code",
      "source": [
        "custom_test_labels, len(custom_test_labels)"
      ],
      "metadata": {
        "colab": {
          "base_uri": "https://localhost:8080/"
        },
        "id": "Psh4glGHSmNp",
        "outputId": "4137fd38-fe53-4a79-80ff-84ba34108e60"
      },
      "execution_count": 34,
      "outputs": [
        {
          "output_type": "execute_result",
          "data": {
            "text/plain": [
              "(array([1, 2, 9, 7, 4, 8, 0, 5, 6, 3]), 10)"
            ]
          },
          "metadata": {},
          "execution_count": 34
        }
      ]
    },
    {
      "cell_type": "code",
      "source": [
        "custom_test_pred=model.predict(custom_test_images)"
      ],
      "metadata": {
        "colab": {
          "base_uri": "https://localhost:8080/"
        },
        "id": "end2cRAwG0xG",
        "outputId": "0eb2aaaa-9025-41ca-ab66-a1c75497ad2a"
      },
      "execution_count": 35,
      "outputs": [
        {
          "output_type": "stream",
          "name": "stdout",
          "text": [
            "1/1 [==============================] - 0s 33ms/step\n"
          ]
        }
      ]
    },
    {
      "cell_type": "code",
      "source": [
        "custom_test_pred"
      ],
      "metadata": {
        "colab": {
          "base_uri": "https://localhost:8080/"
        },
        "id": "cfvH-2kESpmP",
        "outputId": "716ed38f-0dfa-4c49-ce0e-01a0d0cab6da"
      },
      "execution_count": 36,
      "outputs": [
        {
          "output_type": "execute_result",
          "data": {
            "text/plain": [
              "array([[ -0.05515325,  10.653612  ,  -2.5377042 ,  -5.96      ,\n",
              "         -2.061906  ,  -0.09715506,   1.0495267 ,  -4.960732  ,\n",
              "         -5.147904  , -14.363017  ],\n",
              "       [  3.8318183 ,  -3.4282203 ,  -0.32254523,  -4.0243745 ,\n",
              "         -0.44305867,  -2.2010098 ,  -0.19430073,  -0.44303387,\n",
              "         -3.1177235 ,  -4.516174  ],\n",
              "       [  0.8437915 ,   0.6719687 ,  -1.4590901 ,  -4.3412766 ,\n",
              "          0.24769157,  -2.5702643 ,   0.3183791 ,  -4.6300926 ,\n",
              "          0.43654686,  -0.84912014],\n",
              "       [  3.3061144 ,   2.6906333 ,   0.78464574,  -3.0623696 ,\n",
              "         -4.3944554 ,  -4.5790653 ,  -3.5823128 ,   4.109668  ,\n",
              "          0.49281093,  -8.365172  ],\n",
              "       [ -2.3433535 ,   0.79093397,  -5.9274487 ,  -5.525831  ,\n",
              "          1.7466623 ,   1.8450445 ,   2.9957457 ,  -6.2406497 ,\n",
              "         -3.1847136 ,  -7.460603  ],\n",
              "       [  6.544665  ,   3.024297  ,   3.4102097 ,   0.61477816,\n",
              "          0.49732098,   3.0990863 ,  -0.20761563,   5.2196183 ,\n",
              "          0.29822403,   0.3808606 ],\n",
              "       [  7.3411293 ,   2.3554142 ,   0.9703546 ,  -2.2193692 ,\n",
              "          0.17152387,   1.5155762 ,   0.8284657 ,   1.551233  ,\n",
              "          1.2722433 ,  -1.0621895 ],\n",
              "       [  5.0780573 ,  -3.8213956 ,  -6.2356253 ,  -0.9781965 ,\n",
              "         -3.4906585 ,  -0.34375596,   5.735052  ,  -2.5779362 ,\n",
              "         -6.1401873 ,  -6.291241  ],\n",
              "       [  3.9730887 ,   1.3382516 ,   0.6810429 ,   0.37589043,\n",
              "         -0.35833442,  -0.8844218 ,   1.3728116 ,  -3.8372927 ,\n",
              "          0.03922004,  -1.5677648 ],\n",
              "       [  3.4799645 ,  -3.5805933 ,   0.680418  ,  -6.6440334 ,\n",
              "          2.6495929 ,  -3.6279206 ,  -4.265993  ,   3.0906653 ,\n",
              "         -1.824862  ,  -2.8454437 ]], dtype=float32)"
            ]
          },
          "metadata": {},
          "execution_count": 36
        }
      ]
    },
    {
      "cell_type": "code",
      "source": [
        "custom_test_pred=list(map(lambda p: np.argmax(p), custom_test_pred))"
      ],
      "metadata": {
        "id": "AMRM_vljLYHx"
      },
      "execution_count": 37,
      "outputs": []
    },
    {
      "cell_type": "code",
      "source": [
        "for i in range(len(custom_test_pred)):\n",
        "  print(custom_test_labels[i],custom_test_pred[i])"
      ],
      "metadata": {
        "colab": {
          "base_uri": "https://localhost:8080/"
        },
        "id": "kAsoGZVLG00U",
        "outputId": "80c0057a-ec11-4502-de91-fdbedabc1e28"
      },
      "execution_count": 38,
      "outputs": [
        {
          "output_type": "stream",
          "name": "stdout",
          "text": [
            "1 1\n",
            "2 0\n",
            "9 0\n",
            "7 7\n",
            "4 6\n",
            "8 0\n",
            "0 0\n",
            "5 6\n",
            "6 0\n",
            "3 0\n"
          ]
        }
      ]
    },
    {
      "cell_type": "code",
      "source": [],
      "metadata": {
        "id": "g8KctYqzS23s"
      },
      "execution_count": null,
      "outputs": []
    }
  ]
}