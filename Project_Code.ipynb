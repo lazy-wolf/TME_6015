{
  "nbformat": 4,
  "nbformat_minor": 0,
  "metadata": {
    "colab": {
      "provenance": [],
      "authorship_tag": "ABX9TyOsF4gG9Uyzdohb8J2GN9cr",
      "include_colab_link": true
    },
    "kernelspec": {
      "name": "python3",
      "display_name": "Python 3"
    },
    "language_info": {
      "name": "python"
    }
  },
  "cells": [
    {
      "cell_type": "markdown",
      "metadata": {
        "id": "view-in-github",
        "colab_type": "text"
      },
      "source": [
        "<a href=\"https://colab.research.google.com/github/lazy-wolf/TME_6015/blob/main/Project_Code.ipynb\" target=\"_parent\"><img src=\"https://colab.research.google.com/assets/colab-badge.svg\" alt=\"Open In Colab\"/></a>"
      ]
    },
    {
      "cell_type": "markdown",
      "source": [
        "**Group Project Code**\n",
        "\n",
        "```\n",
        "# Authoured by: Wasim Dawood Shaik, Aastha Dawar\n",
        "# UNB ID: 3744476, 3737216\n",
        "# Date: 29-11-2023\n",
        "```"
      ],
      "metadata": {
        "id": "SkmCpply3KRV"
      }
    },
    {
      "cell_type": "markdown",
      "source": [
        "**Import Libraries**"
      ],
      "metadata": {
        "id": "n_Rpttw-4T41"
      }
    },
    {
      "cell_type": "code",
      "execution_count": 35,
      "metadata": {
        "id": "GJmpv15hZrXc"
      },
      "outputs": [],
      "source": [
        "from google.colab import drive\n",
        "import pandas as pd\n",
        "import numpy as np\n",
        "import matplotlib.pyplot as plt\n",
        "from sklearn.preprocessing import MinMaxScaler\n",
        "import tensorflow as tf\n",
        "from keras.models import Sequential\n",
        "from keras.layers import Dense\n",
        "from keras.layers import LSTM, GRU\n",
        "from keras.layers import Dropout\n",
        "from keras.models import load_model\n",
        "from keras.callbacks import EarlyStopping\n",
        "from keras.callbacks import ModelCheckpoint\n",
        "import itertools\n",
        "from sklearn.metrics import r2_score, mean_squared_error"
      ]
    },
    {
      "cell_type": "markdown",
      "source": [
        "**Mounting Google Drive in Google Colab**"
      ],
      "metadata": {
        "id": "uC581mel4aiz"
      }
    },
    {
      "cell_type": "code",
      "source": [
        "drive.mount('/content/drive', force_remount=True)"
      ],
      "metadata": {
        "colab": {
          "base_uri": "https://localhost:8080/"
        },
        "id": "3rpE8KtvZswe",
        "outputId": "2b5ae320-320f-4497-ba22-e9fdafe33d68"
      },
      "execution_count": 2,
      "outputs": [
        {
          "output_type": "stream",
          "name": "stdout",
          "text": [
            "Mounted at /content/drive\n"
          ]
        }
      ]
    },
    {
      "cell_type": "markdown",
      "source": [
        "**Dataset selection**"
      ],
      "metadata": {
        "id": "5wG5FvXZ4unw"
      }
    },
    {
      "cell_type": "code",
      "source": [
        "dataframe = pd.read_csv(\"/content/drive/MyDrive/TME_6015/Project/BTC-USD.csv\")"
      ],
      "metadata": {
        "id": "7loYi_sxaRc-"
      },
      "execution_count": 3,
      "outputs": []
    },
    {
      "cell_type": "markdown",
      "source": [
        "**Dataset Info**"
      ],
      "metadata": {
        "id": "McBg88cQ4zCj"
      }
    },
    {
      "cell_type": "markdown",
      "source": [
        "[Bitcoin-USD datset download source](https://finance.yahoo.com/quote/BTC-USD/history?period1=1410825600&period2=1700956800&interval=1d&filter=history&frequency=1d&includeAdjustedClose=true)\n",
        "\n",
        "*https://finance.yahoo.com/quote/BTC-USD/history?period1=1410825600&period2=1700956800&interval=1d&filter=history&frequency=1d&includeAdjustedClose=true*"
      ],
      "metadata": {
        "id": "kc9OE3jz42W8"
      }
    },
    {
      "cell_type": "code",
      "source": [
        "dataframe.head()"
      ],
      "metadata": {
        "colab": {
          "base_uri": "https://localhost:8080/",
          "height": 206
        },
        "id": "uNeRMoe0aRZ4",
        "outputId": "b6c0eec0-be30-4178-ad66-137c4dbd8ad5"
      },
      "execution_count": 4,
      "outputs": [
        {
          "output_type": "execute_result",
          "data": {
            "text/plain": [
              "         Date        Open        High         Low       Close   Adj Close  \\\n",
              "0  2014-09-17  465.864014  468.174011  452.421997  457.334015  457.334015   \n",
              "1  2014-09-18  456.859985  456.859985  413.104004  424.440002  424.440002   \n",
              "2  2014-09-19  424.102997  427.834991  384.532013  394.795990  394.795990   \n",
              "3  2014-09-20  394.673004  423.295990  389.882996  408.903992  408.903992   \n",
              "4  2014-09-21  408.084991  412.425995  393.181000  398.821014  398.821014   \n",
              "\n",
              "       Volume  \n",
              "0  21056800.0  \n",
              "1  34483200.0  \n",
              "2  37919700.0  \n",
              "3  36863600.0  \n",
              "4  26580100.0  "
            ],
            "text/html": [
              "\n",
              "  <div id=\"df-b1c9e33f-8604-42a8-a20f-dc8e3e7a4bd4\" class=\"colab-df-container\">\n",
              "    <div>\n",
              "<style scoped>\n",
              "    .dataframe tbody tr th:only-of-type {\n",
              "        vertical-align: middle;\n",
              "    }\n",
              "\n",
              "    .dataframe tbody tr th {\n",
              "        vertical-align: top;\n",
              "    }\n",
              "\n",
              "    .dataframe thead th {\n",
              "        text-align: right;\n",
              "    }\n",
              "</style>\n",
              "<table border=\"1\" class=\"dataframe\">\n",
              "  <thead>\n",
              "    <tr style=\"text-align: right;\">\n",
              "      <th></th>\n",
              "      <th>Date</th>\n",
              "      <th>Open</th>\n",
              "      <th>High</th>\n",
              "      <th>Low</th>\n",
              "      <th>Close</th>\n",
              "      <th>Adj Close</th>\n",
              "      <th>Volume</th>\n",
              "    </tr>\n",
              "  </thead>\n",
              "  <tbody>\n",
              "    <tr>\n",
              "      <th>0</th>\n",
              "      <td>2014-09-17</td>\n",
              "      <td>465.864014</td>\n",
              "      <td>468.174011</td>\n",
              "      <td>452.421997</td>\n",
              "      <td>457.334015</td>\n",
              "      <td>457.334015</td>\n",
              "      <td>21056800.0</td>\n",
              "    </tr>\n",
              "    <tr>\n",
              "      <th>1</th>\n",
              "      <td>2014-09-18</td>\n",
              "      <td>456.859985</td>\n",
              "      <td>456.859985</td>\n",
              "      <td>413.104004</td>\n",
              "      <td>424.440002</td>\n",
              "      <td>424.440002</td>\n",
              "      <td>34483200.0</td>\n",
              "    </tr>\n",
              "    <tr>\n",
              "      <th>2</th>\n",
              "      <td>2014-09-19</td>\n",
              "      <td>424.102997</td>\n",
              "      <td>427.834991</td>\n",
              "      <td>384.532013</td>\n",
              "      <td>394.795990</td>\n",
              "      <td>394.795990</td>\n",
              "      <td>37919700.0</td>\n",
              "    </tr>\n",
              "    <tr>\n",
              "      <th>3</th>\n",
              "      <td>2014-09-20</td>\n",
              "      <td>394.673004</td>\n",
              "      <td>423.295990</td>\n",
              "      <td>389.882996</td>\n",
              "      <td>408.903992</td>\n",
              "      <td>408.903992</td>\n",
              "      <td>36863600.0</td>\n",
              "    </tr>\n",
              "    <tr>\n",
              "      <th>4</th>\n",
              "      <td>2014-09-21</td>\n",
              "      <td>408.084991</td>\n",
              "      <td>412.425995</td>\n",
              "      <td>393.181000</td>\n",
              "      <td>398.821014</td>\n",
              "      <td>398.821014</td>\n",
              "      <td>26580100.0</td>\n",
              "    </tr>\n",
              "  </tbody>\n",
              "</table>\n",
              "</div>\n",
              "    <div class=\"colab-df-buttons\">\n",
              "\n",
              "  <div class=\"colab-df-container\">\n",
              "    <button class=\"colab-df-convert\" onclick=\"convertToInteractive('df-b1c9e33f-8604-42a8-a20f-dc8e3e7a4bd4')\"\n",
              "            title=\"Convert this dataframe to an interactive table.\"\n",
              "            style=\"display:none;\">\n",
              "\n",
              "  <svg xmlns=\"http://www.w3.org/2000/svg\" height=\"24px\" viewBox=\"0 -960 960 960\">\n",
              "    <path d=\"M120-120v-720h720v720H120Zm60-500h600v-160H180v160Zm220 220h160v-160H400v160Zm0 220h160v-160H400v160ZM180-400h160v-160H180v160Zm440 0h160v-160H620v160ZM180-180h160v-160H180v160Zm440 0h160v-160H620v160Z\"/>\n",
              "  </svg>\n",
              "    </button>\n",
              "\n",
              "  <style>\n",
              "    .colab-df-container {\n",
              "      display:flex;\n",
              "      gap: 12px;\n",
              "    }\n",
              "\n",
              "    .colab-df-convert {\n",
              "      background-color: #E8F0FE;\n",
              "      border: none;\n",
              "      border-radius: 50%;\n",
              "      cursor: pointer;\n",
              "      display: none;\n",
              "      fill: #1967D2;\n",
              "      height: 32px;\n",
              "      padding: 0 0 0 0;\n",
              "      width: 32px;\n",
              "    }\n",
              "\n",
              "    .colab-df-convert:hover {\n",
              "      background-color: #E2EBFA;\n",
              "      box-shadow: 0px 1px 2px rgba(60, 64, 67, 0.3), 0px 1px 3px 1px rgba(60, 64, 67, 0.15);\n",
              "      fill: #174EA6;\n",
              "    }\n",
              "\n",
              "    .colab-df-buttons div {\n",
              "      margin-bottom: 4px;\n",
              "    }\n",
              "\n",
              "    [theme=dark] .colab-df-convert {\n",
              "      background-color: #3B4455;\n",
              "      fill: #D2E3FC;\n",
              "    }\n",
              "\n",
              "    [theme=dark] .colab-df-convert:hover {\n",
              "      background-color: #434B5C;\n",
              "      box-shadow: 0px 1px 3px 1px rgba(0, 0, 0, 0.15);\n",
              "      filter: drop-shadow(0px 1px 2px rgba(0, 0, 0, 0.3));\n",
              "      fill: #FFFFFF;\n",
              "    }\n",
              "  </style>\n",
              "\n",
              "    <script>\n",
              "      const buttonEl =\n",
              "        document.querySelector('#df-b1c9e33f-8604-42a8-a20f-dc8e3e7a4bd4 button.colab-df-convert');\n",
              "      buttonEl.style.display =\n",
              "        google.colab.kernel.accessAllowed ? 'block' : 'none';\n",
              "\n",
              "      async function convertToInteractive(key) {\n",
              "        const element = document.querySelector('#df-b1c9e33f-8604-42a8-a20f-dc8e3e7a4bd4');\n",
              "        const dataTable =\n",
              "          await google.colab.kernel.invokeFunction('convertToInteractive',\n",
              "                                                    [key], {});\n",
              "        if (!dataTable) return;\n",
              "\n",
              "        const docLinkHtml = 'Like what you see? Visit the ' +\n",
              "          '<a target=\"_blank\" href=https://colab.research.google.com/notebooks/data_table.ipynb>data table notebook</a>'\n",
              "          + ' to learn more about interactive tables.';\n",
              "        element.innerHTML = '';\n",
              "        dataTable['output_type'] = 'display_data';\n",
              "        await google.colab.output.renderOutput(dataTable, element);\n",
              "        const docLink = document.createElement('div');\n",
              "        docLink.innerHTML = docLinkHtml;\n",
              "        element.appendChild(docLink);\n",
              "      }\n",
              "    </script>\n",
              "  </div>\n",
              "\n",
              "\n",
              "<div id=\"df-3ca97307-01cf-4189-bbbd-da5c501b4326\">\n",
              "  <button class=\"colab-df-quickchart\" onclick=\"quickchart('df-3ca97307-01cf-4189-bbbd-da5c501b4326')\"\n",
              "            title=\"Suggest charts\"\n",
              "            style=\"display:none;\">\n",
              "\n",
              "<svg xmlns=\"http://www.w3.org/2000/svg\" height=\"24px\"viewBox=\"0 0 24 24\"\n",
              "     width=\"24px\">\n",
              "    <g>\n",
              "        <path d=\"M19 3H5c-1.1 0-2 .9-2 2v14c0 1.1.9 2 2 2h14c1.1 0 2-.9 2-2V5c0-1.1-.9-2-2-2zM9 17H7v-7h2v7zm4 0h-2V7h2v10zm4 0h-2v-4h2v4z\"/>\n",
              "    </g>\n",
              "</svg>\n",
              "  </button>\n",
              "\n",
              "<style>\n",
              "  .colab-df-quickchart {\n",
              "      --bg-color: #E8F0FE;\n",
              "      --fill-color: #1967D2;\n",
              "      --hover-bg-color: #E2EBFA;\n",
              "      --hover-fill-color: #174EA6;\n",
              "      --disabled-fill-color: #AAA;\n",
              "      --disabled-bg-color: #DDD;\n",
              "  }\n",
              "\n",
              "  [theme=dark] .colab-df-quickchart {\n",
              "      --bg-color: #3B4455;\n",
              "      --fill-color: #D2E3FC;\n",
              "      --hover-bg-color: #434B5C;\n",
              "      --hover-fill-color: #FFFFFF;\n",
              "      --disabled-bg-color: #3B4455;\n",
              "      --disabled-fill-color: #666;\n",
              "  }\n",
              "\n",
              "  .colab-df-quickchart {\n",
              "    background-color: var(--bg-color);\n",
              "    border: none;\n",
              "    border-radius: 50%;\n",
              "    cursor: pointer;\n",
              "    display: none;\n",
              "    fill: var(--fill-color);\n",
              "    height: 32px;\n",
              "    padding: 0;\n",
              "    width: 32px;\n",
              "  }\n",
              "\n",
              "  .colab-df-quickchart:hover {\n",
              "    background-color: var(--hover-bg-color);\n",
              "    box-shadow: 0 1px 2px rgba(60, 64, 67, 0.3), 0 1px 3px 1px rgba(60, 64, 67, 0.15);\n",
              "    fill: var(--button-hover-fill-color);\n",
              "  }\n",
              "\n",
              "  .colab-df-quickchart-complete:disabled,\n",
              "  .colab-df-quickchart-complete:disabled:hover {\n",
              "    background-color: var(--disabled-bg-color);\n",
              "    fill: var(--disabled-fill-color);\n",
              "    box-shadow: none;\n",
              "  }\n",
              "\n",
              "  .colab-df-spinner {\n",
              "    border: 2px solid var(--fill-color);\n",
              "    border-color: transparent;\n",
              "    border-bottom-color: var(--fill-color);\n",
              "    animation:\n",
              "      spin 1s steps(1) infinite;\n",
              "  }\n",
              "\n",
              "  @keyframes spin {\n",
              "    0% {\n",
              "      border-color: transparent;\n",
              "      border-bottom-color: var(--fill-color);\n",
              "      border-left-color: var(--fill-color);\n",
              "    }\n",
              "    20% {\n",
              "      border-color: transparent;\n",
              "      border-left-color: var(--fill-color);\n",
              "      border-top-color: var(--fill-color);\n",
              "    }\n",
              "    30% {\n",
              "      border-color: transparent;\n",
              "      border-left-color: var(--fill-color);\n",
              "      border-top-color: var(--fill-color);\n",
              "      border-right-color: var(--fill-color);\n",
              "    }\n",
              "    40% {\n",
              "      border-color: transparent;\n",
              "      border-right-color: var(--fill-color);\n",
              "      border-top-color: var(--fill-color);\n",
              "    }\n",
              "    60% {\n",
              "      border-color: transparent;\n",
              "      border-right-color: var(--fill-color);\n",
              "    }\n",
              "    80% {\n",
              "      border-color: transparent;\n",
              "      border-right-color: var(--fill-color);\n",
              "      border-bottom-color: var(--fill-color);\n",
              "    }\n",
              "    90% {\n",
              "      border-color: transparent;\n",
              "      border-bottom-color: var(--fill-color);\n",
              "    }\n",
              "  }\n",
              "</style>\n",
              "\n",
              "  <script>\n",
              "    async function quickchart(key) {\n",
              "      const quickchartButtonEl =\n",
              "        document.querySelector('#' + key + ' button');\n",
              "      quickchartButtonEl.disabled = true;  // To prevent multiple clicks.\n",
              "      quickchartButtonEl.classList.add('colab-df-spinner');\n",
              "      try {\n",
              "        const charts = await google.colab.kernel.invokeFunction(\n",
              "            'suggestCharts', [key], {});\n",
              "      } catch (error) {\n",
              "        console.error('Error during call to suggestCharts:', error);\n",
              "      }\n",
              "      quickchartButtonEl.classList.remove('colab-df-spinner');\n",
              "      quickchartButtonEl.classList.add('colab-df-quickchart-complete');\n",
              "    }\n",
              "    (() => {\n",
              "      let quickchartButtonEl =\n",
              "        document.querySelector('#df-3ca97307-01cf-4189-bbbd-da5c501b4326 button');\n",
              "      quickchartButtonEl.style.display =\n",
              "        google.colab.kernel.accessAllowed ? 'block' : 'none';\n",
              "    })();\n",
              "  </script>\n",
              "</div>\n",
              "    </div>\n",
              "  </div>\n"
            ]
          },
          "metadata": {},
          "execution_count": 4
        }
      ]
    },
    {
      "cell_type": "code",
      "source": [
        "dataframe.tail()"
      ],
      "metadata": {
        "colab": {
          "base_uri": "https://localhost:8080/",
          "height": 206
        },
        "id": "BB4YsHYraRi3",
        "outputId": "b0c9c419-31a8-4187-db01-cf0e9a5190b2"
      },
      "execution_count": 5,
      "outputs": [
        {
          "output_type": "execute_result",
          "data": {
            "text/plain": [
              "            Date         Open         High          Low        Close  \\\n",
              "3352  2023-11-21  37469.16016  37631.14063  35813.81250  35813.81250   \n",
              "3353  2023-11-22  35756.55469  37856.98047  35670.97266  37432.33984   \n",
              "3354  2023-11-23  37420.43359  37643.91797  36923.86328  37289.62109   \n",
              "3355  2023-11-24  37296.31641  38415.33984  37261.60547  37720.28125   \n",
              "3356  2023-11-25  37721.41406  37892.42969  37617.41797  37796.79297   \n",
              "\n",
              "        Adj Close        Volume  \n",
              "3352  35813.81250  2.517216e+10  \n",
              "3353  37432.33984  2.439725e+10  \n",
              "3354  37289.62109  1.421495e+10  \n",
              "3355  37720.28125  2.292296e+10  \n",
              "3356  37796.79297  9.099571e+09  "
            ],
            "text/html": [
              "\n",
              "  <div id=\"df-346def8d-e113-4416-a1b0-a6326336587f\" class=\"colab-df-container\">\n",
              "    <div>\n",
              "<style scoped>\n",
              "    .dataframe tbody tr th:only-of-type {\n",
              "        vertical-align: middle;\n",
              "    }\n",
              "\n",
              "    .dataframe tbody tr th {\n",
              "        vertical-align: top;\n",
              "    }\n",
              "\n",
              "    .dataframe thead th {\n",
              "        text-align: right;\n",
              "    }\n",
              "</style>\n",
              "<table border=\"1\" class=\"dataframe\">\n",
              "  <thead>\n",
              "    <tr style=\"text-align: right;\">\n",
              "      <th></th>\n",
              "      <th>Date</th>\n",
              "      <th>Open</th>\n",
              "      <th>High</th>\n",
              "      <th>Low</th>\n",
              "      <th>Close</th>\n",
              "      <th>Adj Close</th>\n",
              "      <th>Volume</th>\n",
              "    </tr>\n",
              "  </thead>\n",
              "  <tbody>\n",
              "    <tr>\n",
              "      <th>3352</th>\n",
              "      <td>2023-11-21</td>\n",
              "      <td>37469.16016</td>\n",
              "      <td>37631.14063</td>\n",
              "      <td>35813.81250</td>\n",
              "      <td>35813.81250</td>\n",
              "      <td>35813.81250</td>\n",
              "      <td>2.517216e+10</td>\n",
              "    </tr>\n",
              "    <tr>\n",
              "      <th>3353</th>\n",
              "      <td>2023-11-22</td>\n",
              "      <td>35756.55469</td>\n",
              "      <td>37856.98047</td>\n",
              "      <td>35670.97266</td>\n",
              "      <td>37432.33984</td>\n",
              "      <td>37432.33984</td>\n",
              "      <td>2.439725e+10</td>\n",
              "    </tr>\n",
              "    <tr>\n",
              "      <th>3354</th>\n",
              "      <td>2023-11-23</td>\n",
              "      <td>37420.43359</td>\n",
              "      <td>37643.91797</td>\n",
              "      <td>36923.86328</td>\n",
              "      <td>37289.62109</td>\n",
              "      <td>37289.62109</td>\n",
              "      <td>1.421495e+10</td>\n",
              "    </tr>\n",
              "    <tr>\n",
              "      <th>3355</th>\n",
              "      <td>2023-11-24</td>\n",
              "      <td>37296.31641</td>\n",
              "      <td>38415.33984</td>\n",
              "      <td>37261.60547</td>\n",
              "      <td>37720.28125</td>\n",
              "      <td>37720.28125</td>\n",
              "      <td>2.292296e+10</td>\n",
              "    </tr>\n",
              "    <tr>\n",
              "      <th>3356</th>\n",
              "      <td>2023-11-25</td>\n",
              "      <td>37721.41406</td>\n",
              "      <td>37892.42969</td>\n",
              "      <td>37617.41797</td>\n",
              "      <td>37796.79297</td>\n",
              "      <td>37796.79297</td>\n",
              "      <td>9.099571e+09</td>\n",
              "    </tr>\n",
              "  </tbody>\n",
              "</table>\n",
              "</div>\n",
              "    <div class=\"colab-df-buttons\">\n",
              "\n",
              "  <div class=\"colab-df-container\">\n",
              "    <button class=\"colab-df-convert\" onclick=\"convertToInteractive('df-346def8d-e113-4416-a1b0-a6326336587f')\"\n",
              "            title=\"Convert this dataframe to an interactive table.\"\n",
              "            style=\"display:none;\">\n",
              "\n",
              "  <svg xmlns=\"http://www.w3.org/2000/svg\" height=\"24px\" viewBox=\"0 -960 960 960\">\n",
              "    <path d=\"M120-120v-720h720v720H120Zm60-500h600v-160H180v160Zm220 220h160v-160H400v160Zm0 220h160v-160H400v160ZM180-400h160v-160H180v160Zm440 0h160v-160H620v160ZM180-180h160v-160H180v160Zm440 0h160v-160H620v160Z\"/>\n",
              "  </svg>\n",
              "    </button>\n",
              "\n",
              "  <style>\n",
              "    .colab-df-container {\n",
              "      display:flex;\n",
              "      gap: 12px;\n",
              "    }\n",
              "\n",
              "    .colab-df-convert {\n",
              "      background-color: #E8F0FE;\n",
              "      border: none;\n",
              "      border-radius: 50%;\n",
              "      cursor: pointer;\n",
              "      display: none;\n",
              "      fill: #1967D2;\n",
              "      height: 32px;\n",
              "      padding: 0 0 0 0;\n",
              "      width: 32px;\n",
              "    }\n",
              "\n",
              "    .colab-df-convert:hover {\n",
              "      background-color: #E2EBFA;\n",
              "      box-shadow: 0px 1px 2px rgba(60, 64, 67, 0.3), 0px 1px 3px 1px rgba(60, 64, 67, 0.15);\n",
              "      fill: #174EA6;\n",
              "    }\n",
              "\n",
              "    .colab-df-buttons div {\n",
              "      margin-bottom: 4px;\n",
              "    }\n",
              "\n",
              "    [theme=dark] .colab-df-convert {\n",
              "      background-color: #3B4455;\n",
              "      fill: #D2E3FC;\n",
              "    }\n",
              "\n",
              "    [theme=dark] .colab-df-convert:hover {\n",
              "      background-color: #434B5C;\n",
              "      box-shadow: 0px 1px 3px 1px rgba(0, 0, 0, 0.15);\n",
              "      filter: drop-shadow(0px 1px 2px rgba(0, 0, 0, 0.3));\n",
              "      fill: #FFFFFF;\n",
              "    }\n",
              "  </style>\n",
              "\n",
              "    <script>\n",
              "      const buttonEl =\n",
              "        document.querySelector('#df-346def8d-e113-4416-a1b0-a6326336587f button.colab-df-convert');\n",
              "      buttonEl.style.display =\n",
              "        google.colab.kernel.accessAllowed ? 'block' : 'none';\n",
              "\n",
              "      async function convertToInteractive(key) {\n",
              "        const element = document.querySelector('#df-346def8d-e113-4416-a1b0-a6326336587f');\n",
              "        const dataTable =\n",
              "          await google.colab.kernel.invokeFunction('convertToInteractive',\n",
              "                                                    [key], {});\n",
              "        if (!dataTable) return;\n",
              "\n",
              "        const docLinkHtml = 'Like what you see? Visit the ' +\n",
              "          '<a target=\"_blank\" href=https://colab.research.google.com/notebooks/data_table.ipynb>data table notebook</a>'\n",
              "          + ' to learn more about interactive tables.';\n",
              "        element.innerHTML = '';\n",
              "        dataTable['output_type'] = 'display_data';\n",
              "        await google.colab.output.renderOutput(dataTable, element);\n",
              "        const docLink = document.createElement('div');\n",
              "        docLink.innerHTML = docLinkHtml;\n",
              "        element.appendChild(docLink);\n",
              "      }\n",
              "    </script>\n",
              "  </div>\n",
              "\n",
              "\n",
              "<div id=\"df-173b3c1b-166b-4c54-b9fd-6dfe070fab11\">\n",
              "  <button class=\"colab-df-quickchart\" onclick=\"quickchart('df-173b3c1b-166b-4c54-b9fd-6dfe070fab11')\"\n",
              "            title=\"Suggest charts\"\n",
              "            style=\"display:none;\">\n",
              "\n",
              "<svg xmlns=\"http://www.w3.org/2000/svg\" height=\"24px\"viewBox=\"0 0 24 24\"\n",
              "     width=\"24px\">\n",
              "    <g>\n",
              "        <path d=\"M19 3H5c-1.1 0-2 .9-2 2v14c0 1.1.9 2 2 2h14c1.1 0 2-.9 2-2V5c0-1.1-.9-2-2-2zM9 17H7v-7h2v7zm4 0h-2V7h2v10zm4 0h-2v-4h2v4z\"/>\n",
              "    </g>\n",
              "</svg>\n",
              "  </button>\n",
              "\n",
              "<style>\n",
              "  .colab-df-quickchart {\n",
              "      --bg-color: #E8F0FE;\n",
              "      --fill-color: #1967D2;\n",
              "      --hover-bg-color: #E2EBFA;\n",
              "      --hover-fill-color: #174EA6;\n",
              "      --disabled-fill-color: #AAA;\n",
              "      --disabled-bg-color: #DDD;\n",
              "  }\n",
              "\n",
              "  [theme=dark] .colab-df-quickchart {\n",
              "      --bg-color: #3B4455;\n",
              "      --fill-color: #D2E3FC;\n",
              "      --hover-bg-color: #434B5C;\n",
              "      --hover-fill-color: #FFFFFF;\n",
              "      --disabled-bg-color: #3B4455;\n",
              "      --disabled-fill-color: #666;\n",
              "  }\n",
              "\n",
              "  .colab-df-quickchart {\n",
              "    background-color: var(--bg-color);\n",
              "    border: none;\n",
              "    border-radius: 50%;\n",
              "    cursor: pointer;\n",
              "    display: none;\n",
              "    fill: var(--fill-color);\n",
              "    height: 32px;\n",
              "    padding: 0;\n",
              "    width: 32px;\n",
              "  }\n",
              "\n",
              "  .colab-df-quickchart:hover {\n",
              "    background-color: var(--hover-bg-color);\n",
              "    box-shadow: 0 1px 2px rgba(60, 64, 67, 0.3), 0 1px 3px 1px rgba(60, 64, 67, 0.15);\n",
              "    fill: var(--button-hover-fill-color);\n",
              "  }\n",
              "\n",
              "  .colab-df-quickchart-complete:disabled,\n",
              "  .colab-df-quickchart-complete:disabled:hover {\n",
              "    background-color: var(--disabled-bg-color);\n",
              "    fill: var(--disabled-fill-color);\n",
              "    box-shadow: none;\n",
              "  }\n",
              "\n",
              "  .colab-df-spinner {\n",
              "    border: 2px solid var(--fill-color);\n",
              "    border-color: transparent;\n",
              "    border-bottom-color: var(--fill-color);\n",
              "    animation:\n",
              "      spin 1s steps(1) infinite;\n",
              "  }\n",
              "\n",
              "  @keyframes spin {\n",
              "    0% {\n",
              "      border-color: transparent;\n",
              "      border-bottom-color: var(--fill-color);\n",
              "      border-left-color: var(--fill-color);\n",
              "    }\n",
              "    20% {\n",
              "      border-color: transparent;\n",
              "      border-left-color: var(--fill-color);\n",
              "      border-top-color: var(--fill-color);\n",
              "    }\n",
              "    30% {\n",
              "      border-color: transparent;\n",
              "      border-left-color: var(--fill-color);\n",
              "      border-top-color: var(--fill-color);\n",
              "      border-right-color: var(--fill-color);\n",
              "    }\n",
              "    40% {\n",
              "      border-color: transparent;\n",
              "      border-right-color: var(--fill-color);\n",
              "      border-top-color: var(--fill-color);\n",
              "    }\n",
              "    60% {\n",
              "      border-color: transparent;\n",
              "      border-right-color: var(--fill-color);\n",
              "    }\n",
              "    80% {\n",
              "      border-color: transparent;\n",
              "      border-right-color: var(--fill-color);\n",
              "      border-bottom-color: var(--fill-color);\n",
              "    }\n",
              "    90% {\n",
              "      border-color: transparent;\n",
              "      border-bottom-color: var(--fill-color);\n",
              "    }\n",
              "  }\n",
              "</style>\n",
              "\n",
              "  <script>\n",
              "    async function quickchart(key) {\n",
              "      const quickchartButtonEl =\n",
              "        document.querySelector('#' + key + ' button');\n",
              "      quickchartButtonEl.disabled = true;  // To prevent multiple clicks.\n",
              "      quickchartButtonEl.classList.add('colab-df-spinner');\n",
              "      try {\n",
              "        const charts = await google.colab.kernel.invokeFunction(\n",
              "            'suggestCharts', [key], {});\n",
              "      } catch (error) {\n",
              "        console.error('Error during call to suggestCharts:', error);\n",
              "      }\n",
              "      quickchartButtonEl.classList.remove('colab-df-spinner');\n",
              "      quickchartButtonEl.classList.add('colab-df-quickchart-complete');\n",
              "    }\n",
              "    (() => {\n",
              "      let quickchartButtonEl =\n",
              "        document.querySelector('#df-173b3c1b-166b-4c54-b9fd-6dfe070fab11 button');\n",
              "      quickchartButtonEl.style.display =\n",
              "        google.colab.kernel.accessAllowed ? 'block' : 'none';\n",
              "    })();\n",
              "  </script>\n",
              "</div>\n",
              "    </div>\n",
              "  </div>\n"
            ]
          },
          "metadata": {},
          "execution_count": 5
        }
      ]
    },
    {
      "cell_type": "code",
      "source": [
        "dataframe.info()"
      ],
      "metadata": {
        "colab": {
          "base_uri": "https://localhost:8080/"
        },
        "id": "l4NH3w0AbswJ",
        "outputId": "55a9a9db-ce8f-4875-d993-bb5ccd0f35c7"
      },
      "execution_count": 6,
      "outputs": [
        {
          "output_type": "stream",
          "name": "stdout",
          "text": [
            "<class 'pandas.core.frame.DataFrame'>\n",
            "RangeIndex: 3357 entries, 0 to 3356\n",
            "Data columns (total 7 columns):\n",
            " #   Column     Non-Null Count  Dtype  \n",
            "---  ------     --------------  -----  \n",
            " 0   Date       3357 non-null   object \n",
            " 1   Open       3357 non-null   float64\n",
            " 2   High       3357 non-null   float64\n",
            " 3   Low        3357 non-null   float64\n",
            " 4   Close      3357 non-null   float64\n",
            " 5   Adj Close  3357 non-null   float64\n",
            " 6   Volume     3357 non-null   float64\n",
            "dtypes: float64(6), object(1)\n",
            "memory usage: 183.7+ KB\n"
          ]
        }
      ]
    },
    {
      "cell_type": "code",
      "source": [
        "dataframe.describe()"
      ],
      "metadata": {
        "colab": {
          "base_uri": "https://localhost:8080/",
          "height": 300
        },
        "id": "8o4zGeWibvrj",
        "outputId": "e2a986d3-3a1b-4d0b-b0b3-1a1253a91973"
      },
      "execution_count": 7,
      "outputs": [
        {
          "output_type": "execute_result",
          "data": {
            "text/plain": [
              "               Open          High           Low         Close     Adj Close  \\\n",
              "count   3357.000000   3357.000000   3357.000000   3357.000000   3357.000000   \n",
              "mean   14280.733942  14617.408292  13917.086255  14290.522958  14290.522958   \n",
              "std    16024.100730  16413.765412  15585.277279  16024.424885  16024.424885   \n",
              "min      176.897003    211.731003    171.509995    178.102997    178.102997   \n",
              "25%      898.171997    913.184021    879.807007    899.072998    899.072998   \n",
              "50%     8169.060059   8296.694336   7944.776855   8180.479980   8180.479980   \n",
              "75%    23150.929690  23578.650390  22747.835940  23164.318360  23164.318360   \n",
              "max    67549.734380  68789.625000  66382.062500  67566.828130  67566.828130   \n",
              "\n",
              "             Volume  \n",
              "count  3.357000e+03  \n",
              "mean   1.648368e+10  \n",
              "std    1.916332e+10  \n",
              "min    5.914570e+06  \n",
              "25%    1.477750e+08  \n",
              "50%    1.100281e+10  \n",
              "75%    2.689636e+10  \n",
              "max    3.509680e+11  "
            ],
            "text/html": [
              "\n",
              "  <div id=\"df-86e79d32-9529-40df-a4dc-d7a8186be8df\" class=\"colab-df-container\">\n",
              "    <div>\n",
              "<style scoped>\n",
              "    .dataframe tbody tr th:only-of-type {\n",
              "        vertical-align: middle;\n",
              "    }\n",
              "\n",
              "    .dataframe tbody tr th {\n",
              "        vertical-align: top;\n",
              "    }\n",
              "\n",
              "    .dataframe thead th {\n",
              "        text-align: right;\n",
              "    }\n",
              "</style>\n",
              "<table border=\"1\" class=\"dataframe\">\n",
              "  <thead>\n",
              "    <tr style=\"text-align: right;\">\n",
              "      <th></th>\n",
              "      <th>Open</th>\n",
              "      <th>High</th>\n",
              "      <th>Low</th>\n",
              "      <th>Close</th>\n",
              "      <th>Adj Close</th>\n",
              "      <th>Volume</th>\n",
              "    </tr>\n",
              "  </thead>\n",
              "  <tbody>\n",
              "    <tr>\n",
              "      <th>count</th>\n",
              "      <td>3357.000000</td>\n",
              "      <td>3357.000000</td>\n",
              "      <td>3357.000000</td>\n",
              "      <td>3357.000000</td>\n",
              "      <td>3357.000000</td>\n",
              "      <td>3.357000e+03</td>\n",
              "    </tr>\n",
              "    <tr>\n",
              "      <th>mean</th>\n",
              "      <td>14280.733942</td>\n",
              "      <td>14617.408292</td>\n",
              "      <td>13917.086255</td>\n",
              "      <td>14290.522958</td>\n",
              "      <td>14290.522958</td>\n",
              "      <td>1.648368e+10</td>\n",
              "    </tr>\n",
              "    <tr>\n",
              "      <th>std</th>\n",
              "      <td>16024.100730</td>\n",
              "      <td>16413.765412</td>\n",
              "      <td>15585.277279</td>\n",
              "      <td>16024.424885</td>\n",
              "      <td>16024.424885</td>\n",
              "      <td>1.916332e+10</td>\n",
              "    </tr>\n",
              "    <tr>\n",
              "      <th>min</th>\n",
              "      <td>176.897003</td>\n",
              "      <td>211.731003</td>\n",
              "      <td>171.509995</td>\n",
              "      <td>178.102997</td>\n",
              "      <td>178.102997</td>\n",
              "      <td>5.914570e+06</td>\n",
              "    </tr>\n",
              "    <tr>\n",
              "      <th>25%</th>\n",
              "      <td>898.171997</td>\n",
              "      <td>913.184021</td>\n",
              "      <td>879.807007</td>\n",
              "      <td>899.072998</td>\n",
              "      <td>899.072998</td>\n",
              "      <td>1.477750e+08</td>\n",
              "    </tr>\n",
              "    <tr>\n",
              "      <th>50%</th>\n",
              "      <td>8169.060059</td>\n",
              "      <td>8296.694336</td>\n",
              "      <td>7944.776855</td>\n",
              "      <td>8180.479980</td>\n",
              "      <td>8180.479980</td>\n",
              "      <td>1.100281e+10</td>\n",
              "    </tr>\n",
              "    <tr>\n",
              "      <th>75%</th>\n",
              "      <td>23150.929690</td>\n",
              "      <td>23578.650390</td>\n",
              "      <td>22747.835940</td>\n",
              "      <td>23164.318360</td>\n",
              "      <td>23164.318360</td>\n",
              "      <td>2.689636e+10</td>\n",
              "    </tr>\n",
              "    <tr>\n",
              "      <th>max</th>\n",
              "      <td>67549.734380</td>\n",
              "      <td>68789.625000</td>\n",
              "      <td>66382.062500</td>\n",
              "      <td>67566.828130</td>\n",
              "      <td>67566.828130</td>\n",
              "      <td>3.509680e+11</td>\n",
              "    </tr>\n",
              "  </tbody>\n",
              "</table>\n",
              "</div>\n",
              "    <div class=\"colab-df-buttons\">\n",
              "\n",
              "  <div class=\"colab-df-container\">\n",
              "    <button class=\"colab-df-convert\" onclick=\"convertToInteractive('df-86e79d32-9529-40df-a4dc-d7a8186be8df')\"\n",
              "            title=\"Convert this dataframe to an interactive table.\"\n",
              "            style=\"display:none;\">\n",
              "\n",
              "  <svg xmlns=\"http://www.w3.org/2000/svg\" height=\"24px\" viewBox=\"0 -960 960 960\">\n",
              "    <path d=\"M120-120v-720h720v720H120Zm60-500h600v-160H180v160Zm220 220h160v-160H400v160Zm0 220h160v-160H400v160ZM180-400h160v-160H180v160Zm440 0h160v-160H620v160ZM180-180h160v-160H180v160Zm440 0h160v-160H620v160Z\"/>\n",
              "  </svg>\n",
              "    </button>\n",
              "\n",
              "  <style>\n",
              "    .colab-df-container {\n",
              "      display:flex;\n",
              "      gap: 12px;\n",
              "    }\n",
              "\n",
              "    .colab-df-convert {\n",
              "      background-color: #E8F0FE;\n",
              "      border: none;\n",
              "      border-radius: 50%;\n",
              "      cursor: pointer;\n",
              "      display: none;\n",
              "      fill: #1967D2;\n",
              "      height: 32px;\n",
              "      padding: 0 0 0 0;\n",
              "      width: 32px;\n",
              "    }\n",
              "\n",
              "    .colab-df-convert:hover {\n",
              "      background-color: #E2EBFA;\n",
              "      box-shadow: 0px 1px 2px rgba(60, 64, 67, 0.3), 0px 1px 3px 1px rgba(60, 64, 67, 0.15);\n",
              "      fill: #174EA6;\n",
              "    }\n",
              "\n",
              "    .colab-df-buttons div {\n",
              "      margin-bottom: 4px;\n",
              "    }\n",
              "\n",
              "    [theme=dark] .colab-df-convert {\n",
              "      background-color: #3B4455;\n",
              "      fill: #D2E3FC;\n",
              "    }\n",
              "\n",
              "    [theme=dark] .colab-df-convert:hover {\n",
              "      background-color: #434B5C;\n",
              "      box-shadow: 0px 1px 3px 1px rgba(0, 0, 0, 0.15);\n",
              "      filter: drop-shadow(0px 1px 2px rgba(0, 0, 0, 0.3));\n",
              "      fill: #FFFFFF;\n",
              "    }\n",
              "  </style>\n",
              "\n",
              "    <script>\n",
              "      const buttonEl =\n",
              "        document.querySelector('#df-86e79d32-9529-40df-a4dc-d7a8186be8df button.colab-df-convert');\n",
              "      buttonEl.style.display =\n",
              "        google.colab.kernel.accessAllowed ? 'block' : 'none';\n",
              "\n",
              "      async function convertToInteractive(key) {\n",
              "        const element = document.querySelector('#df-86e79d32-9529-40df-a4dc-d7a8186be8df');\n",
              "        const dataTable =\n",
              "          await google.colab.kernel.invokeFunction('convertToInteractive',\n",
              "                                                    [key], {});\n",
              "        if (!dataTable) return;\n",
              "\n",
              "        const docLinkHtml = 'Like what you see? Visit the ' +\n",
              "          '<a target=\"_blank\" href=https://colab.research.google.com/notebooks/data_table.ipynb>data table notebook</a>'\n",
              "          + ' to learn more about interactive tables.';\n",
              "        element.innerHTML = '';\n",
              "        dataTable['output_type'] = 'display_data';\n",
              "        await google.colab.output.renderOutput(dataTable, element);\n",
              "        const docLink = document.createElement('div');\n",
              "        docLink.innerHTML = docLinkHtml;\n",
              "        element.appendChild(docLink);\n",
              "      }\n",
              "    </script>\n",
              "  </div>\n",
              "\n",
              "\n",
              "<div id=\"df-303b1e1c-e706-46e9-9345-677f8f267af0\">\n",
              "  <button class=\"colab-df-quickchart\" onclick=\"quickchart('df-303b1e1c-e706-46e9-9345-677f8f267af0')\"\n",
              "            title=\"Suggest charts\"\n",
              "            style=\"display:none;\">\n",
              "\n",
              "<svg xmlns=\"http://www.w3.org/2000/svg\" height=\"24px\"viewBox=\"0 0 24 24\"\n",
              "     width=\"24px\">\n",
              "    <g>\n",
              "        <path d=\"M19 3H5c-1.1 0-2 .9-2 2v14c0 1.1.9 2 2 2h14c1.1 0 2-.9 2-2V5c0-1.1-.9-2-2-2zM9 17H7v-7h2v7zm4 0h-2V7h2v10zm4 0h-2v-4h2v4z\"/>\n",
              "    </g>\n",
              "</svg>\n",
              "  </button>\n",
              "\n",
              "<style>\n",
              "  .colab-df-quickchart {\n",
              "      --bg-color: #E8F0FE;\n",
              "      --fill-color: #1967D2;\n",
              "      --hover-bg-color: #E2EBFA;\n",
              "      --hover-fill-color: #174EA6;\n",
              "      --disabled-fill-color: #AAA;\n",
              "      --disabled-bg-color: #DDD;\n",
              "  }\n",
              "\n",
              "  [theme=dark] .colab-df-quickchart {\n",
              "      --bg-color: #3B4455;\n",
              "      --fill-color: #D2E3FC;\n",
              "      --hover-bg-color: #434B5C;\n",
              "      --hover-fill-color: #FFFFFF;\n",
              "      --disabled-bg-color: #3B4455;\n",
              "      --disabled-fill-color: #666;\n",
              "  }\n",
              "\n",
              "  .colab-df-quickchart {\n",
              "    background-color: var(--bg-color);\n",
              "    border: none;\n",
              "    border-radius: 50%;\n",
              "    cursor: pointer;\n",
              "    display: none;\n",
              "    fill: var(--fill-color);\n",
              "    height: 32px;\n",
              "    padding: 0;\n",
              "    width: 32px;\n",
              "  }\n",
              "\n",
              "  .colab-df-quickchart:hover {\n",
              "    background-color: var(--hover-bg-color);\n",
              "    box-shadow: 0 1px 2px rgba(60, 64, 67, 0.3), 0 1px 3px 1px rgba(60, 64, 67, 0.15);\n",
              "    fill: var(--button-hover-fill-color);\n",
              "  }\n",
              "\n",
              "  .colab-df-quickchart-complete:disabled,\n",
              "  .colab-df-quickchart-complete:disabled:hover {\n",
              "    background-color: var(--disabled-bg-color);\n",
              "    fill: var(--disabled-fill-color);\n",
              "    box-shadow: none;\n",
              "  }\n",
              "\n",
              "  .colab-df-spinner {\n",
              "    border: 2px solid var(--fill-color);\n",
              "    border-color: transparent;\n",
              "    border-bottom-color: var(--fill-color);\n",
              "    animation:\n",
              "      spin 1s steps(1) infinite;\n",
              "  }\n",
              "\n",
              "  @keyframes spin {\n",
              "    0% {\n",
              "      border-color: transparent;\n",
              "      border-bottom-color: var(--fill-color);\n",
              "      border-left-color: var(--fill-color);\n",
              "    }\n",
              "    20% {\n",
              "      border-color: transparent;\n",
              "      border-left-color: var(--fill-color);\n",
              "      border-top-color: var(--fill-color);\n",
              "    }\n",
              "    30% {\n",
              "      border-color: transparent;\n",
              "      border-left-color: var(--fill-color);\n",
              "      border-top-color: var(--fill-color);\n",
              "      border-right-color: var(--fill-color);\n",
              "    }\n",
              "    40% {\n",
              "      border-color: transparent;\n",
              "      border-right-color: var(--fill-color);\n",
              "      border-top-color: var(--fill-color);\n",
              "    }\n",
              "    60% {\n",
              "      border-color: transparent;\n",
              "      border-right-color: var(--fill-color);\n",
              "    }\n",
              "    80% {\n",
              "      border-color: transparent;\n",
              "      border-right-color: var(--fill-color);\n",
              "      border-bottom-color: var(--fill-color);\n",
              "    }\n",
              "    90% {\n",
              "      border-color: transparent;\n",
              "      border-bottom-color: var(--fill-color);\n",
              "    }\n",
              "  }\n",
              "</style>\n",
              "\n",
              "  <script>\n",
              "    async function quickchart(key) {\n",
              "      const quickchartButtonEl =\n",
              "        document.querySelector('#' + key + ' button');\n",
              "      quickchartButtonEl.disabled = true;  // To prevent multiple clicks.\n",
              "      quickchartButtonEl.classList.add('colab-df-spinner');\n",
              "      try {\n",
              "        const charts = await google.colab.kernel.invokeFunction(\n",
              "            'suggestCharts', [key], {});\n",
              "      } catch (error) {\n",
              "        console.error('Error during call to suggestCharts:', error);\n",
              "      }\n",
              "      quickchartButtonEl.classList.remove('colab-df-spinner');\n",
              "      quickchartButtonEl.classList.add('colab-df-quickchart-complete');\n",
              "    }\n",
              "    (() => {\n",
              "      let quickchartButtonEl =\n",
              "        document.querySelector('#df-303b1e1c-e706-46e9-9345-677f8f267af0 button');\n",
              "      quickchartButtonEl.style.display =\n",
              "        google.colab.kernel.accessAllowed ? 'block' : 'none';\n",
              "    })();\n",
              "  </script>\n",
              "</div>\n",
              "    </div>\n",
              "  </div>\n"
            ]
          },
          "metadata": {},
          "execution_count": 7
        }
      ]
    },
    {
      "cell_type": "code",
      "source": [
        "dataframe.columns.tolist()"
      ],
      "metadata": {
        "colab": {
          "base_uri": "https://localhost:8080/"
        },
        "id": "P4iDap0MaRmT",
        "outputId": "1e5c144f-190b-4c00-88d1-e8330e8d1ed2"
      },
      "execution_count": 8,
      "outputs": [
        {
          "output_type": "execute_result",
          "data": {
            "text/plain": [
              "['Date', 'Open', 'High', 'Low', 'Close', 'Adj Close', 'Volume']"
            ]
          },
          "metadata": {},
          "execution_count": 8
        }
      ]
    },
    {
      "cell_type": "code",
      "source": [
        "dataframe.shape"
      ],
      "metadata": {
        "colab": {
          "base_uri": "https://localhost:8080/"
        },
        "id": "C0S3qnCwaRpj",
        "outputId": "8a554dd7-c4fb-4b32-9c28-7c5aad8e5b5c"
      },
      "execution_count": 9,
      "outputs": [
        {
          "output_type": "execute_result",
          "data": {
            "text/plain": [
              "(3357, 7)"
            ]
          },
          "metadata": {},
          "execution_count": 9
        }
      ]
    },
    {
      "cell_type": "code",
      "source": [
        "print(f\"Columns : {dataframe.shape[1]} || Rows : {dataframe.shape[0]}\")"
      ],
      "metadata": {
        "colab": {
          "base_uri": "https://localhost:8080/"
        },
        "id": "XhprNT6UaRtM",
        "outputId": "bfe3012e-9d2f-42a6-b55e-95bc8173405d"
      },
      "execution_count": 10,
      "outputs": [
        {
          "output_type": "stream",
          "name": "stdout",
          "text": [
            "Columns : 7 || Rows : 3357\n"
          ]
        }
      ]
    },
    {
      "cell_type": "code",
      "source": [
        "na_values = dataframe.isna().values.sum()\n",
        "null_values = dataframe.isnull().values.sum()\n",
        "print(f\"NA Values : {na_values} || Null Values : {null_values}\")"
      ],
      "metadata": {
        "colab": {
          "base_uri": "https://localhost:8080/"
        },
        "id": "vinxEGa3aRw9",
        "outputId": "7d649347-43da-4a61-8b01-fc7c039900e4"
      },
      "execution_count": 11,
      "outputs": [
        {
          "output_type": "stream",
          "name": "stdout",
          "text": [
            "NA Values : 0 || Null Values : 0\n"
          ]
        }
      ]
    },
    {
      "cell_type": "code",
      "source": [
        "print(f\"Dataset -> Start Date : {dataframe.iloc[0,0]} || End Date : {dataframe.iloc[-1,0]}\")"
      ],
      "metadata": {
        "colab": {
          "base_uri": "https://localhost:8080/"
        },
        "id": "rSSmccm_aR0R",
        "outputId": "e4a4bdfa-8d45-432e-984a-6c8031d38035"
      },
      "execution_count": 12,
      "outputs": [
        {
          "output_type": "stream",
          "name": "stdout",
          "text": [
            "Dataset -> Start Date : 2014-09-17 || End Date : 2023-11-25\n"
          ]
        }
      ]
    },
    {
      "cell_type": "code",
      "source": [
        "dataframe['Date'] = pd.to_datetime(dataframe['Date'])"
      ],
      "metadata": {
        "id": "Khwbgu2hfFJE"
      },
      "execution_count": 13,
      "outputs": []
    },
    {
      "cell_type": "code",
      "source": [
        "plt.figure(figsize=(14,6), dpi= 100, facecolor='w', edgecolor='k')\n",
        "\n",
        "plt.plot(dataframe['Date'], dataframe['Open'], color='red', label = 'Opening Price')\n",
        "plt.plot(dataframe['Date'], dataframe['Close'], color='green', label = 'Closing Price')\n",
        "plt.plot(dataframe['Date'], dataframe['Low'], color='black', label = 'Low Price')\n",
        "plt.plot(dataframe['Date'], dataframe['High'], color='blue', label = 'High Price')\n",
        "plt.xlabel('Date')\n",
        "plt.ylabel('USD')\n",
        "plt.legend(loc='best')\n",
        "\n",
        "plt.subplots(2, 2, figsize = (14, 8))\n",
        "\n",
        "ax1 = plt.subplot(2, 2, 1)\n",
        "plt.plot(dataframe['Date'], dataframe['Open'], color='red', label = 'Opening Price')\n",
        "plt.xlabel('Date')\n",
        "plt.ylabel('Opening Price')\n",
        "plt.legend(loc='best')\n",
        "\n",
        "ax2 = plt.subplot(2, 2, 2)\n",
        "plt.plot(dataframe['Date'], dataframe['Close'], color='green', label = 'Closing Price')\n",
        "plt.xlabel('Date')\n",
        "plt.ylabel('Closing Price')\n",
        "plt.legend(loc='best')\n",
        "\n",
        "ax3 = plt.subplot(2, 2, 3)\n",
        "plt.plot(dataframe['Date'], dataframe['Low'], color='black', label = 'Low Price')\n",
        "plt.xlabel('Date')\n",
        "plt.ylabel('Low Price')\n",
        "plt.legend(loc='best')\n",
        "\n",
        "ax4 = plt.subplot(2, 2, 4)\n",
        "plt.plot(dataframe['Date'], dataframe['High'], color='blue', label = 'High Price')\n",
        "plt.xlabel('Date')\n",
        "plt.ylabel('High Price')\n",
        "plt.legend(loc='best')\n",
        "\n",
        "plt.show()"
      ],
      "metadata": {
        "colab": {
          "base_uri": "https://localhost:8080/",
          "height": 1000
        },
        "id": "NxzQLJiKaR3V",
        "outputId": "c079d141-bad6-49fa-e258-8c3f8e8674c8"
      },
      "execution_count": 14,
      "outputs": [
        {
          "output_type": "display_data",
          "data": {
            "text/plain": [
              "<Figure size 1400x600 with 1 Axes>"
            ],
            "image/png": "[encoded data removed]"
          },
          "metadata": {}
        },
        {
          "output_type": "display_data",
          "data": {
            "text/plain": [
              "<Figure size 1400x800 with 4 Axes>"
            ],
            "image/png": "[encoded data removed]"
          },
          "metadata": {}
        }
      ]
    },
    {
      "cell_type": "markdown",
      "source": [
        "**Data Pre-processing**"
      ],
      "metadata": {
        "id": "3lUdWesk5Qzl"
      }
    },
    {
      "cell_type": "code",
      "source": [
        "final_dataframe = dataframe.drop(['Date','Open', 'Low', 'High','Adj Close'], axis=1)"
      ],
      "metadata": {
        "id": "PB5n51XdaR6q"
      },
      "execution_count": 15,
      "outputs": []
    },
    {
      "cell_type": "code",
      "source": [
        "final_dataframe.head()"
      ],
      "metadata": {
        "colab": {
          "base_uri": "https://localhost:8080/",
          "height": 206
        },
        "id": "kOMqxh3shbxK",
        "outputId": "43b88e3c-57b5-475f-a934-9910c23857b4"
      },
      "execution_count": 16,
      "outputs": [
        {
          "output_type": "execute_result",
          "data": {
            "text/plain": [
              "        Close      Volume\n",
              "0  457.334015  21056800.0\n",
              "1  424.440002  34483200.0\n",
              "2  394.795990  37919700.0\n",
              "3  408.903992  36863600.0\n",
              "4  398.821014  26580100.0"
            ],
            "text/html": [
              "\n",
              "  <div id=\"df-afe62a16-58c7-4932-983e-e1af12d16299\" class=\"colab-df-container\">\n",
              "    <div>\n",
              "<style scoped>\n",
              "    .dataframe tbody tr th:only-of-type {\n",
              "        vertical-align: middle;\n",
              "    }\n",
              "\n",
              "    .dataframe tbody tr th {\n",
              "        vertical-align: top;\n",
              "    }\n",
              "\n",
              "    .dataframe thead th {\n",
              "        text-align: right;\n",
              "    }\n",
              "</style>\n",
              "<table border=\"1\" class=\"dataframe\">\n",
              "  <thead>\n",
              "    <tr style=\"text-align: right;\">\n",
              "      <th></th>\n",
              "      <th>Close</th>\n",
              "      <th>Volume</th>\n",
              "    </tr>\n",
              "  </thead>\n",
              "  <tbody>\n",
              "    <tr>\n",
              "      <th>0</th>\n",
              "      <td>457.334015</td>\n",
              "      <td>21056800.0</td>\n",
              "    </tr>\n",
              "    <tr>\n",
              "      <th>1</th>\n",
              "      <td>424.440002</td>\n",
              "      <td>34483200.0</td>\n",
              "    </tr>\n",
              "    <tr>\n",
              "      <th>2</th>\n",
              "      <td>394.795990</td>\n",
              "      <td>37919700.0</td>\n",
              "    </tr>\n",
              "    <tr>\n",
              "      <th>3</th>\n",
              "      <td>408.903992</td>\n",
              "      <td>36863600.0</td>\n",
              "    </tr>\n",
              "    <tr>\n",
              "      <th>4</th>\n",
              "      <td>398.821014</td>\n",
              "      <td>26580100.0</td>\n",
              "    </tr>\n",
              "  </tbody>\n",
              "</table>\n",
              "</div>\n",
              "    <div class=\"colab-df-buttons\">\n",
              "\n",
              "  <div class=\"colab-df-container\">\n",
              "    <button class=\"colab-df-convert\" onclick=\"convertToInteractive('df-afe62a16-58c7-4932-983e-e1af12d16299')\"\n",
              "            title=\"Convert this dataframe to an interactive table.\"\n",
              "            style=\"display:none;\">\n",
              "\n",
              "  <svg xmlns=\"http://www.w3.org/2000/svg\" height=\"24px\" viewBox=\"0 -960 960 960\">\n",
              "    <path d=\"M120-120v-720h720v720H120Zm60-500h600v-160H180v160Zm220 220h160v-160H400v160Zm0 220h160v-160H400v160ZM180-400h160v-160H180v160Zm440 0h160v-160H620v160ZM180-180h160v-160H180v160Zm440 0h160v-160H620v160Z\"/>\n",
              "  </svg>\n",
              "    </button>\n",
              "\n",
              "  <style>\n",
              "    .colab-df-container {\n",
              "      display:flex;\n",
              "      gap: 12px;\n",
              "    }\n",
              "\n",
              "    .colab-df-convert {\n",
              "      background-color: #E8F0FE;\n",
              "      border: none;\n",
              "      border-radius: 50%;\n",
              "      cursor: pointer;\n",
              "      display: none;\n",
              "      fill: #1967D2;\n",
              "      height: 32px;\n",
              "      padding: 0 0 0 0;\n",
              "      width: 32px;\n",
              "    }\n",
              "\n",
              "    .colab-df-convert:hover {\n",
              "      background-color: #E2EBFA;\n",
              "      box-shadow: 0px 1px 2px rgba(60, 64, 67, 0.3), 0px 1px 3px 1px rgba(60, 64, 67, 0.15);\n",
              "      fill: #174EA6;\n",
              "    }\n",
              "\n",
              "    .colab-df-buttons div {\n",
              "      margin-bottom: 4px;\n",
              "    }\n",
              "\n",
              "    [theme=dark] .colab-df-convert {\n",
              "      background-color: #3B4455;\n",
              "      fill: #D2E3FC;\n",
              "    }\n",
              "\n",
              "    [theme=dark] .colab-df-convert:hover {\n",
              "      background-color: #434B5C;\n",
              "      box-shadow: 0px 1px 3px 1px rgba(0, 0, 0, 0.15);\n",
              "      filter: drop-shadow(0px 1px 2px rgba(0, 0, 0, 0.3));\n",
              "      fill: #FFFFFF;\n",
              "    }\n",
              "  </style>\n",
              "\n",
              "    <script>\n",
              "      const buttonEl =\n",
              "        document.querySelector('#df-afe62a16-58c7-4932-983e-e1af12d16299 button.colab-df-convert');\n",
              "      buttonEl.style.display =\n",
              "        google.colab.kernel.accessAllowed ? 'block' : 'none';\n",
              "\n",
              "      async function convertToInteractive(key) {\n",
              "        const element = document.querySelector('#df-afe62a16-58c7-4932-983e-e1af12d16299');\n",
              "        const dataTable =\n",
              "          await google.colab.kernel.invokeFunction('convertToInteractive',\n",
              "                                                    [key], {});\n",
              "        if (!dataTable) return;\n",
              "\n",
              "        const docLinkHtml = 'Like what you see? Visit the ' +\n",
              "          '<a target=\"_blank\" href=https://colab.research.google.com/notebooks/data_table.ipynb>data table notebook</a>'\n",
              "          + ' to learn more about interactive tables.';\n",
              "        element.innerHTML = '';\n",
              "        dataTable['output_type'] = 'display_data';\n",
              "        await google.colab.output.renderOutput(dataTable, element);\n",
              "        const docLink = document.createElement('div');\n",
              "        docLink.innerHTML = docLinkHtml;\n",
              "        element.appendChild(docLink);\n",
              "      }\n",
              "    </script>\n",
              "  </div>\n",
              "\n",
              "\n",
              "<div id=\"df-bc7c7900-743c-4706-a306-1bf27cc96f2d\">\n",
              "  <button class=\"colab-df-quickchart\" onclick=\"quickchart('df-bc7c7900-743c-4706-a306-1bf27cc96f2d')\"\n",
              "            title=\"Suggest charts\"\n",
              "            style=\"display:none;\">\n",
              "\n",
              "<svg xmlns=\"http://www.w3.org/2000/svg\" height=\"24px\"viewBox=\"0 0 24 24\"\n",
              "     width=\"24px\">\n",
              "    <g>\n",
              "        <path d=\"M19 3H5c-1.1 0-2 .9-2 2v14c0 1.1.9 2 2 2h14c1.1 0 2-.9 2-2V5c0-1.1-.9-2-2-2zM9 17H7v-7h2v7zm4 0h-2V7h2v10zm4 0h-2v-4h2v4z\"/>\n",
              "    </g>\n",
              "</svg>\n",
              "  </button>\n",
              "\n",
              "<style>\n",
              "  .colab-df-quickchart {\n",
              "      --bg-color: #E8F0FE;\n",
              "      --fill-color: #1967D2;\n",
              "      --hover-bg-color: #E2EBFA;\n",
              "      --hover-fill-color: #174EA6;\n",
              "      --disabled-fill-color: #AAA;\n",
              "      --disabled-bg-color: #DDD;\n",
              "  }\n",
              "\n",
              "  [theme=dark] .colab-df-quickchart {\n",
              "      --bg-color: #3B4455;\n",
              "      --fill-color: #D2E3FC;\n",
              "      --hover-bg-color: #434B5C;\n",
              "      --hover-fill-color: #FFFFFF;\n",
              "      --disabled-bg-color: #3B4455;\n",
              "      --disabled-fill-color: #666;\n",
              "  }\n",
              "\n",
              "  .colab-df-quickchart {\n",
              "    background-color: var(--bg-color);\n",
              "    border: none;\n",
              "    border-radius: 50%;\n",
              "    cursor: pointer;\n",
              "    display: none;\n",
              "    fill: var(--fill-color);\n",
              "    height: 32px;\n",
              "    padding: 0;\n",
              "    width: 32px;\n",
              "  }\n",
              "\n",
              "  .colab-df-quickchart:hover {\n",
              "    background-color: var(--hover-bg-color);\n",
              "    box-shadow: 0 1px 2px rgba(60, 64, 67, 0.3), 0 1px 3px 1px rgba(60, 64, 67, 0.15);\n",
              "    fill: var(--button-hover-fill-color);\n",
              "  }\n",
              "\n",
              "  .colab-df-quickchart-complete:disabled,\n",
              "  .colab-df-quickchart-complete:disabled:hover {\n",
              "    background-color: var(--disabled-bg-color);\n",
              "    fill: var(--disabled-fill-color);\n",
              "    box-shadow: none;\n",
              "  }\n",
              "\n",
              "  .colab-df-spinner {\n",
              "    border: 2px solid var(--fill-color);\n",
              "    border-color: transparent;\n",
              "    border-bottom-color: var(--fill-color);\n",
              "    animation:\n",
              "      spin 1s steps(1) infinite;\n",
              "  }\n",
              "\n",
              "  @keyframes spin {\n",
              "    0% {\n",
              "      border-color: transparent;\n",
              "      border-bottom-color: var(--fill-color);\n",
              "      border-left-color: var(--fill-color);\n",
              "    }\n",
              "    20% {\n",
              "      border-color: transparent;\n",
              "      border-left-color: var(--fill-color);\n",
              "      border-top-color: var(--fill-color);\n",
              "    }\n",
              "    30% {\n",
              "      border-color: transparent;\n",
              "      border-left-color: var(--fill-color);\n",
              "      border-top-color: var(--fill-color);\n",
              "      border-right-color: var(--fill-color);\n",
              "    }\n",
              "    40% {\n",
              "      border-color: transparent;\n",
              "      border-right-color: var(--fill-color);\n",
              "      border-top-color: var(--fill-color);\n",
              "    }\n",
              "    60% {\n",
              "      border-color: transparent;\n",
              "      border-right-color: var(--fill-color);\n",
              "    }\n",
              "    80% {\n",
              "      border-color: transparent;\n",
              "      border-right-color: var(--fill-color);\n",
              "      border-bottom-color: var(--fill-color);\n",
              "    }\n",
              "    90% {\n",
              "      border-color: transparent;\n",
              "      border-bottom-color: var(--fill-color);\n",
              "    }\n",
              "  }\n",
              "</style>\n",
              "\n",
              "  <script>\n",
              "    async function quickchart(key) {\n",
              "      const quickchartButtonEl =\n",
              "        document.querySelector('#' + key + ' button');\n",
              "      quickchartButtonEl.disabled = true;  // To prevent multiple clicks.\n",
              "      quickchartButtonEl.classList.add('colab-df-spinner');\n",
              "      try {\n",
              "        const charts = await google.colab.kernel.invokeFunction(\n",
              "            'suggestCharts', [key], {});\n",
              "      } catch (error) {\n",
              "        console.error('Error during call to suggestCharts:', error);\n",
              "      }\n",
              "      quickchartButtonEl.classList.remove('colab-df-spinner');\n",
              "      quickchartButtonEl.classList.add('colab-df-quickchart-complete');\n",
              "    }\n",
              "    (() => {\n",
              "      let quickchartButtonEl =\n",
              "        document.querySelector('#df-bc7c7900-743c-4706-a306-1bf27cc96f2d button');\n",
              "      quickchartButtonEl.style.display =\n",
              "        google.colab.kernel.accessAllowed ? 'block' : 'none';\n",
              "    })();\n",
              "  </script>\n",
              "</div>\n",
              "    </div>\n",
              "  </div>\n"
            ]
          },
          "metadata": {},
          "execution_count": 16
        }
      ]
    },
    {
      "cell_type": "markdown",
      "source": [
        "**Min-Max Scaler**"
      ],
      "metadata": {
        "id": "jmk9pbAo5lBz"
      }
    },
    {
      "cell_type": "code",
      "source": [
        "scalar = MinMaxScaler(feature_range=(0, 1))\n",
        "dataframe_scaled = scalar.fit_transform(final_dataframe)"
      ],
      "metadata": {
        "id": "tL0rAKzKaR92"
      },
      "execution_count": 17,
      "outputs": []
    },
    {
      "cell_type": "code",
      "source": [
        "dataframe_scaled.shape"
      ],
      "metadata": {
        "colab": {
          "base_uri": "https://localhost:8080/"
        },
        "id": "6EF1YDNzaSA5",
        "outputId": "06dc91e3-82cf-488a-b044-ccbd6971e683"
      },
      "execution_count": 18,
      "outputs": [
        {
          "output_type": "execute_result",
          "data": {
            "text/plain": [
              "(3357, 2)"
            ]
          },
          "metadata": {},
          "execution_count": 18
        }
      ]
    },
    {
      "cell_type": "code",
      "source": [
        "dataframe_scaled[0,:]"
      ],
      "metadata": {
        "colab": {
          "base_uri": "https://localhost:8080/"
        },
        "id": "ipjUFSXPFd-p",
        "outputId": "429925f4-acaf-4360-d3d6-2aa3992bb915"
      },
      "execution_count": 19,
      "outputs": [
        {
          "output_type": "execute_result",
          "data": {
            "text/plain": [
              "array([4.14358659e-03, 4.31449169e-05])"
            ]
          },
          "metadata": {},
          "execution_count": 19
        }
      ]
    },
    {
      "cell_type": "code",
      "source": [
        "def create_train_test_dataset(dataframe, past_values = 1, train_test_split = 0):\n",
        "  data_x, data_y = [], []\n",
        "  for i in range(len(dataframe)-past_values):\n",
        "    data_x.append(dataframe[i:i+past_values,:])\n",
        "    data_y.append(dataframe[i+past_values:i+past_values+1,0])\n",
        "  # print(len(data_x),len(data_y))\n",
        "  split_index = int(round(train_test_split * len(dataframe)))\n",
        "  x_train, x_test = data_x[:split_index], data_x[split_index:]\n",
        "  y_train, y_test = data_y[:split_index], data_y[split_index:]\n",
        "  return np.array(data_x), np.array(data_y), np.array(x_train), np.array(y_train), np.array(x_test), np.array(y_test)"
      ],
      "metadata": {
        "id": "ZocS3nq3aSDu"
      },
      "execution_count": 20,
      "outputs": []
    },
    {
      "cell_type": "code",
      "source": [
        "data_x, data_y, x_train, y_train, x_test, y_test = create_train_test_dataset(dataframe_scaled, 25, 0.8)"
      ],
      "metadata": {
        "id": "FTdZuKdwaSGk"
      },
      "execution_count": 21,
      "outputs": []
    },
    {
      "cell_type": "code",
      "source": [
        "x_train.shape, y_train.shape"
      ],
      "metadata": {
        "colab": {
          "base_uri": "https://localhost:8080/"
        },
        "id": "EwFhjV3uZszs",
        "outputId": "d641bcd6-ec73-4ae1-b617-b3c6a6672826"
      },
      "execution_count": 22,
      "outputs": [
        {
          "output_type": "execute_result",
          "data": {
            "text/plain": [
              "((2686, 25, 2), (2686, 1))"
            ]
          },
          "metadata": {},
          "execution_count": 22
        }
      ]
    },
    {
      "cell_type": "code",
      "source": [
        "x_test.shape, y_test.shape"
      ],
      "metadata": {
        "colab": {
          "base_uri": "https://localhost:8080/"
        },
        "id": "fjuoF4SiZs3A",
        "outputId": "25e76203-521c-46c5-bd2c-439bdb10c074"
      },
      "execution_count": 23,
      "outputs": [
        {
          "output_type": "execute_result",
          "data": {
            "text/plain": [
              "((646, 25, 2), (646, 1))"
            ]
          },
          "metadata": {},
          "execution_count": 23
        }
      ]
    },
    {
      "cell_type": "markdown",
      "source": [
        "**Model Selection**"
      ],
      "metadata": {
        "id": "q_jkiLRm5vbt"
      }
    },
    {
      "cell_type": "markdown",
      "source": [
        "**Model Summary**"
      ],
      "metadata": {
        "id": "etzFXcEZ5yFd"
      }
    },
    {
      "cell_type": "code",
      "source": [
        "model = Sequential()\n",
        "model.add(LSTM(units=16, return_sequences=True, input_shape=(x_train.shape[1], x_train.shape[2]), activation = \"relu\"))\n",
        "model.add(Dropout(0.2))\n",
        "model.add(LSTM(units=16, return_sequences=False))\n",
        "model.add(Dropout(0.2))\n",
        "model.add(Dense(units=1, activation='linear'))\n",
        "model.compile(optimizer='adam', loss='mse', metrics=[tf.keras.metrics.RootMeanSquaredError()])\n",
        "\n",
        "model.summary()"
      ],
      "metadata": {
        "colab": {
          "base_uri": "https://localhost:8080/"
        },
        "id": "j1XHPm_uZs6L",
        "outputId": "99c01fea-075e-45bb-bcb5-7eb42fefaecf"
      },
      "execution_count": 24,
      "outputs": [
        {
          "output_type": "stream",
          "name": "stdout",
          "text": [
            "Model: \"sequential\"\n",
            "_________________________________________________________________\n",
            " Layer (type)                Output Shape              Param #   \n",
            "=================================================================\n",
            " lstm (LSTM)                 (None, 25, 16)            1216      \n",
            "                                                                 \n",
            " dropout (Dropout)           (None, 25, 16)            0         \n",
            "                                                                 \n",
            " lstm_1 (LSTM)               (None, 16)                2112      \n",
            "                                                                 \n",
            " dropout_1 (Dropout)         (None, 16)                0         \n",
            "                                                                 \n",
            " dense (Dense)               (None, 1)                 17        \n",
            "                                                                 \n",
            "=================================================================\n",
            "Total params: 3345 (13.07 KB)\n",
            "Trainable params: 3345 (13.07 KB)\n",
            "Non-trainable params: 0 (0.00 Byte)\n",
            "_________________________________________________________________\n"
          ]
        }
      ]
    },
    {
      "cell_type": "markdown",
      "source": [
        "**Model Training**"
      ],
      "metadata": {
        "id": "8VrEWREb56CD"
      }
    },
    {
      "cell_type": "code",
      "source": [
        "early_stop = EarlyStopping(monitor='val_loss', mode='min', verbose=1, patience=5)\n",
        "\n",
        "history = model.fit(x_train, y_train, validation_split=0.3, epochs=40, batch_size=64, callbacks=[early_stop])"
      ],
      "metadata": {
        "colab": {
          "base_uri": "https://localhost:8080/"
        },
        "id": "BQol4nX_Zs9m",
        "outputId": "c4429a42-eaa4-4c1a-bd8a-0d1dc2f9cfb1"
      },
      "execution_count": 25,
      "outputs": [
        {
          "output_type": "stream",
          "name": "stdout",
          "text": [
            "Epoch 1/40\n",
            "30/30 [==============================] - 5s 52ms/step - loss: 0.0028 - root_mean_squared_error: 0.0530 - val_loss: 0.1013 - val_root_mean_squared_error: 0.3183\n",
            "Epoch 2/40\n",
            "30/30 [==============================] - 1s 26ms/step - loss: 5.1333e-04 - root_mean_squared_error: 0.0227 - val_loss: 0.0280 - val_root_mean_squared_error: 0.1673\n",
            "Epoch 3/40\n",
            "30/30 [==============================] - 1s 27ms/step - loss: 3.1714e-04 - root_mean_squared_error: 0.0178 - val_loss: 0.0197 - val_root_mean_squared_error: 0.1403\n",
            "Epoch 4/40\n",
            "30/30 [==============================] - 1s 27ms/step - loss: 2.7169e-04 - root_mean_squared_error: 0.0165 - val_loss: 0.0163 - val_root_mean_squared_error: 0.1276\n",
            "Epoch 5/40\n",
            "30/30 [==============================] - 1s 38ms/step - loss: 2.6440e-04 - root_mean_squared_error: 0.0163 - val_loss: 0.0124 - val_root_mean_squared_error: 0.1112\n",
            "Epoch 6/40\n",
            "30/30 [==============================] - 1s 42ms/step - loss: 2.3559e-04 - root_mean_squared_error: 0.0153 - val_loss: 0.0110 - val_root_mean_squared_error: 0.1050\n",
            "Epoch 7/40\n",
            "30/30 [==============================] - 1s 42ms/step - loss: 2.1762e-04 - root_mean_squared_error: 0.0148 - val_loss: 0.0109 - val_root_mean_squared_error: 0.1043\n",
            "Epoch 8/40\n",
            "30/30 [==============================] - 1s 45ms/step - loss: 2.3973e-04 - root_mean_squared_error: 0.0155 - val_loss: 0.0099 - val_root_mean_squared_error: 0.0995\n",
            "Epoch 9/40\n",
            "30/30 [==============================] - 1s 40ms/step - loss: 2.0866e-04 - root_mean_squared_error: 0.0144 - val_loss: 0.0094 - val_root_mean_squared_error: 0.0971\n",
            "Epoch 10/40\n",
            "30/30 [==============================] - 1s 40ms/step - loss: 2.2312e-04 - root_mean_squared_error: 0.0149 - val_loss: 0.0089 - val_root_mean_squared_error: 0.0942\n",
            "Epoch 11/40\n",
            "30/30 [==============================] - 1s 40ms/step - loss: 2.1035e-04 - root_mean_squared_error: 0.0145 - val_loss: 0.0080 - val_root_mean_squared_error: 0.0897\n",
            "Epoch 12/40\n",
            "30/30 [==============================] - 1s 31ms/step - loss: 1.9176e-04 - root_mean_squared_error: 0.0138 - val_loss: 0.0093 - val_root_mean_squared_error: 0.0965\n",
            "Epoch 13/40\n",
            "30/30 [==============================] - 1s 27ms/step - loss: 1.9308e-04 - root_mean_squared_error: 0.0139 - val_loss: 0.0084 - val_root_mean_squared_error: 0.0919\n",
            "Epoch 14/40\n",
            "30/30 [==============================] - 1s 27ms/step - loss: 1.9898e-04 - root_mean_squared_error: 0.0141 - val_loss: 0.0081 - val_root_mean_squared_error: 0.0897\n",
            "Epoch 15/40\n",
            "30/30 [==============================] - 1s 26ms/step - loss: 2.0326e-04 - root_mean_squared_error: 0.0143 - val_loss: 0.0082 - val_root_mean_squared_error: 0.0905\n",
            "Epoch 16/40\n",
            "30/30 [==============================] - 1s 29ms/step - loss: 2.1323e-04 - root_mean_squared_error: 0.0146 - val_loss: 0.0080 - val_root_mean_squared_error: 0.0893\n",
            "Epoch 17/40\n",
            "30/30 [==============================] - 1s 30ms/step - loss: 1.8650e-04 - root_mean_squared_error: 0.0137 - val_loss: 0.0062 - val_root_mean_squared_error: 0.0784\n",
            "Epoch 18/40\n",
            "30/30 [==============================] - 1s 28ms/step - loss: 1.8454e-04 - root_mean_squared_error: 0.0136 - val_loss: 0.0052 - val_root_mean_squared_error: 0.0719\n",
            "Epoch 19/40\n",
            "30/30 [==============================] - 1s 29ms/step - loss: 1.8503e-04 - root_mean_squared_error: 0.0136 - val_loss: 0.0042 - val_root_mean_squared_error: 0.0648\n",
            "Epoch 20/40\n",
            "30/30 [==============================] - 1s 30ms/step - loss: 1.6977e-04 - root_mean_squared_error: 0.0130 - val_loss: 0.0031 - val_root_mean_squared_error: 0.0557\n",
            "Epoch 21/40\n",
            "30/30 [==============================] - 1s 28ms/step - loss: 1.7885e-04 - root_mean_squared_error: 0.0134 - val_loss: 0.0029 - val_root_mean_squared_error: 0.0541\n",
            "Epoch 22/40\n",
            "30/30 [==============================] - 1s 28ms/step - loss: 1.6482e-04 - root_mean_squared_error: 0.0128 - val_loss: 0.0037 - val_root_mean_squared_error: 0.0609\n",
            "Epoch 23/40\n",
            "30/30 [==============================] - 1s 29ms/step - loss: 1.6855e-04 - root_mean_squared_error: 0.0130 - val_loss: 0.0027 - val_root_mean_squared_error: 0.0524\n",
            "Epoch 24/40\n",
            "30/30 [==============================] - 1s 44ms/step - loss: 1.6734e-04 - root_mean_squared_error: 0.0129 - val_loss: 0.0023 - val_root_mean_squared_error: 0.0478\n",
            "Epoch 25/40\n",
            "30/30 [==============================] - 1s 41ms/step - loss: 1.9558e-04 - root_mean_squared_error: 0.0140 - val_loss: 0.0031 - val_root_mean_squared_error: 0.0558\n",
            "Epoch 26/40\n",
            "30/30 [==============================] - 1s 41ms/step - loss: 1.5396e-04 - root_mean_squared_error: 0.0124 - val_loss: 0.0026 - val_root_mean_squared_error: 0.0510\n",
            "Epoch 27/40\n",
            "30/30 [==============================] - 1s 40ms/step - loss: 1.6718e-04 - root_mean_squared_error: 0.0129 - val_loss: 0.0048 - val_root_mean_squared_error: 0.0691\n",
            "Epoch 28/40\n",
            "30/30 [==============================] - 1s 39ms/step - loss: 1.9121e-04 - root_mean_squared_error: 0.0138 - val_loss: 0.0053 - val_root_mean_squared_error: 0.0728\n",
            "Epoch 29/40\n",
            "30/30 [==============================] - 1s 39ms/step - loss: 1.5629e-04 - root_mean_squared_error: 0.0125 - val_loss: 0.0044 - val_root_mean_squared_error: 0.0661\n",
            "Epoch 29: early stopping\n"
          ]
        }
      ]
    },
    {
      "cell_type": "code",
      "source": [
        "history.history.keys()"
      ],
      "metadata": {
        "colab": {
          "base_uri": "https://localhost:8080/"
        },
        "id": "eo0UOY9gZtA2",
        "outputId": "eb74526e-a881-4df2-a88c-763744f3bbc2"
      },
      "execution_count": 26,
      "outputs": [
        {
          "output_type": "execute_result",
          "data": {
            "text/plain": [
              "dict_keys(['loss', 'root_mean_squared_error', 'val_loss', 'val_root_mean_squared_error'])"
            ]
          },
          "metadata": {},
          "execution_count": 26
        }
      ]
    },
    {
      "cell_type": "code",
      "source": [
        "fig = plt.figure(figsize=(12,7))\n",
        "fig.add_subplot(121)\n",
        "\n",
        "# Accuracy\n",
        "plt.plot(history.epoch, history.history['root_mean_squared_error'], label = \"rmse\")\n",
        "plt.plot(history.epoch, history.history['val_root_mean_squared_error'], label = \"val_rmse\")\n",
        "\n",
        "plt.title(\"RMSE\")\n",
        "plt.xlabel(\"Epochs\")\n",
        "plt.ylabel(\"RMSE\")\n",
        "plt.grid(alpha=0.3)\n",
        "plt.legend()\n",
        "\n",
        "\n",
        "#Adding Subplot 1 (For Loss)\n",
        "fig.add_subplot(122)\n",
        "\n",
        "plt.plot(history.epoch, history.history['loss'], label=\"loss\")\n",
        "plt.plot(history.epoch, history.history['val_loss'], label=\"val_loss\")\n",
        "\n",
        "plt.title(\"Loss\")\n",
        "plt.xlabel(\"Epochs\")\n",
        "plt.ylabel(\"Loss\")\n",
        "plt.grid(alpha=0.3)\n",
        "plt.legend()\n",
        "\n",
        "plt.show()"
      ],
      "metadata": {
        "colab": {
          "base_uri": "https://localhost:8080/",
          "height": 641
        },
        "id": "SRBzbdAFZtEh",
        "outputId": "5521ae84-1d2a-4e93-8c3f-30afa48f16bb"
      },
      "execution_count": 29,
      "outputs": [
        {
          "output_type": "display_data",
          "data": {
            "text/plain": [
              "<Figure size 1200x700 with 2 Axes>"
            ],
            "image/png": "[encoded data removed]"
          },
          "metadata": {}
        }
      ]
    },
    {
      "cell_type": "code",
      "source": [
        "results = model.evaluate(x_test, y_test)\n",
        "print(\"test loss , test rmse :\", np.round(results, 4))"
      ],
      "metadata": {
        "colab": {
          "base_uri": "https://localhost:8080/"
        },
        "id": "rpJK1hAMZtIF",
        "outputId": "9c84fd70-1e53-48d8-a0fb-c164ec5e7026"
      },
      "execution_count": 30,
      "outputs": [
        {
          "output_type": "stream",
          "name": "stdout",
          "text": [
            "21/21 [==============================] - 0s 7ms/step - loss: 0.0017 - root_mean_squared_error: 0.0409\n",
            "test loss , test rmse : [0.0017 0.0409]\n"
          ]
        }
      ]
    },
    {
      "cell_type": "code",
      "source": [
        "y_pred = model.predict(x_test)"
      ],
      "metadata": {
        "colab": {
          "base_uri": "https://localhost:8080/"
        },
        "id": "hGO4S5Y8wHtW",
        "outputId": "9dcdde23-996e-42e8-b23e-949d34cb584d"
      },
      "execution_count": 31,
      "outputs": [
        {
          "output_type": "stream",
          "name": "stdout",
          "text": [
            "21/21 [==============================] - 1s 12ms/step\n"
          ]
        }
      ]
    },
    {
      "cell_type": "markdown",
      "source": [
        "**Evaluation metrics**"
      ],
      "metadata": {
        "id": "DaCie0bB1e2I"
      }
    },
    {
      "cell_type": "code",
      "source": [
        "score = r2_score(y_test, y_pred)\n",
        "print(\"The accuracy of our model is {}%\".format(round(score, 2) *100))"
      ],
      "metadata": {
        "colab": {
          "base_uri": "https://localhost:8080/"
        },
        "id": "tXtesu3bvh3-",
        "outputId": "21280e57-cea0-4f96-b3b6-e47d84f4342b"
      },
      "execution_count": 32,
      "outputs": [
        {
          "output_type": "stream",
          "name": "stdout",
          "text": [
            "The accuracy of our model is 85.0%\n"
          ]
        }
      ]
    },
    {
      "cell_type": "code",
      "source": [
        "score = mean_squared_error(y_test, y_pred)\n",
        "print(\"The Mean Squared Error of our Model is {}\".format(round(score, 4)))"
      ],
      "metadata": {
        "colab": {
          "base_uri": "https://localhost:8080/"
        },
        "id": "96t4-nraviM3",
        "outputId": "cd2961ea-e1a0-41b3-bbd4-bafef0eff21b"
      },
      "execution_count": 37,
      "outputs": [
        {
          "output_type": "stream",
          "name": "stdout",
          "text": [
            "The Mean Squared Error of our Model is 0.0017\n"
          ]
        }
      ]
    },
    {
      "cell_type": "code",
      "source": [
        "score = np.sqrt(mean_squared_error(y_test, y_pred))\n",
        "print(\"The Root Mean Squared Error of our Model is {}\".format(round(score, 4)))"
      ],
      "metadata": {
        "colab": {
          "base_uri": "https://localhost:8080/"
        },
        "id": "T-jEdjVZviRY",
        "outputId": "559f0737-24a2-4365-f6ca-d9938148dc38"
      },
      "execution_count": 38,
      "outputs": [
        {
          "output_type": "stream",
          "name": "stdout",
          "text": [
            "The Root Mean Squared Error of our Model is 0.0409\n"
          ]
        }
      ]
    },
    {
      "cell_type": "markdown",
      "source": [
        "**Hyperparameter Tuning Strategy**"
      ],
      "metadata": {
        "id": "CGLAwAoC6Gar"
      }
    },
    {
      "cell_type": "code",
      "source": [
        "def hyperparameter_tuning_strategy(config, x_train, y_train, x_test, y_test):\n",
        "  additional_layer, neurons, batch_size, dropout = config\n",
        "  possible_combinations = list(itertools.product(additional_layer, neurons, batch_size, dropout))\n",
        "  print(\"*\"*25)\n",
        "  print(f\"Possible No.of Combinations : {possible_combinations}\")\n",
        "  print(\"*\"*25)\n",
        "  hist = []\n",
        "  for i in range(len(possible_combinations)):\n",
        "    print(\"*\"*25)\n",
        "    print(f\"Combination : {i+1}\")\n",
        "    print(\"*\"*25)\n",
        "    additional_layer, neurons, batch_size, dropout = possible_combinations[i]\n",
        "    model = Sequential()\n",
        "    model.add(LSTM(units=neurons, return_sequences=True, input_shape=(x_train.shape[1], x_train.shape[2]), activation = \"relu\"))\n",
        "    model.add(Dropout(dropout))\n",
        "    if additional_layer:\n",
        "      model.add(LSTM(units=neurons, return_sequences=True))\n",
        "      model.add(Dropout(dropout))\n",
        "    model.add(LSTM(units=neurons, return_sequences=False))\n",
        "    model.add(Dropout(dropout))\n",
        "    model.add(Dense(units=1, activation='linear'))\n",
        "    model.compile(optimizer='adam', loss='mse', metrics=[tf.keras.metrics.RootMeanSquaredError()])\n",
        "    early_stops = EarlyStopping(monitor='val_loss', mode='min', verbose=1, patience=5)\n",
        "    file_path = 'best_model.h5'\n",
        "    model_check = ModelCheckpoint(file_path, monitor='val_loss', mode='min', verbose=1, save_best_only=True)\n",
        "    model.fit(x_train, y_train, validation_split=0.3, epochs=40, batch_size=batch_size, callbacks=[early_stop, model_check], verbose=0)\n",
        "    train_loss, train_rmse = model.evaluate(x_train, y_train, verbose=0)\n",
        "    test_loss, test_rmse = model.evaluate(x_test, y_test, verbose=0)\n",
        "    hist.append(list((additional_layer, neurons, batch_size, dropout, train_loss, train_rmse, test_loss, test_rmse)))\n",
        "    print(f\"Combination : {i+1} -> {possible_combinations[i]} train_rmse : {train_rmse} test_rmse : {test_rmse}\")\n",
        "    print(\"*\"*25)\n",
        "    print(\"*\"*25)\n",
        "  return hist\n",
        "\n"
      ],
      "metadata": {
        "id": "JdcTd6aU9wbR"
      },
      "execution_count": 39,
      "outputs": []
    },
    {
      "cell_type": "code",
      "source": [
        "config = [[False,True], [16, 32], [8, 16, 32], [0.2]]\n",
        "\n",
        "hist = hyperparameter_tuning_strategy(config, x_train, y_train, x_test, y_test)"
      ],
      "metadata": {
        "colab": {
          "base_uri": "https://localhost:8080/"
        },
        "id": "LXlcQQvGBWRU",
        "outputId": "110d4b13-449f-4283-dbdf-d1d360266b3c"
      },
      "execution_count": 40,
      "outputs": [
        {
          "output_type": "stream",
          "name": "stdout",
          "text": [
            "*************************\n",
            "Possible No.of Combinations : [(False, 16, 8, 0.2), (False, 16, 16, 0.2), (False, 16, 32, 0.2), (False, 32, 8, 0.2), (False, 32, 16, 0.2), (False, 32, 32, 0.2), (True, 16, 8, 0.2), (True, 16, 16, 0.2), (True, 16, 32, 0.2), (True, 32, 8, 0.2), (True, 32, 16, 0.2), (True, 32, 32, 0.2)]\n",
            "*************************\n",
            "*************************\n",
            "Combination : 1\n",
            "*************************\n",
            "\n",
            "Epoch 1: val_loss improved from inf to 0.00762, saving model to best_model.h5\n"
          ]
        },
        {
          "output_type": "stream",
          "name": "stderr",
          "text": [
            "/usr/local/lib/python3.10/dist-packages/keras/src/engine/training.py:3079: UserWarning: You are saving your model as an HDF5 file via `model.save()`. This file format is considered legacy. We recommend using instead the native Keras format, e.g. `model.save('my_model.keras')`.\n",
            "  saving_api.save_model(\n"
          ]
        },
        {
          "output_type": "stream",
          "name": "stdout",
          "text": [
            "\n",
            "Epoch 2: val_loss did not improve from 0.00762\n",
            "\n",
            "Epoch 3: val_loss did not improve from 0.00762\n",
            "\n",
            "Epoch 4: val_loss did not improve from 0.00762\n",
            "\n",
            "Epoch 5: val_loss did not improve from 0.00762\n",
            "\n",
            "Epoch 6: val_loss did not improve from 0.00762\n",
            "Epoch 6: early stopping\n",
            "Combination : 1 -> (False, 16, 8, 0.2) train_rmse : 0.08060353249311447 test_rmse : 0.08024108409881592\n",
            "*************************\n",
            "*************************\n",
            "*************************\n",
            "Combination : 2\n",
            "*************************\n",
            "\n",
            "Epoch 1: val_loss improved from inf to 0.01989, saving model to best_model.h5\n",
            "\n",
            "Epoch 2: val_loss improved from 0.01989 to 0.00305, saving model to best_model.h5\n",
            "\n",
            "Epoch 3: val_loss improved from 0.00305 to 0.00256, saving model to best_model.h5\n",
            "\n",
            "Epoch 4: val_loss did not improve from 0.00256\n",
            "\n",
            "Epoch 5: val_loss did not improve from 0.00256\n",
            "\n",
            "Epoch 6: val_loss did not improve from 0.00256\n",
            "\n",
            "Epoch 7: val_loss did not improve from 0.00256\n",
            "\n",
            "Epoch 8: val_loss did not improve from 0.00256\n",
            "Epoch 8: early stopping\n",
            "Combination : 2 -> (False, 16, 16, 0.2) train_rmse : 0.06758500635623932 test_rmse : 0.06945396959781647\n",
            "*************************\n",
            "*************************\n",
            "*************************\n",
            "Combination : 3\n",
            "*************************\n",
            "\n",
            "Epoch 1: val_loss improved from inf to 0.03496, saving model to best_model.h5\n",
            "\n",
            "Epoch 2: val_loss improved from 0.03496 to 0.02027, saving model to best_model.h5\n",
            "\n",
            "Epoch 3: val_loss improved from 0.02027 to 0.01413, saving model to best_model.h5\n",
            "\n",
            "Epoch 4: val_loss improved from 0.01413 to 0.00824, saving model to best_model.h5\n",
            "\n",
            "Epoch 5: val_loss improved from 0.00824 to 0.00615, saving model to best_model.h5\n",
            "\n",
            "Epoch 6: val_loss improved from 0.00615 to 0.00537, saving model to best_model.h5\n",
            "\n",
            "Epoch 7: val_loss improved from 0.00537 to 0.00421, saving model to best_model.h5\n",
            "\n",
            "Epoch 8: val_loss did not improve from 0.00421\n",
            "\n",
            "Epoch 9: val_loss improved from 0.00421 to 0.00299, saving model to best_model.h5\n",
            "\n",
            "Epoch 10: val_loss improved from 0.00299 to 0.00294, saving model to best_model.h5\n",
            "\n",
            "Epoch 11: val_loss improved from 0.00294 to 0.00265, saving model to best_model.h5\n",
            "\n",
            "Epoch 12: val_loss did not improve from 0.00265\n",
            "\n",
            "Epoch 13: val_loss did not improve from 0.00265\n",
            "\n",
            "Epoch 14: val_loss did not improve from 0.00265\n",
            "\n",
            "Epoch 15: val_loss did not improve from 0.00265\n",
            "\n",
            "Epoch 16: val_loss did not improve from 0.00265\n",
            "Epoch 16: early stopping\n",
            "Combination : 3 -> (False, 16, 32, 0.2) train_rmse : 0.05154777318239212 test_rmse : 0.053755983710289\n",
            "*************************\n",
            "*************************\n",
            "*************************\n",
            "Combination : 4\n",
            "*************************\n",
            "\n",
            "Epoch 1: val_loss improved from inf to 0.03709, saving model to best_model.h5\n",
            "\n",
            "Epoch 2: val_loss improved from 0.03709 to 0.01892, saving model to best_model.h5\n",
            "\n",
            "Epoch 3: val_loss improved from 0.01892 to 0.00606, saving model to best_model.h5\n",
            "\n",
            "Epoch 4: val_loss did not improve from 0.00606\n",
            "\n",
            "Epoch 5: val_loss did not improve from 0.00606\n",
            "\n",
            "Epoch 6: val_loss did not improve from 0.00606\n",
            "\n",
            "Epoch 7: val_loss did not improve from 0.00606\n",
            "\n",
            "Epoch 8: val_loss did not improve from 0.00606\n",
            "Epoch 8: early stopping\n",
            "Combination : 4 -> (False, 32, 8, 0.2) train_rmse : 0.0510859414935112 test_rmse : 0.05267877131700516\n",
            "*************************\n",
            "*************************\n",
            "*************************\n",
            "Combination : 5\n",
            "*************************\n",
            "\n",
            "Epoch 1: val_loss improved from inf to 0.00361, saving model to best_model.h5\n",
            "\n",
            "Epoch 2: val_loss improved from 0.00361 to 0.00246, saving model to best_model.h5\n",
            "\n",
            "Epoch 3: val_loss did not improve from 0.00246\n",
            "\n",
            "Epoch 4: val_loss did not improve from 0.00246\n",
            "\n",
            "Epoch 5: val_loss did not improve from 0.00246\n",
            "\n",
            "Epoch 6: val_loss did not improve from 0.00246\n",
            "\n",
            "Epoch 7: val_loss did not improve from 0.00246\n",
            "Epoch 7: early stopping\n",
            "Combination : 5 -> (False, 32, 16, 0.2) train_rmse : 0.05172315984964371 test_rmse : 0.05711522325873375\n",
            "*************************\n",
            "*************************\n",
            "*************************\n",
            "Combination : 6\n",
            "*************************\n",
            "\n",
            "Epoch 1: val_loss improved from inf to 0.01332, saving model to best_model.h5\n",
            "\n",
            "Epoch 2: val_loss improved from 0.01332 to 0.00767, saving model to best_model.h5\n",
            "\n",
            "Epoch 3: val_loss did not improve from 0.00767\n",
            "\n",
            "Epoch 4: val_loss improved from 0.00767 to 0.00356, saving model to best_model.h5\n",
            "\n",
            "Epoch 5: val_loss did not improve from 0.00356\n",
            "\n",
            "Epoch 6: val_loss improved from 0.00356 to 0.00344, saving model to best_model.h5\n",
            "\n",
            "Epoch 7: val_loss did not improve from 0.00344\n",
            "\n",
            "Epoch 8: val_loss did not improve from 0.00344\n",
            "\n",
            "Epoch 9: val_loss did not improve from 0.00344\n",
            "\n",
            "Epoch 10: val_loss did not improve from 0.00344\n",
            "\n",
            "Epoch 11: val_loss did not improve from 0.00344\n",
            "Epoch 11: early stopping\n",
            "Combination : 6 -> (False, 32, 32, 0.2) train_rmse : 0.06666017323732376 test_rmse : 0.07626708596944809\n",
            "*************************\n",
            "*************************\n",
            "*************************\n",
            "Combination : 7\n",
            "*************************\n",
            "\n",
            "Epoch 1: val_loss improved from inf to 0.01551, saving model to best_model.h5\n",
            "\n",
            "Epoch 2: val_loss did not improve from 0.01551\n",
            "\n",
            "Epoch 3: val_loss did not improve from 0.01551\n",
            "\n",
            "Epoch 4: val_loss did not improve from 0.01551\n",
            "\n",
            "Epoch 5: val_loss did not improve from 0.01551\n",
            "\n",
            "Epoch 6: val_loss did not improve from 0.01551\n",
            "Epoch 6: early stopping\n",
            "Combination : 7 -> (True, 16, 8, 0.2) train_rmse : 0.0882222056388855 test_rmse : 0.0892956480383873\n",
            "*************************\n",
            "*************************\n",
            "*************************\n",
            "Combination : 8\n",
            "*************************\n",
            "\n",
            "Epoch 1: val_loss improved from inf to 0.04990, saving model to best_model.h5\n",
            "\n",
            "Epoch 2: val_loss improved from 0.04990 to 0.03403, saving model to best_model.h5\n",
            "\n",
            "Epoch 3: val_loss improved from 0.03403 to 0.02937, saving model to best_model.h5\n",
            "\n",
            "Epoch 4: val_loss improved from 0.02937 to 0.00993, saving model to best_model.h5\n",
            "\n",
            "Epoch 5: val_loss improved from 0.00993 to 0.00667, saving model to best_model.h5\n",
            "\n",
            "Epoch 6: val_loss improved from 0.00667 to 0.00353, saving model to best_model.h5\n",
            "\n",
            "Epoch 7: val_loss did not improve from 0.00353\n",
            "\n",
            "Epoch 8: val_loss improved from 0.00353 to 0.00285, saving model to best_model.h5\n",
            "\n",
            "Epoch 9: val_loss improved from 0.00285 to 0.00283, saving model to best_model.h5\n",
            "\n",
            "Epoch 10: val_loss did not improve from 0.00283\n",
            "\n",
            "Epoch 11: val_loss did not improve from 0.00283\n",
            "\n",
            "Epoch 12: val_loss did not improve from 0.00283\n",
            "\n",
            "Epoch 13: val_loss did not improve from 0.00283\n",
            "\n",
            "Epoch 14: val_loss did not improve from 0.00283\n",
            "Epoch 14: early stopping\n",
            "Combination : 8 -> (True, 16, 16, 0.2) train_rmse : 0.04973077028989792 test_rmse : 0.052245862782001495\n",
            "*************************\n",
            "*************************\n",
            "*************************\n",
            "Combination : 9\n",
            "*************************\n",
            "\n",
            "Epoch 1: val_loss improved from inf to 0.08831, saving model to best_model.h5\n",
            "\n",
            "Epoch 2: val_loss improved from 0.08831 to 0.07417, saving model to best_model.h5\n",
            "\n",
            "Epoch 3: val_loss improved from 0.07417 to 0.06644, saving model to best_model.h5\n",
            "\n",
            "Epoch 4: val_loss improved from 0.06644 to 0.05952, saving model to best_model.h5\n",
            "\n",
            "Epoch 5: val_loss improved from 0.05952 to 0.04462, saving model to best_model.h5\n",
            "\n",
            "Epoch 6: val_loss improved from 0.04462 to 0.04312, saving model to best_model.h5\n",
            "\n",
            "Epoch 7: val_loss improved from 0.04312 to 0.04264, saving model to best_model.h5\n",
            "\n",
            "Epoch 8: val_loss improved from 0.04264 to 0.04112, saving model to best_model.h5\n",
            "\n",
            "Epoch 9: val_loss improved from 0.04112 to 0.03860, saving model to best_model.h5\n",
            "\n",
            "Epoch 10: val_loss improved from 0.03860 to 0.02741, saving model to best_model.h5\n",
            "\n",
            "Epoch 11: val_loss improved from 0.02741 to 0.01976, saving model to best_model.h5\n",
            "\n",
            "Epoch 12: val_loss did not improve from 0.01976\n",
            "\n",
            "Epoch 13: val_loss improved from 0.01976 to 0.01184, saving model to best_model.h5\n",
            "\n",
            "Epoch 14: val_loss did not improve from 0.01184\n",
            "\n",
            "Epoch 15: val_loss did not improve from 0.01184\n",
            "\n",
            "Epoch 16: val_loss did not improve from 0.01184\n",
            "\n",
            "Epoch 17: val_loss did not improve from 0.01184\n",
            "\n",
            "Epoch 18: val_loss improved from 0.01184 to 0.01137, saving model to best_model.h5\n",
            "\n",
            "Epoch 19: val_loss improved from 0.01137 to 0.00765, saving model to best_model.h5\n",
            "\n",
            "Epoch 20: val_loss did not improve from 0.00765\n",
            "\n",
            "Epoch 21: val_loss improved from 0.00765 to 0.00628, saving model to best_model.h5\n",
            "\n",
            "Epoch 22: val_loss did not improve from 0.00628\n",
            "\n",
            "Epoch 23: val_loss did not improve from 0.00628\n",
            "\n",
            "Epoch 24: val_loss did not improve from 0.00628\n",
            "\n",
            "Epoch 25: val_loss improved from 0.00628 to 0.00409, saving model to best_model.h5\n",
            "\n",
            "Epoch 26: val_loss did not improve from 0.00409\n",
            "\n",
            "Epoch 27: val_loss did not improve from 0.00409\n",
            "\n",
            "Epoch 28: val_loss did not improve from 0.00409\n",
            "\n",
            "Epoch 29: val_loss did not improve from 0.00409\n",
            "\n",
            "Epoch 30: val_loss improved from 0.00409 to 0.00395, saving model to best_model.h5\n",
            "\n",
            "Epoch 31: val_loss did not improve from 0.00395\n",
            "\n",
            "Epoch 32: val_loss did not improve from 0.00395\n",
            "\n",
            "Epoch 33: val_loss did not improve from 0.00395\n",
            "\n",
            "Epoch 34: val_loss did not improve from 0.00395\n",
            "\n",
            "Epoch 35: val_loss improved from 0.00395 to 0.00364, saving model to best_model.h5\n",
            "\n",
            "Epoch 36: val_loss did not improve from 0.00364\n",
            "\n",
            "Epoch 37: val_loss did not improve from 0.00364\n",
            "\n",
            "Epoch 38: val_loss did not improve from 0.00364\n",
            "\n",
            "Epoch 39: val_loss improved from 0.00364 to 0.00331, saving model to best_model.h5\n",
            "\n",
            "Epoch 40: val_loss did not improve from 0.00331\n",
            "Combination : 9 -> (True, 16, 32, 0.2) train_rmse : 0.03934949263930321 test_rmse : 0.0337478443980217\n",
            "*************************\n",
            "*************************\n",
            "*************************\n",
            "Combination : 10\n",
            "*************************\n",
            "\n",
            "Epoch 1: val_loss improved from inf to 0.01327, saving model to best_model.h5\n",
            "\n",
            "Epoch 2: val_loss improved from 0.01327 to 0.00355, saving model to best_model.h5\n",
            "\n",
            "Epoch 3: val_loss did not improve from 0.00355\n",
            "\n",
            "Epoch 4: val_loss did not improve from 0.00355\n",
            "\n",
            "Epoch 5: val_loss improved from 0.00355 to 0.00334, saving model to best_model.h5\n",
            "\n",
            "Epoch 6: val_loss did not improve from 0.00334\n",
            "\n",
            "Epoch 7: val_loss did not improve from 0.00334\n",
            "\n",
            "Epoch 8: val_loss did not improve from 0.00334\n",
            "\n",
            "Epoch 9: val_loss did not improve from 0.00334\n",
            "\n",
            "Epoch 10: val_loss did not improve from 0.00334\n",
            "Epoch 10: early stopping\n",
            "Combination : 10 -> (True, 32, 8, 0.2) train_rmse : 0.040501918643713 test_rmse : 0.032404616475105286\n",
            "*************************\n",
            "*************************\n",
            "*************************\n",
            "Combination : 11\n",
            "*************************\n",
            "\n",
            "Epoch 1: val_loss improved from inf to 0.00900, saving model to best_model.h5\n",
            "\n",
            "Epoch 2: val_loss did not improve from 0.00900\n",
            "\n",
            "Epoch 3: val_loss improved from 0.00900 to 0.00600, saving model to best_model.h5\n",
            "\n",
            "Epoch 4: val_loss did not improve from 0.00600\n",
            "\n",
            "Epoch 5: val_loss did not improve from 0.00600\n",
            "\n",
            "Epoch 6: val_loss did not improve from 0.00600\n",
            "\n",
            "Epoch 7: val_loss did not improve from 0.00600\n",
            "\n",
            "Epoch 8: val_loss did not improve from 0.00600\n",
            "Epoch 8: early stopping\n",
            "Combination : 11 -> (True, 32, 16, 0.2) train_rmse : 0.0651751458644867 test_rmse : 0.06119141727685928\n",
            "*************************\n",
            "*************************\n",
            "*************************\n",
            "Combination : 12\n",
            "*************************\n",
            "\n",
            "Epoch 1: val_loss improved from inf to 0.01468, saving model to best_model.h5\n",
            "\n",
            "Epoch 2: val_loss did not improve from 0.01468\n",
            "\n",
            "Epoch 3: val_loss did not improve from 0.01468\n",
            "\n",
            "Epoch 4: val_loss did not improve from 0.01468\n",
            "\n",
            "Epoch 5: val_loss improved from 0.01468 to 0.00970, saving model to best_model.h5\n",
            "\n",
            "Epoch 6: val_loss did not improve from 0.00970\n",
            "\n",
            "Epoch 7: val_loss did not improve from 0.00970\n",
            "\n",
            "Epoch 8: val_loss did not improve from 0.00970\n",
            "\n",
            "Epoch 9: val_loss did not improve from 0.00970\n",
            "\n",
            "Epoch 10: val_loss did not improve from 0.00970\n",
            "Epoch 10: early stopping\n",
            "Combination : 12 -> (True, 32, 32, 0.2) train_rmse : 0.06325087696313858 test_rmse : 0.06305322796106339\n",
            "*************************\n",
            "*************************\n"
          ]
        }
      ]
    },
    {
      "cell_type": "code",
      "source": [
        "hist = pd.DataFrame(hist, columns=[\"Additional Layer\", \"Neurons\", \"Batch Size\", \"Drop Out\", \"Train Loss\", \"Train RMSE\", \"Test Loss\", \"Test RMSE\"])\n",
        "hist = hist.sort_values(by=[\"Test RMSE\"], ascending=True)\n",
        "hist"
      ],
      "metadata": {
        "colab": {
          "base_uri": "https://localhost:8080/",
          "height": 425
        },
        "id": "Are6A6_hZtSO",
        "outputId": "81139285-8302-41ca-d546-90a3b621b96f"
      },
      "execution_count": 41,
      "outputs": [
        {
          "output_type": "execute_result",
          "data": {
            "text/plain": [
              "    Additional Layer  Neurons  Batch Size  Drop Out  Train Loss  Train RMSE  \\\n",
              "9               True       32           8       0.2    0.001640    0.040502   \n",
              "8               True       16          32       0.2    0.001548    0.039349   \n",
              "7               True       16          16       0.2    0.002473    0.049731   \n",
              "3              False       32           8       0.2    0.002610    0.051086   \n",
              "2              False       16          32       0.2    0.002657    0.051548   \n",
              "4              False       32          16       0.2    0.002675    0.051723   \n",
              "10              True       32          16       0.2    0.004248    0.065175   \n",
              "11              True       32          32       0.2    0.004001    0.063251   \n",
              "1              False       16          16       0.2    0.004568    0.067585   \n",
              "5              False       32          32       0.2    0.004444    0.066660   \n",
              "0              False       16           8       0.2    0.006497    0.080604   \n",
              "6               True       16           8       0.2    0.007783    0.088222   \n",
              "\n",
              "    Test Loss  Test RMSE  \n",
              "9    0.001050   0.032405  \n",
              "8    0.001139   0.033748  \n",
              "7    0.002730   0.052246  \n",
              "3    0.002775   0.052679  \n",
              "2    0.002890   0.053756  \n",
              "4    0.003262   0.057115  \n",
              "10   0.003744   0.061191  \n",
              "11   0.003976   0.063053  \n",
              "1    0.004824   0.069454  \n",
              "5    0.005817   0.076267  \n",
              "0    0.006439   0.080241  \n",
              "6    0.007974   0.089296  "
            ],
            "text/html": [
              "\n",
              "  <div id=\"df-60670f7e-d04c-49b1-b0e6-942fa2d93a08\" class=\"colab-df-container\">\n",
              "    <div>\n",
              "<style scoped>\n",
              "    .dataframe tbody tr th:only-of-type {\n",
              "        vertical-align: middle;\n",
              "    }\n",
              "\n",
              "    .dataframe tbody tr th {\n",
              "        vertical-align: top;\n",
              "    }\n",
              "\n",
              "    .dataframe thead th {\n",
              "        text-align: right;\n",
              "    }\n",
              "</style>\n",
              "<table border=\"1\" class=\"dataframe\">\n",
              "  <thead>\n",
              "    <tr style=\"text-align: right;\">\n",
              "      <th></th>\n",
              "      <th>Additional Layer</th>\n",
              "      <th>Neurons</th>\n",
              "      <th>Batch Size</th>\n",
              "      <th>Drop Out</th>\n",
              "      <th>Train Loss</th>\n",
              "      <th>Train RMSE</th>\n",
              "      <th>Test Loss</th>\n",
              "      <th>Test RMSE</th>\n",
              "    </tr>\n",
              "  </thead>\n",
              "  <tbody>\n",
              "    <tr>\n",
              "      <th>9</th>\n",
              "      <td>True</td>\n",
              "      <td>32</td>\n",
              "      <td>8</td>\n",
              "      <td>0.2</td>\n",
              "      <td>0.001640</td>\n",
              "      <td>0.040502</td>\n",
              "      <td>0.001050</td>\n",
              "      <td>0.032405</td>\n",
              "    </tr>\n",
              "    <tr>\n",
              "      <th>8</th>\n",
              "      <td>True</td>\n",
              "      <td>16</td>\n",
              "      <td>32</td>\n",
              "      <td>0.2</td>\n",
              "      <td>0.001548</td>\n",
              "      <td>0.039349</td>\n",
              "      <td>0.001139</td>\n",
              "      <td>0.033748</td>\n",
              "    </tr>\n",
              "    <tr>\n",
              "      <th>7</th>\n",
              "      <td>True</td>\n",
              "      <td>16</td>\n",
              "      <td>16</td>\n",
              "      <td>0.2</td>\n",
              "      <td>0.002473</td>\n",
              "      <td>0.049731</td>\n",
              "      <td>0.002730</td>\n",
              "      <td>0.052246</td>\n",
              "    </tr>\n",
              "    <tr>\n",
              "      <th>3</th>\n",
              "      <td>False</td>\n",
              "      <td>32</td>\n",
              "      <td>8</td>\n",
              "      <td>0.2</td>\n",
              "      <td>0.002610</td>\n",
              "      <td>0.051086</td>\n",
              "      <td>0.002775</td>\n",
              "      <td>0.052679</td>\n",
              "    </tr>\n",
              "    <tr>\n",
              "      <th>2</th>\n",
              "      <td>False</td>\n",
              "      <td>16</td>\n",
              "      <td>32</td>\n",
              "      <td>0.2</td>\n",
              "      <td>0.002657</td>\n",
              "      <td>0.051548</td>\n",
              "      <td>0.002890</td>\n",
              "      <td>0.053756</td>\n",
              "    </tr>\n",
              "    <tr>\n",
              "      <th>4</th>\n",
              "      <td>False</td>\n",
              "      <td>32</td>\n",
              "      <td>16</td>\n",
              "      <td>0.2</td>\n",
              "      <td>0.002675</td>\n",
              "      <td>0.051723</td>\n",
              "      <td>0.003262</td>\n",
              "      <td>0.057115</td>\n",
              "    </tr>\n",
              "    <tr>\n",
              "      <th>10</th>\n",
              "      <td>True</td>\n",
              "      <td>32</td>\n",
              "      <td>16</td>\n",
              "      <td>0.2</td>\n",
              "      <td>0.004248</td>\n",
              "      <td>0.065175</td>\n",
              "      <td>0.003744</td>\n",
              "      <td>0.061191</td>\n",
              "    </tr>\n",
              "    <tr>\n",
              "      <th>11</th>\n",
              "      <td>True</td>\n",
              "      <td>32</td>\n",
              "      <td>32</td>\n",
              "      <td>0.2</td>\n",
              "      <td>0.004001</td>\n",
              "      <td>0.063251</td>\n",
              "      <td>0.003976</td>\n",
              "      <td>0.063053</td>\n",
              "    </tr>\n",
              "    <tr>\n",
              "      <th>1</th>\n",
              "      <td>False</td>\n",
              "      <td>16</td>\n",
              "      <td>16</td>\n",
              "      <td>0.2</td>\n",
              "      <td>0.004568</td>\n",
              "      <td>0.067585</td>\n",
              "      <td>0.004824</td>\n",
              "      <td>0.069454</td>\n",
              "    </tr>\n",
              "    <tr>\n",
              "      <th>5</th>\n",
              "      <td>False</td>\n",
              "      <td>32</td>\n",
              "      <td>32</td>\n",
              "      <td>0.2</td>\n",
              "      <td>0.004444</td>\n",
              "      <td>0.066660</td>\n",
              "      <td>0.005817</td>\n",
              "      <td>0.076267</td>\n",
              "    </tr>\n",
              "    <tr>\n",
              "      <th>0</th>\n",
              "      <td>False</td>\n",
              "      <td>16</td>\n",
              "      <td>8</td>\n",
              "      <td>0.2</td>\n",
              "      <td>0.006497</td>\n",
              "      <td>0.080604</td>\n",
              "      <td>0.006439</td>\n",
              "      <td>0.080241</td>\n",
              "    </tr>\n",
              "    <tr>\n",
              "      <th>6</th>\n",
              "      <td>True</td>\n",
              "      <td>16</td>\n",
              "      <td>8</td>\n",
              "      <td>0.2</td>\n",
              "      <td>0.007783</td>\n",
              "      <td>0.088222</td>\n",
              "      <td>0.007974</td>\n",
              "      <td>0.089296</td>\n",
              "    </tr>\n",
              "  </tbody>\n",
              "</table>\n",
              "</div>\n",
              "    <div class=\"colab-df-buttons\">\n",
              "\n",
              "  <div class=\"colab-df-container\">\n",
              "    <button class=\"colab-df-convert\" onclick=\"convertToInteractive('df-60670f7e-d04c-49b1-b0e6-942fa2d93a08')\"\n",
              "            title=\"Convert this dataframe to an interactive table.\"\n",
              "            style=\"display:none;\">\n",
              "\n",
              "  <svg xmlns=\"http://www.w3.org/2000/svg\" height=\"24px\" viewBox=\"0 -960 960 960\">\n",
              "    <path d=\"M120-120v-720h720v720H120Zm60-500h600v-160H180v160Zm220 220h160v-160H400v160Zm0 220h160v-160H400v160ZM180-400h160v-160H180v160Zm440 0h160v-160H620v160ZM180-180h160v-160H180v160Zm440 0h160v-160H620v160Z\"/>\n",
              "  </svg>\n",
              "    </button>\n",
              "\n",
              "  <style>\n",
              "    .colab-df-container {\n",
              "      display:flex;\n",
              "      gap: 12px;\n",
              "    }\n",
              "\n",
              "    .colab-df-convert {\n",
              "      background-color: #E8F0FE;\n",
              "      border: none;\n",
              "      border-radius: 50%;\n",
              "      cursor: pointer;\n",
              "      display: none;\n",
              "      fill: #1967D2;\n",
              "      height: 32px;\n",
              "      padding: 0 0 0 0;\n",
              "      width: 32px;\n",
              "    }\n",
              "\n",
              "    .colab-df-convert:hover {\n",
              "      background-color: #E2EBFA;\n",
              "      box-shadow: 0px 1px 2px rgba(60, 64, 67, 0.3), 0px 1px 3px 1px rgba(60, 64, 67, 0.15);\n",
              "      fill: #174EA6;\n",
              "    }\n",
              "\n",
              "    .colab-df-buttons div {\n",
              "      margin-bottom: 4px;\n",
              "    }\n",
              "\n",
              "    [theme=dark] .colab-df-convert {\n",
              "      background-color: #3B4455;\n",
              "      fill: #D2E3FC;\n",
              "    }\n",
              "\n",
              "    [theme=dark] .colab-df-convert:hover {\n",
              "      background-color: #434B5C;\n",
              "      box-shadow: 0px 1px 3px 1px rgba(0, 0, 0, 0.15);\n",
              "      filter: drop-shadow(0px 1px 2px rgba(0, 0, 0, 0.3));\n",
              "      fill: #FFFFFF;\n",
              "    }\n",
              "  </style>\n",
              "\n",
              "    <script>\n",
              "      const buttonEl =\n",
              "        document.querySelector('#df-60670f7e-d04c-49b1-b0e6-942fa2d93a08 button.colab-df-convert');\n",
              "      buttonEl.style.display =\n",
              "        google.colab.kernel.accessAllowed ? 'block' : 'none';\n",
              "\n",
              "      async function convertToInteractive(key) {\n",
              "        const element = document.querySelector('#df-60670f7e-d04c-49b1-b0e6-942fa2d93a08');\n",
              "        const dataTable =\n",
              "          await google.colab.kernel.invokeFunction('convertToInteractive',\n",
              "                                                    [key], {});\n",
              "        if (!dataTable) return;\n",
              "\n",
              "        const docLinkHtml = 'Like what you see? Visit the ' +\n",
              "          '<a target=\"_blank\" href=https://colab.research.google.com/notebooks/data_table.ipynb>data table notebook</a>'\n",
              "          + ' to learn more about interactive tables.';\n",
              "        element.innerHTML = '';\n",
              "        dataTable['output_type'] = 'display_data';\n",
              "        await google.colab.output.renderOutput(dataTable, element);\n",
              "        const docLink = document.createElement('div');\n",
              "        docLink.innerHTML = docLinkHtml;\n",
              "        element.appendChild(docLink);\n",
              "      }\n",
              "    </script>\n",
              "  </div>\n",
              "\n",
              "\n",
              "<div id=\"df-ac42f15c-fada-46d4-bec8-7c7035f88219\">\n",
              "  <button class=\"colab-df-quickchart\" onclick=\"quickchart('df-ac42f15c-fada-46d4-bec8-7c7035f88219')\"\n",
              "            title=\"Suggest charts\"\n",
              "            style=\"display:none;\">\n",
              "\n",
              "<svg xmlns=\"http://www.w3.org/2000/svg\" height=\"24px\"viewBox=\"0 0 24 24\"\n",
              "     width=\"24px\">\n",
              "    <g>\n",
              "        <path d=\"M19 3H5c-1.1 0-2 .9-2 2v14c0 1.1.9 2 2 2h14c1.1 0 2-.9 2-2V5c0-1.1-.9-2-2-2zM9 17H7v-7h2v7zm4 0h-2V7h2v10zm4 0h-2v-4h2v4z\"/>\n",
              "    </g>\n",
              "</svg>\n",
              "  </button>\n",
              "\n",
              "<style>\n",
              "  .colab-df-quickchart {\n",
              "      --bg-color: #E8F0FE;\n",
              "      --fill-color: #1967D2;\n",
              "      --hover-bg-color: #E2EBFA;\n",
              "      --hover-fill-color: #174EA6;\n",
              "      --disabled-fill-color: #AAA;\n",
              "      --disabled-bg-color: #DDD;\n",
              "  }\n",
              "\n",
              "  [theme=dark] .colab-df-quickchart {\n",
              "      --bg-color: #3B4455;\n",
              "      --fill-color: #D2E3FC;\n",
              "      --hover-bg-color: #434B5C;\n",
              "      --hover-fill-color: #FFFFFF;\n",
              "      --disabled-bg-color: #3B4455;\n",
              "      --disabled-fill-color: #666;\n",
              "  }\n",
              "\n",
              "  .colab-df-quickchart {\n",
              "    background-color: var(--bg-color);\n",
              "    border: none;\n",
              "    border-radius: 50%;\n",
              "    cursor: pointer;\n",
              "    display: none;\n",
              "    fill: var(--fill-color);\n",
              "    height: 32px;\n",
              "    padding: 0;\n",
              "    width: 32px;\n",
              "  }\n",
              "\n",
              "  .colab-df-quickchart:hover {\n",
              "    background-color: var(--hover-bg-color);\n",
              "    box-shadow: 0 1px 2px rgba(60, 64, 67, 0.3), 0 1px 3px 1px rgba(60, 64, 67, 0.15);\n",
              "    fill: var(--button-hover-fill-color);\n",
              "  }\n",
              "\n",
              "  .colab-df-quickchart-complete:disabled,\n",
              "  .colab-df-quickchart-complete:disabled:hover {\n",
              "    background-color: var(--disabled-bg-color);\n",
              "    fill: var(--disabled-fill-color);\n",
              "    box-shadow: none;\n",
              "  }\n",
              "\n",
              "  .colab-df-spinner {\n",
              "    border: 2px solid var(--fill-color);\n",
              "    border-color: transparent;\n",
              "    border-bottom-color: var(--fill-color);\n",
              "    animation:\n",
              "      spin 1s steps(1) infinite;\n",
              "  }\n",
              "\n",
              "  @keyframes spin {\n",
              "    0% {\n",
              "      border-color: transparent;\n",
              "      border-bottom-color: var(--fill-color);\n",
              "      border-left-color: var(--fill-color);\n",
              "    }\n",
              "    20% {\n",
              "      border-color: transparent;\n",
              "      border-left-color: var(--fill-color);\n",
              "      border-top-color: var(--fill-color);\n",
              "    }\n",
              "    30% {\n",
              "      border-color: transparent;\n",
              "      border-left-color: var(--fill-color);\n",
              "      border-top-color: var(--fill-color);\n",
              "      border-right-color: var(--fill-color);\n",
              "    }\n",
              "    40% {\n",
              "      border-color: transparent;\n",
              "      border-right-color: var(--fill-color);\n",
              "      border-top-color: var(--fill-color);\n",
              "    }\n",
              "    60% {\n",
              "      border-color: transparent;\n",
              "      border-right-color: var(--fill-color);\n",
              "    }\n",
              "    80% {\n",
              "      border-color: transparent;\n",
              "      border-right-color: var(--fill-color);\n",
              "      border-bottom-color: var(--fill-color);\n",
              "    }\n",
              "    90% {\n",
              "      border-color: transparent;\n",
              "      border-bottom-color: var(--fill-color);\n",
              "    }\n",
              "  }\n",
              "</style>\n",
              "\n",
              "  <script>\n",
              "    async function quickchart(key) {\n",
              "      const quickchartButtonEl =\n",
              "        document.querySelector('#' + key + ' button');\n",
              "      quickchartButtonEl.disabled = true;  // To prevent multiple clicks.\n",
              "      quickchartButtonEl.classList.add('colab-df-spinner');\n",
              "      try {\n",
              "        const charts = await google.colab.kernel.invokeFunction(\n",
              "            'suggestCharts', [key], {});\n",
              "      } catch (error) {\n",
              "        console.error('Error during call to suggestCharts:', error);\n",
              "      }\n",
              "      quickchartButtonEl.classList.remove('colab-df-spinner');\n",
              "      quickchartButtonEl.classList.add('colab-df-quickchart-complete');\n",
              "    }\n",
              "    (() => {\n",
              "      let quickchartButtonEl =\n",
              "        document.querySelector('#df-ac42f15c-fada-46d4-bec8-7c7035f88219 button');\n",
              "      quickchartButtonEl.style.display =\n",
              "        google.colab.kernel.accessAllowed ? 'block' : 'none';\n",
              "    })();\n",
              "  </script>\n",
              "</div>\n",
              "    </div>\n",
              "  </div>\n"
            ]
          },
          "metadata": {},
          "execution_count": 41
        }
      ]
    },
    {
      "cell_type": "code",
      "source": [
        "print(\"*\"*25)\n",
        "print(f\"----Best Combination---- \\n Additonal Layer = {hist.iloc[0,0]}\\n Neurons = {hist.iloc[0,1]}\\n Batch Size = {hist.iloc[0,2]}\\n Drop Out = {hist.iloc[0,3]}\\n\")\n",
        "print(\"*\"*25)\n",
        "print(\"*\"*25)\n",
        "before_rmse = np.round(results, 4)[1]\n",
        "after_rmse = np.round(hist.iloc[0, -1], 4)\n",
        "print(f'Results Before Tunning:\\n Test Set RMSE: {before_rmse}\\n')\n",
        "print(f'Results After Tunning:\\n Test Set RMSE: {after_rmse}\\n')\n",
        "print(f'{np.round((before_rmse-after_rmse)*100/before_rmse)}% Improvement')"
      ],
      "metadata": {
        "colab": {
          "base_uri": "https://localhost:8080/"
        },
        "id": "9hW6UE16ElVs",
        "outputId": "af77a54f-dfcf-44da-df19-9884d32e1158"
      },
      "execution_count": 42,
      "outputs": [
        {
          "output_type": "stream",
          "name": "stdout",
          "text": [
            "*************************\n",
            "----Best Combination---- \n",
            " Additonal Layer = True\n",
            " Neurons = 32\n",
            " Batch Size = 8\n",
            " Drop Out = 0.2\n",
            "\n",
            "*************************\n",
            "*************************\n",
            "Results Before Tunning:\n",
            " Test Set RMSE: 0.0409\n",
            "\n",
            "Results After Tunning:\n",
            " Test Set RMSE: 0.0324\n",
            "\n",
            "21.0% Improvement\n"
          ]
        }
      ]
    },
    {
      "cell_type": "code",
      "source": [
        "additional_layer, neurons, batch_size, dropout = list(hist.iloc[0, :-4])"
      ],
      "metadata": {
        "id": "gVxpHdu2ZtZn"
      },
      "execution_count": 43,
      "outputs": []
    },
    {
      "cell_type": "code",
      "source": [
        "model = Sequential()\n",
        "model.add(LSTM(units=neurons, return_sequences=True, input_shape=(x_train.shape[1], x_train.shape[2]), activation = \"relu\"))\n",
        "model.add(Dropout(dropout))\n",
        "\n",
        "if additional_layer:\n",
        "    model.add(LSTM(units=neurons, return_sequences=True))\n",
        "    model.add(Dropout(dropout))\n",
        "\n",
        "model.add(LSTM(units=neurons, return_sequences=False))\n",
        "model.add(Dropout(dropout))\n",
        "model.add(Dense(units=1, activation='linear'))\n",
        "model.compile(optimizer='adam', loss='mse')\n",
        "\n",
        "early_stop = EarlyStopping(monitor='val_loss', mode='min', verbose=1, patience=5)\n",
        "\n",
        "file_path = 'best_model.h5'\n",
        "\n",
        "model_check = ModelCheckpoint(file_path, monitor='val_loss', mode='min', verbose=1, save_best_only=True)\n",
        "\n",
        "model.fit(x_train, y_train, validation_split=0.3, epochs=40, batch_size=batch_size, callbacks=[early_stop, model_check], verbose=0)"
      ],
      "metadata": {
        "colab": {
          "base_uri": "https://localhost:8080/"
        },
        "id": "zLuF26-fZtca",
        "outputId": "8d58b98a-0e7d-4529-a05a-1c69416243ce"
      },
      "execution_count": 44,
      "outputs": [
        {
          "output_type": "stream",
          "name": "stdout",
          "text": [
            "\n",
            "Epoch 1: val_loss improved from inf to 0.01038, saving model to best_model.h5\n"
          ]
        },
        {
          "output_type": "stream",
          "name": "stderr",
          "text": [
            "/usr/local/lib/python3.10/dist-packages/keras/src/engine/training.py:3079: UserWarning: You are saving your model as an HDF5 file via `model.save()`. This file format is considered legacy. We recommend using instead the native Keras format, e.g. `model.save('my_model.keras')`.\n",
            "  saving_api.save_model(\n"
          ]
        },
        {
          "output_type": "stream",
          "name": "stdout",
          "text": [
            "\n",
            "Epoch 2: val_loss did not improve from 0.01038\n",
            "\n",
            "Epoch 3: val_loss did not improve from 0.01038\n",
            "\n",
            "Epoch 4: val_loss improved from 0.01038 to 0.00720, saving model to best_model.h5\n",
            "\n",
            "Epoch 5: val_loss did not improve from 0.00720\n",
            "\n",
            "Epoch 6: val_loss did not improve from 0.00720\n",
            "\n",
            "Epoch 7: val_loss did not improve from 0.00720\n",
            "\n",
            "Epoch 8: val_loss did not improve from 0.00720\n",
            "\n",
            "Epoch 9: val_loss did not improve from 0.00720\n",
            "Epoch 9: early stopping\n"
          ]
        },
        {
          "output_type": "execute_result",
          "data": {
            "text/plain": [
              "<keras.src.callbacks.History at 0x791578282110>"
            ]
          },
          "metadata": {},
          "execution_count": 44
        }
      ]
    },
    {
      "cell_type": "markdown",
      "source": [
        "**Evaluation metrics**"
      ],
      "metadata": {
        "id": "tkvjPw361uXM"
      }
    },
    {
      "cell_type": "code",
      "source": [
        "results = model.evaluate(x_test, y_test)\n",
        "print(\"test loss , test rmse :\", np.round(results, 4))"
      ],
      "metadata": {
        "colab": {
          "base_uri": "https://localhost:8080/"
        },
        "id": "veL9bjgjZtfQ",
        "outputId": "b9d561c5-3665-446c-f148-33d0bbc25c8d"
      },
      "execution_count": 59,
      "outputs": [
        {
          "output_type": "stream",
          "name": "stdout",
          "text": [
            "21/21 [==============================] - 0s 15ms/step - loss: 0.0045\n",
            "test loss , test rmse : 0.0045\n"
          ]
        }
      ]
    },
    {
      "cell_type": "code",
      "source": [
        "y_pred = model.predict(x_test)"
      ],
      "metadata": {
        "colab": {
          "base_uri": "https://localhost:8080/"
        },
        "id": "w9XR62JG0v8z",
        "outputId": "1a984bf9-debd-4b7c-ed61-f2ad34d64b0c"
      },
      "execution_count": 60,
      "outputs": [
        {
          "output_type": "stream",
          "name": "stdout",
          "text": [
            "21/21 [==============================] - 0s 11ms/step\n"
          ]
        }
      ]
    },
    {
      "cell_type": "code",
      "source": [
        "score = r2_score(y_test, y_pred)\n",
        "print(\"The accuracy of our model is {}%\".format(round(score, 2) *100))"
      ],
      "metadata": {
        "colab": {
          "base_uri": "https://localhost:8080/"
        },
        "id": "cTuEPSdj0wmN",
        "outputId": "f8e4edd3-f9ea-4d37-d48a-2d510ec649be"
      },
      "execution_count": 61,
      "outputs": [
        {
          "output_type": "stream",
          "name": "stdout",
          "text": [
            "The accuracy of our model is 61.0%\n"
          ]
        }
      ]
    },
    {
      "cell_type": "code",
      "source": [
        "score = mean_squared_error(y_test, y_pred)\n",
        "print(\"The Mean Squared Error of our Model is {}\".format(round(score, 4)))"
      ],
      "metadata": {
        "colab": {
          "base_uri": "https://localhost:8080/"
        },
        "id": "RvdSvytB0wpt",
        "outputId": "4f808b92-9f81-4ba8-9525-fc3923d2433b"
      },
      "execution_count": 62,
      "outputs": [
        {
          "output_type": "stream",
          "name": "stdout",
          "text": [
            "The Mean Squared Error of our Model is 0.0045\n"
          ]
        }
      ]
    },
    {
      "cell_type": "code",
      "source": [
        "score = np.sqrt(mean_squared_error(y_test, y_pred))\n",
        "print(\"The Root Mean Squared Error of our Model is {}\".format(round(score, 4)))"
      ],
      "metadata": {
        "colab": {
          "base_uri": "https://localhost:8080/"
        },
        "id": "SpY4AHb-0wtf",
        "outputId": "cca1373d-a5c0-4d98-eee6-7551972e12f5"
      },
      "execution_count": 63,
      "outputs": [
        {
          "output_type": "stream",
          "name": "stdout",
          "text": [
            "The Root Mean Squared Error of our Model is 0.0667\n"
          ]
        }
      ]
    },
    {
      "cell_type": "markdown",
      "source": [
        "**Generate Plots**"
      ],
      "metadata": {
        "id": "9sSo_46Y1ykG"
      }
    },
    {
      "cell_type": "code",
      "source": [
        "plt.figure(figsize=(16,8), dpi= 100, facecolor='w', edgecolor='k')\n",
        "\n",
        "plt.plot(y_test, color='red', label = 'Closing Price')\n",
        "plt.plot(y_pred, color='green', label = 'Predicted Closing Price')\n",
        "plt.legend(loc='best')\n",
        "plt.show()"
      ],
      "metadata": {
        "colab": {
          "base_uri": "https://localhost:8080/",
          "height": 676
        },
        "id": "R4jzPiEvQjfM",
        "outputId": "cdd56fe6-f7e5-476b-ff3b-9a379a2079f5"
      },
      "execution_count": 64,
      "outputs": [
        {
          "output_type": "display_data",
          "data": {
            "text/plain": [
              "<Figure size 1600x800 with 1 Axes>"
            ],
            "image/png": "[encoded data removed]"
          },
          "metadata": {}
        }
      ]
    },
    {
      "cell_type": "code",
      "source": [
        "data_x.shape, data_y.shape"
      ],
      "metadata": {
        "colab": {
          "base_uri": "https://localhost:8080/"
        },
        "id": "aFEG5U9BKj3I",
        "outputId": "2ee800a6-cb28-4a8a-93a4-948216a6a623"
      },
      "execution_count": 65,
      "outputs": [
        {
          "output_type": "execute_result",
          "data": {
            "text/plain": [
              "((3332, 25, 2), (3332, 1))"
            ]
          },
          "metadata": {},
          "execution_count": 65
        }
      ]
    },
    {
      "cell_type": "markdown",
      "source": [
        "**Generate Plots**"
      ],
      "metadata": {
        "id": "pDW184M918qA"
      }
    },
    {
      "cell_type": "code",
      "source": [
        "pred_data_y = model.predict(data_x)\n",
        "\n",
        "plt.figure(figsize=(16,8), dpi= 100, facecolor='w', edgecolor='k')\n",
        "\n",
        "plt.plot(data_y, color='red', label = 'Closing Price')\n",
        "plt.plot(pred_data_y, color='green', label = 'Predicted Closing Price')\n",
        "plt.legend(loc='best')\n",
        "plt.show()"
      ],
      "metadata": {
        "colab": {
          "base_uri": "https://localhost:8080/",
          "height": 693
        },
        "id": "nA0rVh99QooG",
        "outputId": "6ab25291-27ee-452c-94bc-578c6bb3e8a6"
      },
      "execution_count": 76,
      "outputs": [
        {
          "output_type": "stream",
          "name": "stdout",
          "text": [
            "105/105 [==============================] - 2s 15ms/step\n"
          ]
        },
        {
          "output_type": "display_data",
          "data": {
            "text/plain": [
              "<Figure size 1600x800 with 1 Axes>"
            ],
            "image/png": "[encoded data removed]"
          },
          "metadata": {}
        }
      ]
    },
    {
      "cell_type": "markdown",
      "source": [
        "**Inverting the Min-Max Scaler**"
      ],
      "metadata": {
        "id": "rcfs8Lxm9Ssj"
      }
    },
    {
      "cell_type": "code",
      "source": [
        "new_data = [list((i[0],0)) for i in data_y]\n",
        "data = scalar.inverse_transform(new_data)\n",
        "imp_data = [i for i, j in data]"
      ],
      "metadata": {
        "id": "Maz43jUsK0J-"
      },
      "execution_count": 67,
      "outputs": []
    },
    {
      "cell_type": "code",
      "source": [
        "imp_data[:5]"
      ],
      "metadata": {
        "colab": {
          "base_uri": "https://localhost:8080/"
        },
        "id": "duz-E5sERGjT",
        "outputId": "55e9abaf-b5b7-45d9-f61c-76cf96064dec"
      },
      "execution_count": 68,
      "outputs": [
        {
          "output_type": "execute_result",
          "data": {
            "text/plain": [
              "[378.549011, 390.414001, 400.869995, 394.77301, 382.556]"
            ]
          },
          "metadata": {},
          "execution_count": 68
        }
      ]
    },
    {
      "cell_type": "code",
      "source": [
        "new_data = [list((i[0],0)) for i in pred_data_y]\n",
        "data = scalar.inverse_transform(new_data)\n",
        "pred_imp_data = [i for i, j in data]"
      ],
      "metadata": {
        "id": "mMfyMJeaXjVe"
      },
      "execution_count": 69,
      "outputs": []
    },
    {
      "cell_type": "code",
      "source": [
        "pred_imp_data[:5]"
      ],
      "metadata": {
        "colab": {
          "base_uri": "https://localhost:8080/"
        },
        "id": "A2B96jMnRImB",
        "outputId": "ece4dbfd-2b66-4c12-988f-b631051b7d8e"
      },
      "execution_count": 70,
      "outputs": [
        {
          "output_type": "execute_result",
          "data": {
            "text/plain": [
              "[678.376350743237,\n",
              " 679.1764233945893,\n",
              " 680.851128338791,\n",
              " 683.3090860825594,\n",
              " 686.1215159266445]"
            ]
          },
          "metadata": {},
          "execution_count": 70
        }
      ]
    },
    {
      "cell_type": "code",
      "source": [
        "df = pd.DataFrame(imp_data, columns=['Close'])"
      ],
      "metadata": {
        "id": "BPR3Vd1UYoaO"
      },
      "execution_count": 71,
      "outputs": []
    },
    {
      "cell_type": "code",
      "source": [
        "df['Date']=list(dataframe.iloc[25:,0])"
      ],
      "metadata": {
        "id": "MyZu5V19PqcT"
      },
      "execution_count": 72,
      "outputs": []
    },
    {
      "cell_type": "code",
      "source": [
        "df['Pred Close'] = pred_imp_data"
      ],
      "metadata": {
        "id": "qGjb-Br-Q9gS"
      },
      "execution_count": 73,
      "outputs": []
    },
    {
      "cell_type": "code",
      "source": [
        "df.head()"
      ],
      "metadata": {
        "colab": {
          "base_uri": "https://localhost:8080/",
          "height": 206
        },
        "id": "cMgnEX68P0V0",
        "outputId": "9f16cbfe-92ad-4ab5-b041-8dc38102fddd"
      },
      "execution_count": 74,
      "outputs": [
        {
          "output_type": "execute_result",
          "data": {
            "text/plain": [
              "        Close       Date  Pred Close\n",
              "0  378.549011 2014-10-12  678.376351\n",
              "1  390.414001 2014-10-13  679.176423\n",
              "2  400.869995 2014-10-14  680.851128\n",
              "3  394.773010 2014-10-15  683.309086\n",
              "4  382.556000 2014-10-16  686.121516"
            ],
            "text/html": [
              "\n",
              "  <div id=\"df-68d3abd9-0bf7-4c66-91fa-476f5218012b\" class=\"colab-df-container\">\n",
              "    <div>\n",
              "<style scoped>\n",
              "    .dataframe tbody tr th:only-of-type {\n",
              "        vertical-align: middle;\n",
              "    }\n",
              "\n",
              "    .dataframe tbody tr th {\n",
              "        vertical-align: top;\n",
              "    }\n",
              "\n",
              "    .dataframe thead th {\n",
              "        text-align: right;\n",
              "    }\n",
              "</style>\n",
              "<table border=\"1\" class=\"dataframe\">\n",
              "  <thead>\n",
              "    <tr style=\"text-align: right;\">\n",
              "      <th></th>\n",
              "      <th>Close</th>\n",
              "      <th>Date</th>\n",
              "      <th>Pred Close</th>\n",
              "    </tr>\n",
              "  </thead>\n",
              "  <tbody>\n",
              "    <tr>\n",
              "      <th>0</th>\n",
              "      <td>378.549011</td>\n",
              "      <td>2014-10-12</td>\n",
              "      <td>678.376351</td>\n",
              "    </tr>\n",
              "    <tr>\n",
              "      <th>1</th>\n",
              "      <td>390.414001</td>\n",
              "      <td>2014-10-13</td>\n",
              "      <td>679.176423</td>\n",
              "    </tr>\n",
              "    <tr>\n",
              "      <th>2</th>\n",
              "      <td>400.869995</td>\n",
              "      <td>2014-10-14</td>\n",
              "      <td>680.851128</td>\n",
              "    </tr>\n",
              "    <tr>\n",
              "      <th>3</th>\n",
              "      <td>394.773010</td>\n",
              "      <td>2014-10-15</td>\n",
              "      <td>683.309086</td>\n",
              "    </tr>\n",
              "    <tr>\n",
              "      <th>4</th>\n",
              "      <td>382.556000</td>\n",
              "      <td>2014-10-16</td>\n",
              "      <td>686.121516</td>\n",
              "    </tr>\n",
              "  </tbody>\n",
              "</table>\n",
              "</div>\n",
              "    <div class=\"colab-df-buttons\">\n",
              "\n",
              "  <div class=\"colab-df-container\">\n",
              "    <button class=\"colab-df-convert\" onclick=\"convertToInteractive('df-68d3abd9-0bf7-4c66-91fa-476f5218012b')\"\n",
              "            title=\"Convert this dataframe to an interactive table.\"\n",
              "            style=\"display:none;\">\n",
              "\n",
              "  <svg xmlns=\"http://www.w3.org/2000/svg\" height=\"24px\" viewBox=\"0 -960 960 960\">\n",
              "    <path d=\"M120-120v-720h720v720H120Zm60-500h600v-160H180v160Zm220 220h160v-160H400v160Zm0 220h160v-160H400v160ZM180-400h160v-160H180v160Zm440 0h160v-160H620v160ZM180-180h160v-160H180v160Zm440 0h160v-160H620v160Z\"/>\n",
              "  </svg>\n",
              "    </button>\n",
              "\n",
              "  <style>\n",
              "    .colab-df-container {\n",
              "      display:flex;\n",
              "      gap: 12px;\n",
              "    }\n",
              "\n",
              "    .colab-df-convert {\n",
              "      background-color: #E8F0FE;\n",
              "      border: none;\n",
              "      border-radius: 50%;\n",
              "      cursor: pointer;\n",
              "      display: none;\n",
              "      fill: #1967D2;\n",
              "      height: 32px;\n",
              "      padding: 0 0 0 0;\n",
              "      width: 32px;\n",
              "    }\n",
              "\n",
              "    .colab-df-convert:hover {\n",
              "      background-color: #E2EBFA;\n",
              "      box-shadow: 0px 1px 2px rgba(60, 64, 67, 0.3), 0px 1px 3px 1px rgba(60, 64, 67, 0.15);\n",
              "      fill: #174EA6;\n",
              "    }\n",
              "\n",
              "    .colab-df-buttons div {\n",
              "      margin-bottom: 4px;\n",
              "    }\n",
              "\n",
              "    [theme=dark] .colab-df-convert {\n",
              "      background-color: #3B4455;\n",
              "      fill: #D2E3FC;\n",
              "    }\n",
              "\n",
              "    [theme=dark] .colab-df-convert:hover {\n",
              "      background-color: #434B5C;\n",
              "      box-shadow: 0px 1px 3px 1px rgba(0, 0, 0, 0.15);\n",
              "      filter: drop-shadow(0px 1px 2px rgba(0, 0, 0, 0.3));\n",
              "      fill: #FFFFFF;\n",
              "    }\n",
              "  </style>\n",
              "\n",
              "    <script>\n",
              "      const buttonEl =\n",
              "        document.querySelector('#df-68d3abd9-0bf7-4c66-91fa-476f5218012b button.colab-df-convert');\n",
              "      buttonEl.style.display =\n",
              "        google.colab.kernel.accessAllowed ? 'block' : 'none';\n",
              "\n",
              "      async function convertToInteractive(key) {\n",
              "        const element = document.querySelector('#df-68d3abd9-0bf7-4c66-91fa-476f5218012b');\n",
              "        const dataTable =\n",
              "          await google.colab.kernel.invokeFunction('convertToInteractive',\n",
              "                                                    [key], {});\n",
              "        if (!dataTable) return;\n",
              "\n",
              "        const docLinkHtml = 'Like what you see? Visit the ' +\n",
              "          '<a target=\"_blank\" href=https://colab.research.google.com/notebooks/data_table.ipynb>data table notebook</a>'\n",
              "          + ' to learn more about interactive tables.';\n",
              "        element.innerHTML = '';\n",
              "        dataTable['output_type'] = 'display_data';\n",
              "        await google.colab.output.renderOutput(dataTable, element);\n",
              "        const docLink = document.createElement('div');\n",
              "        docLink.innerHTML = docLinkHtml;\n",
              "        element.appendChild(docLink);\n",
              "      }\n",
              "    </script>\n",
              "  </div>\n",
              "\n",
              "\n",
              "<div id=\"df-f9719560-bc8d-4cc1-a4e0-1c6fe7bf296c\">\n",
              "  <button class=\"colab-df-quickchart\" onclick=\"quickchart('df-f9719560-bc8d-4cc1-a4e0-1c6fe7bf296c')\"\n",
              "            title=\"Suggest charts\"\n",
              "            style=\"display:none;\">\n",
              "\n",
              "<svg xmlns=\"http://www.w3.org/2000/svg\" height=\"24px\"viewBox=\"0 0 24 24\"\n",
              "     width=\"24px\">\n",
              "    <g>\n",
              "        <path d=\"M19 3H5c-1.1 0-2 .9-2 2v14c0 1.1.9 2 2 2h14c1.1 0 2-.9 2-2V5c0-1.1-.9-2-2-2zM9 17H7v-7h2v7zm4 0h-2V7h2v10zm4 0h-2v-4h2v4z\"/>\n",
              "    </g>\n",
              "</svg>\n",
              "  </button>\n",
              "\n",
              "<style>\n",
              "  .colab-df-quickchart {\n",
              "      --bg-color: #E8F0FE;\n",
              "      --fill-color: #1967D2;\n",
              "      --hover-bg-color: #E2EBFA;\n",
              "      --hover-fill-color: #174EA6;\n",
              "      --disabled-fill-color: #AAA;\n",
              "      --disabled-bg-color: #DDD;\n",
              "  }\n",
              "\n",
              "  [theme=dark] .colab-df-quickchart {\n",
              "      --bg-color: #3B4455;\n",
              "      --fill-color: #D2E3FC;\n",
              "      --hover-bg-color: #434B5C;\n",
              "      --hover-fill-color: #FFFFFF;\n",
              "      --disabled-bg-color: #3B4455;\n",
              "      --disabled-fill-color: #666;\n",
              "  }\n",
              "\n",
              "  .colab-df-quickchart {\n",
              "    background-color: var(--bg-color);\n",
              "    border: none;\n",
              "    border-radius: 50%;\n",
              "    cursor: pointer;\n",
              "    display: none;\n",
              "    fill: var(--fill-color);\n",
              "    height: 32px;\n",
              "    padding: 0;\n",
              "    width: 32px;\n",
              "  }\n",
              "\n",
              "  .colab-df-quickchart:hover {\n",
              "    background-color: var(--hover-bg-color);\n",
              "    box-shadow: 0 1px 2px rgba(60, 64, 67, 0.3), 0 1px 3px 1px rgba(60, 64, 67, 0.15);\n",
              "    fill: var(--button-hover-fill-color);\n",
              "  }\n",
              "\n",
              "  .colab-df-quickchart-complete:disabled,\n",
              "  .colab-df-quickchart-complete:disabled:hover {\n",
              "    background-color: var(--disabled-bg-color);\n",
              "    fill: var(--disabled-fill-color);\n",
              "    box-shadow: none;\n",
              "  }\n",
              "\n",
              "  .colab-df-spinner {\n",
              "    border: 2px solid var(--fill-color);\n",
              "    border-color: transparent;\n",
              "    border-bottom-color: var(--fill-color);\n",
              "    animation:\n",
              "      spin 1s steps(1) infinite;\n",
              "  }\n",
              "\n",
              "  @keyframes spin {\n",
              "    0% {\n",
              "      border-color: transparent;\n",
              "      border-bottom-color: var(--fill-color);\n",
              "      border-left-color: var(--fill-color);\n",
              "    }\n",
              "    20% {\n",
              "      border-color: transparent;\n",
              "      border-left-color: var(--fill-color);\n",
              "      border-top-color: var(--fill-color);\n",
              "    }\n",
              "    30% {\n",
              "      border-color: transparent;\n",
              "      border-left-color: var(--fill-color);\n",
              "      border-top-color: var(--fill-color);\n",
              "      border-right-color: var(--fill-color);\n",
              "    }\n",
              "    40% {\n",
              "      border-color: transparent;\n",
              "      border-right-color: var(--fill-color);\n",
              "      border-top-color: var(--fill-color);\n",
              "    }\n",
              "    60% {\n",
              "      border-color: transparent;\n",
              "      border-right-color: var(--fill-color);\n",
              "    }\n",
              "    80% {\n",
              "      border-color: transparent;\n",
              "      border-right-color: var(--fill-color);\n",
              "      border-bottom-color: var(--fill-color);\n",
              "    }\n",
              "    90% {\n",
              "      border-color: transparent;\n",
              "      border-bottom-color: var(--fill-color);\n",
              "    }\n",
              "  }\n",
              "</style>\n",
              "\n",
              "  <script>\n",
              "    async function quickchart(key) {\n",
              "      const quickchartButtonEl =\n",
              "        document.querySelector('#' + key + ' button');\n",
              "      quickchartButtonEl.disabled = true;  // To prevent multiple clicks.\n",
              "      quickchartButtonEl.classList.add('colab-df-spinner');\n",
              "      try {\n",
              "        const charts = await google.colab.kernel.invokeFunction(\n",
              "            'suggestCharts', [key], {});\n",
              "      } catch (error) {\n",
              "        console.error('Error during call to suggestCharts:', error);\n",
              "      }\n",
              "      quickchartButtonEl.classList.remove('colab-df-spinner');\n",
              "      quickchartButtonEl.classList.add('colab-df-quickchart-complete');\n",
              "    }\n",
              "    (() => {\n",
              "      let quickchartButtonEl =\n",
              "        document.querySelector('#df-f9719560-bc8d-4cc1-a4e0-1c6fe7bf296c button');\n",
              "      quickchartButtonEl.style.display =\n",
              "        google.colab.kernel.accessAllowed ? 'block' : 'none';\n",
              "    })();\n",
              "  </script>\n",
              "</div>\n",
              "    </div>\n",
              "  </div>\n"
            ]
          },
          "metadata": {},
          "execution_count": 74
        }
      ]
    },
    {
      "cell_type": "markdown",
      "source": [
        "**Generate Plots**"
      ],
      "metadata": {
        "id": "yey4BD2J1-YY"
      }
    },
    {
      "cell_type": "code",
      "source": [
        "plt.figure(figsize=(14,6), dpi= 100, facecolor='w', edgecolor='k')\n",
        "\n",
        "plt.plot(df['Date'], df['Close'], color='red', label = 'Closing Price')\n",
        "plt.plot(df['Date'], df['Pred Close'], color='blue', label = 'Predicted Closing Price')\n",
        "plt.xlabel('Date')\n",
        "plt.ylabel('USD')\n",
        "plt.title(\"Closing Price Prediction\")\n",
        "plt.legend(loc='best')\n",
        "plt.show()"
      ],
      "metadata": {
        "colab": {
          "base_uri": "https://localhost:8080/",
          "height": 564
        },
        "id": "kRqZvEAsY3-u",
        "outputId": "7da5b5d6-6d03-4326-f9de-dc8d802aff0d"
      },
      "execution_count": 75,
      "outputs": [
        {
          "output_type": "display_data",
          "data": {
            "text/plain": [
              "<Figure size 1400x600 with 1 Axes>"
            ],
            "image/png": "[encoded data removed]"
          },
          "metadata": {}
        }
      ]
    },
    {
      "cell_type": "code",
      "source": [],
      "metadata": {
        "id": "2Zj7ZMTYZQfH"
      },
      "execution_count": 47,
      "outputs": []
    },
    {
      "cell_type": "code",
      "source": [],
      "metadata": {
        "id": "sOtxpprHZo8A"
      },
      "execution_count": 47,
      "outputs": []
    }
  ]
}